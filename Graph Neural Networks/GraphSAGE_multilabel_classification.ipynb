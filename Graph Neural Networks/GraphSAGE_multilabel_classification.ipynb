{
  "nbformat": 4,
  "nbformat_minor": 0,
  "metadata": {
    "colab": {
      "provenance": [],
      "gpuType": "T4"
    },
    "kernelspec": {
      "name": "python3",
      "display_name": "Python 3"
    },
    "language_info": {
      "name": "python"
    },
    "accelerator": "GPU"
  },
  "cells": [
    {
      "cell_type": "markdown",
      "source": [
        "## Multilabel classification on Protein-Protein Interaction with GraphSAGE"
      ],
      "metadata": {
        "id": "2QgFV-wz3Ate"
      }
    },
    {
      "cell_type": "code",
      "execution_count": 2,
      "metadata": {
        "id": "wl9d4goF2f0H"
      },
      "outputs": [],
      "source": [
        "import torch\n",
        "!pip install -qU torch-scatter~=2.1.0 torch-sparse~=0.6.16 torch-cluster~=1.6.0 torch-spline-conv~=1.2.1 torch-geometric==2.2.0 -f https://data.pyg.org/whl/torch-{torch.__version__}.html\n",
        "\n",
        "torch.manual_seed(42)\n",
        "torch.cuda.manual_seed(42)\n",
        "torch.cuda.manual_seed_all(42)\n",
        "torch.backends.cudnn.deterministic = True\n",
        "torch.backends.cudnn.benchmark = False"
      ]
    },
    {
      "cell_type": "code",
      "source": [
        "import torch\n",
        "from sklearn.metrics import f1_score\n",
        "\n",
        "from torch_geometric.datasets import PPI\n",
        "from torch_geometric.data import Batch\n",
        "from torch_geometric.loader import DataLoader, NeighborLoader\n",
        "from torch_geometric.nn import GraphSAGE\n",
        "from torch_geometric.loader import NeighborLoader\n",
        "from torch_geometric.utils import to_networkx\n",
        "\n",
        "import numpy as np\n",
        "import networkx as nx\n",
        "import matplotlib.pyplot as plt\n",
        "\n",
        "device = torch.device('cuda' if torch.cuda.is_available() else 'cpu')"
      ],
      "metadata": {
        "id": "tgB8ghq92jor"
      },
      "execution_count": 3,
      "outputs": []
    },
    {
      "cell_type": "code",
      "source": [
        "# Load training, validation, and test sets\n",
        "train_dataset = PPI(root=\".\", split='train')\n",
        "val_dataset = PPI(root=\".\", split='val')\n",
        "test_dataset = PPI(root=\".\", split='test')"
      ],
      "metadata": {
        "colab": {
          "base_uri": "https://localhost:8080/"
        },
        "id": "xQq4ijvx3S8Z",
        "outputId": "4772ac4b-f8b9-48bd-ac46-f93e831170a8"
      },
      "execution_count": 4,
      "outputs": [
        {
          "output_type": "stream",
          "name": "stderr",
          "text": [
            "Downloading https://data.dgl.ai/dataset/ppi.zip\n",
            "Extracting ./ppi.zip\n",
            "Processing...\n",
            "Done!\n"
          ]
        }
      ]
    },
    {
      "cell_type": "code",
      "source": [
        "# Unify the training graphs and apply neighbor sampling\n",
        "train_data = Batch.from_data_list(train_dataset)\n",
        "train_loader = NeighborLoader(train_data, batch_size=2048,\n",
        "                              shuffle=True, num_neighbors=[20, 10],\n",
        "                              num_workers=2, persistent_workers=True)\n"
      ],
      "metadata": {
        "id": "EN8DJDN73bHs"
      },
      "execution_count": 12,
      "outputs": []
    },
    {
      "cell_type": "code",
      "source": [
        "# Validation and test loaders (one datapoint corresponds to a graph)\n",
        "val_loader = DataLoader(val_dataset, batch_size=2)\n",
        "test_loader = DataLoader(test_dataset, batch_size=2)"
      ],
      "metadata": {
        "id": "LeYzOKWu3sZ8"
      },
      "execution_count": 13,
      "outputs": []
    },
    {
      "cell_type": "code",
      "source": [
        "# Setup the GraphSAGE model\n",
        "model = GraphSAGE(\n",
        "    in_channels=train_dataset.num_features,\n",
        "    hidden_channels=512,\n",
        "    num_layers=2,\n",
        "    out_channels=train_dataset.num_classes).to(device)\n",
        "\n",
        "model"
      ],
      "metadata": {
        "colab": {
          "base_uri": "https://localhost:8080/"
        },
        "id": "c-3jbiH_39xt",
        "outputId": "8e356b4c-ab69-4d85-852b-e7618df3266a"
      },
      "execution_count": 14,
      "outputs": [
        {
          "output_type": "execute_result",
          "data": {
            "text/plain": [
              "GraphSAGE(50, 121, num_layers=2)"
            ]
          },
          "metadata": {},
          "execution_count": 14
        }
      ]
    },
    {
      "cell_type": "code",
      "source": [
        "loss_fn = torch.nn.BCEWithLogitsLoss()\n",
        "optimizer = torch.optim.Adam(model.parameters(), lr=0.005)"
      ],
      "metadata": {
        "id": "P_VzsA8c4Yb-"
      },
      "execution_count": 15,
      "outputs": []
    },
    {
      "cell_type": "code",
      "source": [
        "def fit(loader):\n",
        "    model.train()\n",
        "\n",
        "    total_loss = 0\n",
        "    for data in loader:\n",
        "        data = data.to(device)\n",
        "        optimizer.zero_grad()\n",
        "        out = model(data.x, data.edge_index)\n",
        "        loss = loss_fn(out, data.y)\n",
        "        total_loss += loss.item() * data.num_graphs\n",
        "        loss.backward()\n",
        "        optimizer.step()\n",
        "    return total_loss / len(loader.data)\n",
        "\n",
        "@torch.no_grad()\n",
        "def test(loader):\n",
        "    model.eval()\n",
        "\n",
        "    data = next(iter(loader))\n",
        "    out = model(data.x.to(device), data.edge_index.to(device))\n",
        "    preds = (out > 0).float().cpu()\n",
        "\n",
        "    y, pred = data.y.numpy(), preds.numpy()\n",
        "    return f1_score(y, pred, average='micro') if pred.sum() > 0 else 0"
      ],
      "metadata": {
        "id": "j4j_YnIP4onC"
      },
      "execution_count": 16,
      "outputs": []
    },
    {
      "cell_type": "code",
      "source": [
        "for epoch in range(301):\n",
        "    loss = fit(train_loader)\n",
        "    val_f1 = test(val_loader)\n",
        "    if epoch % 50 == 0:\n",
        "        print(f'Epoch {epoch:>3} | Train Loss: {loss:.3f} | Val F1-score: {val_f1:.4f}')\n",
        "\n",
        "print(f'Test F1-score: {test(test_loader):.4f}')"
      ],
      "metadata": {
        "colab": {
          "base_uri": "https://localhost:8080/"
        },
        "id": "6TUYS_tJ5slf",
        "outputId": "b1e10fc0-6919-453d-b873-cef79b09cf98"
      },
      "execution_count": 17,
      "outputs": [
        {
          "output_type": "stream",
          "name": "stdout",
          "text": [
            "Epoch   0 | Train Loss: 12.700 | Val F1-score: 0.4963\n",
            "Epoch  50 | Train Loss: 8.742 | Val F1-score: 0.7970\n",
            "Epoch 100 | Train Loss: 8.604 | Val F1-score: 0.8145\n",
            "Epoch 150 | Train Loss: 8.544 | Val F1-score: 0.8197\n",
            "Epoch 200 | Train Loss: 8.502 | Val F1-score: 0.8234\n",
            "Epoch 250 | Train Loss: 8.464 | Val F1-score: 0.8277\n",
            "Epoch 300 | Train Loss: 8.440 | Val F1-score: 0.8269\n",
            "Test F1-score: 0.8505\n"
          ]
        }
      ]
    },
    {
      "cell_type": "code",
      "source": [],
      "metadata": {
        "id": "knxpB9iC5xut"
      },
      "execution_count": null,
      "outputs": []
    }
  ]
}