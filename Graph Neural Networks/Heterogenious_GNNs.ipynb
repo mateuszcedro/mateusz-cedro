{
  "nbformat": 4,
  "nbformat_minor": 0,
  "metadata": {
    "colab": {
      "provenance": []
    },
    "kernelspec": {
      "name": "python3",
      "display_name": "Python 3"
    },
    "language_info": {
      "name": "python"
    }
  },
  "cells": [
    {
      "cell_type": "code",
      "execution_count": 1,
      "metadata": {
        "colab": {
          "base_uri": "https://localhost:8080/"
        },
        "id": "vem1eZ5GklJU",
        "outputId": "01226771-4463-4658-aed6-d3ec0fd3d980"
      },
      "outputs": [
        {
          "output_type": "stream",
          "name": "stdout",
          "text": [
            "\u001b[2K     \u001b[90m━━━━━━━━━━━━━━━━━━━━━━━━━━━━━━━━━━━━━━━━\u001b[0m \u001b[32m10.9/10.9 MB\u001b[0m \u001b[31m26.3 MB/s\u001b[0m eta \u001b[36m0:00:00\u001b[0m\n",
            "\u001b[2K     \u001b[90m━━━━━━━━━━━━━━━━━━━━━━━━━━━━━━━━━━━━━━━━\u001b[0m \u001b[32m5.0/5.0 MB\u001b[0m \u001b[31m54.9 MB/s\u001b[0m eta \u001b[36m0:00:00\u001b[0m\n",
            "\u001b[2K     \u001b[90m━━━━━━━━━━━━━━━━━━━━━━━━━━━━━━━━━━━━━━━━\u001b[0m \u001b[32m3.4/3.4 MB\u001b[0m \u001b[31m50.8 MB/s\u001b[0m eta \u001b[36m0:00:00\u001b[0m\n",
            "\u001b[2K     \u001b[90m━━━━━━━━━━━━━━━━━━━━━━━━━━━━━━━━━━━━━━━━\u001b[0m \u001b[32m943.4/943.4 kB\u001b[0m \u001b[31m35.1 MB/s\u001b[0m eta \u001b[36m0:00:00\u001b[0m\n",
            "\u001b[2K     \u001b[90m━━━━━━━━━━━━━━━━━━━━━━━━━━━━━━━━━━━━━━━━\u001b[0m \u001b[32m565.0/565.0 kB\u001b[0m \u001b[31m3.6 MB/s\u001b[0m eta \u001b[36m0:00:00\u001b[0m\n",
            "\u001b[?25h  Preparing metadata (setup.py) ... \u001b[?25l\u001b[?25hdone\n",
            "  Building wheel for torch-geometric (setup.py) ... \u001b[?25l\u001b[?25hdone\n"
          ]
        }
      ],
      "source": [
        "import torch\n",
        "!pip install -q torch-scatter~=2.1.0 torch-sparse~=0.6.16 torch-cluster~=1.6.0 torch-spline-conv~=1.2.1 torch-geometric==2.2.0 -f https://data.pyg.org/whl/torch-{torch.__version__}.html\n",
        "\n",
        "torch.manual_seed(42)\n",
        "torch.cuda.manual_seed(42)\n",
        "torch.cuda.manual_seed_all(42)\n",
        "torch.backends.cudnn.deterministic = True\n",
        "torch.backends.cudnn.benchmark = False"
      ]
    },
    {
      "cell_type": "code",
      "source": [
        "from torch import nn\n",
        "from torch_geometric.nn import MessagePassing\n",
        "from torch_geometric.utils import add_self_loops, degree"
      ],
      "metadata": {
        "id": "nUBwrxugkq5s"
      },
      "execution_count": 10,
      "outputs": []
    },
    {
      "cell_type": "code",
      "source": [
        "class GCNConv(MessagePassing):\n",
        "  def __init__(self, dim_in, hidden):\n",
        "    super().__init__(aggr='add')\n",
        "    self.linear = nn.Linear(dim_in, hidden, bias=False)\n",
        "\n",
        "  def forward(self, x, edge_index):\n",
        "    edge_index, _ = add_self_loops(edge_index, num_nudes=x.size(0))\n",
        "    x = self.linear(x)\n",
        "    row, col = edge_index\n",
        "    deg = degree(col, x.size(0), dtype=x.dtype)\n",
        "    deg_inv_sqrt = deg.pow(-0.5)\n",
        "    deg_inv_sqrt[deg_inv_sqrt == float('inf')] = 0\n",
        "    norm = deg_inv_sqrt[row] * deg_inv_sqrt[col]\n",
        "\n",
        "    out = self.propagete(edge_index, x=x, norm=norm)\n",
        "    return out\n",
        "\n",
        "  def message(self, x, norm):\n",
        "    return norm.view(-1, 1) * x"
      ],
      "metadata": {
        "id": "cF8YjQlBk29c"
      },
      "execution_count": 13,
      "outputs": []
    },
    {
      "cell_type": "code",
      "source": [
        "conv = GCNConv(16, 32)"
      ],
      "metadata": {
        "id": "Fmukbj7ZmoNW"
      },
      "execution_count": 17,
      "outputs": []
    },
    {
      "cell_type": "markdown",
      "source": [
        "## Heterogenious Graphs"
      ],
      "metadata": {
        "id": "q07uVZDamste"
      }
    },
    {
      "cell_type": "code",
      "source": [
        "from torch_geometric.data import HeteroData\n",
        "\n",
        "data = HeteroData()\n",
        "\n",
        "data['user'].x = torch.Tensor([[1, 1, 1, 1], [2, 2, 2, 2], [3, 3, 3, 3]]) # feature vectors for user 1, 2, and 3: [num_users, num_features_users]\n",
        "data['game'].x = torch.Tensor([[1, 1], [2, 2]]) # feature vectors for games\n",
        "data['dev'].x = torch.Tensor([[1], [2]]) # feature vectors for devs\n",
        "\n",
        "data['user', 'follows', 'user'].edge_index = torch.Tensor([[0, 1], [1, 2]]) # [2, num_edges_follows]\n",
        "data['user', 'plays', 'game'].edge_index = torch.Tensor([[0, 1, 1, 2], [0, 0, 1, 1]])\n",
        "data['dev', 'develops', 'game'].edge_index = torch.Tensor([[0, 1], [0, 1]])\n",
        "\n",
        "data['user', 'plays', 'game'].edge_attr = torch.Tensor([[2], [0.5], [10], [12]])\n",
        "\n",
        "data"
      ],
      "metadata": {
        "colab": {
          "base_uri": "https://localhost:8080/"
        },
        "id": "Pk6qQuRnx-7F",
        "outputId": "fb2cbf4f-5033-4826-baca-284ababb8e86"
      },
      "execution_count": 21,
      "outputs": [
        {
          "output_type": "execute_result",
          "data": {
            "text/plain": [
              "HeteroData(\n",
              "  \u001b[1muser\u001b[0m={ x=[3, 4] },\n",
              "  \u001b[1mgame\u001b[0m={ x=[2, 2] },\n",
              "  \u001b[1mdev\u001b[0m={ x=[2, 1] },\n",
              "  \u001b[1m(user, follows, user)\u001b[0m={ edge_index=[2, 2] },\n",
              "  \u001b[1m(user, plays, game)\u001b[0m={\n",
              "    edge_index=[2, 4],\n",
              "    edge_attr=[4, 1]\n",
              "  },\n",
              "  \u001b[1m(dev, develops, game)\u001b[0m={ edge_index=[2, 2] }\n",
              ")"
            ]
          },
          "metadata": {},
          "execution_count": 21
        }
      ]
    },
    {
      "cell_type": "markdown",
      "source": [
        "## Classic GAT"
      ],
      "metadata": {
        "id": "WbIXE9l13Cmf"
      }
    },
    {
      "cell_type": "code",
      "source": [
        "from torch import nn\n",
        "import torch.nn.functional as F\n",
        "\n",
        "import torch_geometric.transforms as T\n",
        "from torch_geometric.datasets import DBLP\n",
        "from torch_geometric.nn import GAT"
      ],
      "metadata": {
        "id": "WV4loGHdyFUZ"
      },
      "execution_count": 22,
      "outputs": []
    },
    {
      "cell_type": "code",
      "source": [
        "# define meta-path\n",
        "metapaths = [[('author', 'paper'), ('paper', 'author')]]\n",
        "\n",
        "# declare transform function\n",
        "transform = T.AddMetaPaths(metapaths=metapaths, drop_orig_edge_types=True)\n",
        "\n",
        "# load DBLP dataset\n",
        "dataset = DBLP('.', transform=transform)\n",
        "data = dataset[0]\n",
        "print(data)"
      ],
      "metadata": {
        "colab": {
          "base_uri": "https://localhost:8080/"
        },
        "id": "ZeXD4plS3Fhw",
        "outputId": "234f05cd-8292-4094-b382-64fadc9169c6"
      },
      "execution_count": 26,
      "outputs": [
        {
          "output_type": "stream",
          "name": "stderr",
          "text": [
            "Downloading https://www.dropbox.com/s/yh4grpeks87ugr2/DBLP_processed.zip?dl=1\n",
            "Extracting ./raw/DBLP_processed.zip\n",
            "Processing...\n",
            "Done!\n"
          ]
        },
        {
          "output_type": "stream",
          "name": "stdout",
          "text": [
            "HeteroData(\n",
            "  metapath_dict={ (author, metapath_0, author)=[2] },\n",
            "  \u001b[1mauthor\u001b[0m={\n",
            "    x=[4057, 334],\n",
            "    y=[4057],\n",
            "    train_mask=[4057],\n",
            "    val_mask=[4057],\n",
            "    test_mask=[4057]\n",
            "  },\n",
            "  \u001b[1mpaper\u001b[0m={ x=[14328, 4231] },\n",
            "  \u001b[1mterm\u001b[0m={ x=[7723, 50] },\n",
            "  \u001b[1mconference\u001b[0m={ num_nodes=20 },\n",
            "  \u001b[1m(author, metapath_0, author)\u001b[0m={ edge_index=[2, 11113] }\n",
            ")\n"
          ]
        },
        {
          "output_type": "stream",
          "name": "stderr",
          "text": [
            "/usr/local/lib/python3.10/dist-packages/torch_sparse/matmul.py:97: UserWarning: Sparse CSR tensor support is in beta state. If you miss a functionality in the sparse tensor support, please submit a feature request to https://github.com/pytorch/pytorch/issues. (Triggered internally at ../aten/src/ATen/SparseCsrTensorImpl.cpp:53.)\n",
            "  C = torch.sparse.mm(A, B)\n"
          ]
        }
      ]
    },
    {
      "cell_type": "code",
      "source": [
        "# model\n",
        "model = GAT(in_channels=-1, hidden_channels=64, out_channels=4, num_layers=1)\n",
        "\n",
        "optimizer = torch.optim.Adam(model.parameters(), lr=0.01, weight_decay=0.001)\n",
        "\n",
        "device = torch.device('cuda' if torch.cuda.is_available() else 'cpu')\n",
        "data, model = data.to(device), model.to(device)\n",
        "\n",
        "@torch.inference_mode()\n",
        "def test(mask):\n",
        "  model.eval()\n",
        "  pred = model(data.x_dict['author'], data.edge_index_dict[('author', 'metapath_0', 'author')]).argmax(dim=-1)\n",
        "  acc = (pred[mask] == data['author'].y[mask]).sum() / mask.sum()\n",
        "  return float(acc)\n",
        "\n",
        "for epoch in range(101):\n",
        "  model.train()\n",
        "  optimizer.zero_grad()\n",
        "  out = model(data.x_dict['author'], data.edge_index_dict[('author', 'metapath_0', 'author')])\n",
        "  mask = data['author'].train_mask\n",
        "  loss = F.cross_entropy(out[mask], data['author'].y[mask])\n",
        "  loss.backward()\n",
        "  optimizer.step()\n",
        "\n",
        "  if epoch % 20 == 0:\n",
        "    train_acc = test(data['author'].train_mask)\n",
        "    val_acc = test(data['author'].val_mask)\n",
        "    print(f'Epoch: {epoch:>3} | Train Loss:'\n",
        "    f'{loss:.4f} | Train Acc: {train_acc*100:.2f}% | Val Acc: '\n",
        "    f'{val_acc*100:.2f}%')\n",
        "\n",
        "test_acc = test(data['author'].test_mask)\n",
        "print(f'Test accuracy: {test_acc*100:.2f}%')"
      ],
      "metadata": {
        "colab": {
          "base_uri": "https://localhost:8080/"
        },
        "id": "cxyoqt3W32jk",
        "outputId": "c60a6b9d-a25b-4791-acf1-ac62778b0b56"
      },
      "execution_count": 27,
      "outputs": [
        {
          "output_type": "stream",
          "name": "stdout",
          "text": [
            "Epoch:   0 | Train Loss:1.3856 | Train Acc: 41.00% | Val Acc: 33.75%\n",
            "Epoch:  20 | Train Loss:0.6273 | Train Acc: 87.75% | Val Acc: 75.50%\n",
            "Epoch:  40 | Train Loss:0.4015 | Train Acc: 93.50% | Val Acc: 76.25%\n",
            "Epoch:  60 | Train Loss:0.3031 | Train Acc: 95.75% | Val Acc: 75.75%\n",
            "Epoch:  80 | Train Loss:0.2482 | Train Acc: 97.25% | Val Acc: 77.00%\n",
            "Epoch: 100 | Train Loss:0.2129 | Train Acc: 98.50% | Val Acc: 75.75%\n",
            "Test accuracy: 77.03%\n"
          ]
        }
      ]
    },
    {
      "cell_type": "markdown",
      "source": [
        "## Heterogenious GAT"
      ],
      "metadata": {
        "id": "D-2MHbEY7Eet"
      }
    },
    {
      "cell_type": "code",
      "source": [
        "from torch_geometric.nn import GATConv, Linear, to_hetero\n",
        "from torch import nn\n",
        "\n",
        "dataset = DBLP(root='.')\n",
        "data = dataset[0]\n",
        "\n",
        "data['conference'].x = torch.zeros(20, 1)"
      ],
      "metadata": {
        "id": "xqp7ZfBf9ks4"
      },
      "execution_count": 29,
      "outputs": []
    },
    {
      "cell_type": "code",
      "source": [
        "# Heterogenious GAT\n",
        "\n",
        "class GAT(nn.Module):\n",
        "  def __init__(self, hidden, dim_out):\n",
        "    super().__init__()\n",
        "    self.conv = GATConv((-1, -1), hidden, add_self_loops=False)\n",
        "    self.linear = nn.Linear(hidden, dim_out)\n",
        "\n",
        "  def forward(self, x, edge_index):\n",
        "    h = self.conv(x, edge_index).relu()\n",
        "    h = self.linear(h)\n",
        "    return h"
      ],
      "metadata": {
        "id": "bCbFEDUL-QgQ"
      },
      "execution_count": 36,
      "outputs": []
    },
    {
      "cell_type": "code",
      "source": [
        "model = GAT(hidden=64, dim_out=4)\n",
        "model = to_hetero(model, data.metadata(), aggr='sum')\n",
        "\n",
        "optimizer = torch.optim.Adam(model.parameters(), lr=0.001, weight_decay=0.001)\n",
        "device = torch.device('cuda' if torch.cuda.is_available() else 'cpu')\n",
        "data, model = data.to(device), model.to(device)"
      ],
      "metadata": {
        "id": "nHf5sAKe_JXM"
      },
      "execution_count": 38,
      "outputs": []
    },
    {
      "cell_type": "code",
      "source": [
        "@torch.inference_mode()\n",
        "def test(mask):\n",
        "  model.eval()\n",
        "  pred = model(data.x_dict, data.edge_index_dict)['author'].argmax(dim=-1)\n",
        "  acc = (pred[mask] == data['author'].y[mask]).sum() / mask.sum()\n",
        "  return float(acc)"
      ],
      "metadata": {
        "id": "85Ef9ypA_tFQ"
      },
      "execution_count": 39,
      "outputs": []
    },
    {
      "cell_type": "code",
      "source": [
        "for epoch in range(101):\n",
        "  model.train()\n",
        "  optimizer.zero_grad()\n",
        "  out = model(data.x_dict, data.edge_index_dict)['author']\n",
        "  mask = data['author'].train_mask\n",
        "  loss = F.cross_entropy(out[mask], data['author'].y[mask])\n",
        "  loss.backward()\n",
        "  optimizer.step()\n",
        "\n",
        "  if epoch % 20 == 0:\n",
        "    train_acc = test(data['author'].train_mask)\n",
        "    val_acc = test(data['author'].val_mask)\n",
        "    print(f'Epoch: {epoch:>3} | Train Loss:'\n",
        "    f'{loss:.4f} | Train Acc: {train_acc*100:.2f}% | Val Acc:'\n",
        "    f'{val_acc*100:.2f}%')\n",
        "\n",
        "test_acc = test(data['author'].test_mask)\n",
        "print(f'Test accuracy: {test_acc*100:.2f}%')"
      ],
      "metadata": {
        "colab": {
          "base_uri": "https://localhost:8080/"
        },
        "id": "PRaj1uX3BEYM",
        "outputId": "48018b9f-69e8-4d56-b2d1-b7d03492985d"
      },
      "execution_count": 40,
      "outputs": [
        {
          "output_type": "stream",
          "name": "stdout",
          "text": [
            "Epoch:   0 | Train Loss:1.3870 | Train Acc: 37.50% | Val Acc:27.75%\n",
            "Epoch:  20 | Train Loss:1.1953 | Train Acc: 92.50% | Val Acc:66.50%\n",
            "Epoch:  40 | Train Loss:0.8572 | Train Acc: 97.00% | Val Acc:70.50%\n",
            "Epoch:  60 | Train Loss:0.5095 | Train Acc: 99.00% | Val Acc:74.00%\n",
            "Epoch:  80 | Train Loss:0.2721 | Train Acc: 99.50% | Val Acc:75.25%\n",
            "Epoch: 100 | Train Loss:0.1540 | Train Acc: 100.00% | Val Acc:76.50%\n",
            "Test accuracy: 78.17%\n"
          ]
        }
      ]
    },
    {
      "cell_type": "markdown",
      "source": [
        "## HAN - Hierarchical Self-Attention Network"
      ],
      "metadata": {
        "id": "6eMHU-IpBoPD"
      }
    },
    {
      "cell_type": "code",
      "source": [
        "from torch_geometric.nn import HANConv\n",
        "\n",
        "dataset = DBLP('.')\n",
        "data = dataset[0]\n",
        "data['conference'].x = torch.zeros(20, 1)\n",
        "\n",
        "class HAN(nn.Module):\n",
        "  def __init__(self, dim_in, dim_out, hidden=128, heads=8):\n",
        "    super().__init__()\n",
        "    self.han = HANConv(dim_in, hidden, heads=heads, dropout=0.6, metadata=data.metadata())\n",
        "    self.linear = nn.Linear(hidden, dim_out)\n",
        "\n",
        "  def forward(self, x_dict, edge_index_dict):\n",
        "    out = self.han(x_dict, edge_index_dict)\n",
        "    out = self.linear(out['author'])\n",
        "    return out\n",
        "\n",
        "model = HAN(dim_in=-1, dim_out=4)\n",
        "\n",
        "optimizer = torch.optim.Adam(model.parameters(), lr=0.001, weight_decay=0.001)\n",
        "device = torch.device('cuda' if torch.cuda.is_available() else 'cpu')\n",
        "data, model = data.to(device), model.to(device)\n",
        "\n",
        "@torch.inference_mode()\n",
        "def test(mask):\n",
        "  model.eval()\n",
        "  pred = model(data.x_dict, data.edge_index_dict).argmax(dim=-1)\n",
        "  acc = (pred[mask] == data['author'].y[mask]).sum() / mask.sum()\n",
        "  return float(acc)"
      ],
      "metadata": {
        "id": "fEV309rPCdeg"
      },
      "execution_count": 45,
      "outputs": []
    },
    {
      "cell_type": "code",
      "source": [
        "for epoch in range(101):\n",
        "  model.train()\n",
        "  optimizer.zero_grad()\n",
        "  out = model(data.x_dict, data.edge_index_dict)\n",
        "  mask = data['author'].train_mask\n",
        "  loss = F.cross_entropy(out[mask], data['author'].y[mask])\n",
        "  loss.backward()\n",
        "  optimizer.step()\n",
        "\n",
        "  if epoch % 20 == 0:\n",
        "    train_acc = test(data['author'].train_mask)\n",
        "    val_acc = test(data['author'].val_mask)\n",
        "    print(f'Epoch: {epoch:>3} | Train Loss:'\n",
        "    f'{loss:.4f} | Train Acc: {train_acc*100:.2f}% | Val Acc:'\n",
        "    f'{val_acc*100:.2f}%')"
      ],
      "metadata": {
        "colab": {
          "base_uri": "https://localhost:8080/"
        },
        "id": "NLrPUlBTHKnZ",
        "outputId": "ced2f5f4-c231-4ef7-db29-b5b17a37797d"
      },
      "execution_count": 46,
      "outputs": [
        {
          "output_type": "stream",
          "name": "stdout",
          "text": [
            "Epoch:   0 | Train Loss:1.3845 | Train Acc: 30.50% | Val Acc:26.25%\n",
            "Epoch:  20 | Train Loss:1.1468 | Train Acc: 88.75% | Val Acc:66.25%\n",
            "Epoch:  40 | Train Loss:0.7809 | Train Acc: 94.75% | Val Acc:70.00%\n",
            "Epoch:  60 | Train Loss:0.4769 | Train Acc: 97.75% | Val Acc:75.25%\n",
            "Epoch:  80 | Train Loss:0.3045 | Train Acc: 99.00% | Val Acc:78.50%\n",
            "Epoch: 100 | Train Loss:0.2151 | Train Acc: 99.75% | Val Acc:79.00%\n"
          ]
        }
      ]
    },
    {
      "cell_type": "code",
      "source": [
        "test_acc = test(data['author'].test_mask)\n",
        "print(f'Test accuracy: {test_acc*100:.2f}%')"
      ],
      "metadata": {
        "colab": {
          "base_uri": "https://localhost:8080/"
        },
        "id": "29zH8_87HrSo",
        "outputId": "f779724d-4b04-4006-a28a-a46c6a9061ad"
      },
      "execution_count": 47,
      "outputs": [
        {
          "output_type": "stream",
          "name": "stdout",
          "text": [
            "Test accuracy: 81.52%\n"
          ]
        }
      ]
    }
  ]
}