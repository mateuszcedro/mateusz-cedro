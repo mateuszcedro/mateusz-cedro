{
  "nbformat": 4,
  "nbformat_minor": 0,
  "metadata": {
    "colab": {
      "provenance": []
    },
    "kernelspec": {
      "name": "python3",
      "display_name": "Python 3"
    },
    "language_info": {
      "name": "python"
    }
  },
  "cells": [
    {
      "cell_type": "code",
      "execution_count": 1,
      "metadata": {
        "colab": {
          "base_uri": "https://localhost:8080/"
        },
        "id": "lGfCtob4gK70",
        "outputId": "a3b199fa-b269-4dac-a5ef-7c8d9f28218f"
      },
      "outputs": [
        {
          "output_type": "stream",
          "name": "stdout",
          "text": [
            "\u001b[2K     \u001b[90m━━━━━━━━━━━━━━━━━━━━━━━━━━━━━━━━━━━━━━━━\u001b[0m \u001b[32m10.9/10.9 MB\u001b[0m \u001b[31m38.6 MB/s\u001b[0m eta \u001b[36m0:00:00\u001b[0m\n",
            "\u001b[2K     \u001b[90m━━━━━━━━━━━━━━━━━━━━━━━━━━━━━━━━━━━━━━━━\u001b[0m \u001b[32m5.0/5.0 MB\u001b[0m \u001b[31m68.6 MB/s\u001b[0m eta \u001b[36m0:00:00\u001b[0m\n",
            "\u001b[2K     \u001b[90m━━━━━━━━━━━━━━━━━━━━━━━━━━━━━━━━━━━━━━━━\u001b[0m \u001b[32m3.4/3.4 MB\u001b[0m \u001b[31m20.4 MB/s\u001b[0m eta \u001b[36m0:00:00\u001b[0m\n",
            "\u001b[2K     \u001b[90m━━━━━━━━━━━━━━━━━━━━━━━━━━━━━━━━━━━━━━━━\u001b[0m \u001b[32m943.4/943.4 kB\u001b[0m \u001b[31m6.6 MB/s\u001b[0m eta \u001b[36m0:00:00\u001b[0m\n",
            "\u001b[2K     \u001b[90m━━━━━━━━━━━━━━━━━━━━━━━━━━━━━━━━━━━━━━━━\u001b[0m \u001b[32m565.0/565.0 kB\u001b[0m \u001b[31m8.4 MB/s\u001b[0m eta \u001b[36m0:00:00\u001b[0m\n",
            "\u001b[?25h  Preparing metadata (setup.py) ... \u001b[?25l\u001b[?25hdone\n",
            "  Building wheel for torch-geometric (setup.py) ... \u001b[?25l\u001b[?25hdone\n"
          ]
        }
      ],
      "source": [
        "import torch\n",
        "!pip install -q torch-scatter~=2.1.0 torch-sparse~=0.6.16 torch-cluster~=1.6.0 torch-spline-conv~=1.2.1 torch-geometric==2.2.0 -f https://data.pyg.org/whl/torch-{torch.__version__}.html\n",
        "\n",
        "torch.manual_seed(42)\n",
        "torch.cuda.manual_seed(42)\n",
        "torch.cuda.manual_seed_all(42)\n",
        "torch.backends.cudnn.deterministic = True\n",
        "torch.backends.cudnn.benchmark = False"
      ]
    },
    {
      "cell_type": "code",
      "source": [
        "from io import BytesIO\n",
        "from urllib.request import urlopen\n",
        "from zipfile import ZipFile\n",
        "\n",
        "# The url for book crossing (BX) dataset is notavailable, use the downloades zip from:\n",
        "# https://www.kaggle.com/datasets/somnambwl/bookcrossing-dataset?resource=download\n",
        "!unzip archive.zip"
      ],
      "metadata": {
        "colab": {
          "base_uri": "https://localhost:8080/"
        },
        "id": "rLAwfPd8pSl9",
        "outputId": "3c0fe014-fdc5-4c92-8096-5d4337bcdfb8"
      },
      "execution_count": 2,
      "outputs": [
        {
          "output_type": "stream",
          "name": "stdout",
          "text": [
            "Archive:  archive.zip\n",
            "  inflating: Books.csv               \n",
            "  inflating: Ratings.csv             \n",
            "  inflating: Users.csv               \n"
          ]
        }
      ]
    },
    {
      "cell_type": "code",
      "source": [
        "import pandas as pd\n",
        "\n",
        "ratings = pd.read_csv('Ratings.csv', sep=';', encoding='latin-1')\n",
        "users = pd.read_csv('Users.csv', sep=';', encoding='latin-1')\n",
        "books = pd.read_csv('Books.csv', sep=';', encoding='latin-1')"
      ],
      "metadata": {
        "colab": {
          "base_uri": "https://localhost:8080/"
        },
        "id": "XQ1KqBM_pXmc",
        "outputId": "3545daf6-158a-4ade-a89e-9c01fedf45f9"
      },
      "execution_count": 3,
      "outputs": [
        {
          "output_type": "stream",
          "name": "stderr",
          "text": [
            "<ipython-input-3-7997f032d7b7>:4: DtypeWarning: Columns (0) have mixed types. Specify dtype option on import or set low_memory=False.\n",
            "  users = pd.read_csv('Users.csv', sep=';', encoding='latin-1')\n"
          ]
        }
      ]
    },
    {
      "cell_type": "code",
      "source": [
        "ratings"
      ],
      "metadata": {
        "colab": {
          "base_uri": "https://localhost:8080/",
          "height": 423
        },
        "id": "ZOlH1_W-smbQ",
        "outputId": "0b8f6ce5-2a49-4d8f-f7c6-4f18a9544269"
      },
      "execution_count": 4,
      "outputs": [
        {
          "output_type": "execute_result",
          "data": {
            "text/plain": [
              "         User-ID         ISBN  Rating\n",
              "0         276725   034545104X       0\n",
              "1         276726   0155061224       5\n",
              "2         276727   0446520802       0\n",
              "3         276729   052165615X       3\n",
              "4         276729   0521795028       6\n",
              "...          ...          ...     ...\n",
              "1149775   276704   1563526298       9\n",
              "1149776   276706   0679447156       0\n",
              "1149777   276709   0515107662      10\n",
              "1149778   276721   0590442449      10\n",
              "1149779   276723  05162443314       8\n",
              "\n",
              "[1149780 rows x 3 columns]"
            ],
            "text/html": [
              "\n",
              "  <div id=\"df-6ae52f36-d2f9-419c-845a-673b008a9e08\" class=\"colab-df-container\">\n",
              "    <div>\n",
              "<style scoped>\n",
              "    .dataframe tbody tr th:only-of-type {\n",
              "        vertical-align: middle;\n",
              "    }\n",
              "\n",
              "    .dataframe tbody tr th {\n",
              "        vertical-align: top;\n",
              "    }\n",
              "\n",
              "    .dataframe thead th {\n",
              "        text-align: right;\n",
              "    }\n",
              "</style>\n",
              "<table border=\"1\" class=\"dataframe\">\n",
              "  <thead>\n",
              "    <tr style=\"text-align: right;\">\n",
              "      <th></th>\n",
              "      <th>User-ID</th>\n",
              "      <th>ISBN</th>\n",
              "      <th>Rating</th>\n",
              "    </tr>\n",
              "  </thead>\n",
              "  <tbody>\n",
              "    <tr>\n",
              "      <th>0</th>\n",
              "      <td>276725</td>\n",
              "      <td>034545104X</td>\n",
              "      <td>0</td>\n",
              "    </tr>\n",
              "    <tr>\n",
              "      <th>1</th>\n",
              "      <td>276726</td>\n",
              "      <td>0155061224</td>\n",
              "      <td>5</td>\n",
              "    </tr>\n",
              "    <tr>\n",
              "      <th>2</th>\n",
              "      <td>276727</td>\n",
              "      <td>0446520802</td>\n",
              "      <td>0</td>\n",
              "    </tr>\n",
              "    <tr>\n",
              "      <th>3</th>\n",
              "      <td>276729</td>\n",
              "      <td>052165615X</td>\n",
              "      <td>3</td>\n",
              "    </tr>\n",
              "    <tr>\n",
              "      <th>4</th>\n",
              "      <td>276729</td>\n",
              "      <td>0521795028</td>\n",
              "      <td>6</td>\n",
              "    </tr>\n",
              "    <tr>\n",
              "      <th>...</th>\n",
              "      <td>...</td>\n",
              "      <td>...</td>\n",
              "      <td>...</td>\n",
              "    </tr>\n",
              "    <tr>\n",
              "      <th>1149775</th>\n",
              "      <td>276704</td>\n",
              "      <td>1563526298</td>\n",
              "      <td>9</td>\n",
              "    </tr>\n",
              "    <tr>\n",
              "      <th>1149776</th>\n",
              "      <td>276706</td>\n",
              "      <td>0679447156</td>\n",
              "      <td>0</td>\n",
              "    </tr>\n",
              "    <tr>\n",
              "      <th>1149777</th>\n",
              "      <td>276709</td>\n",
              "      <td>0515107662</td>\n",
              "      <td>10</td>\n",
              "    </tr>\n",
              "    <tr>\n",
              "      <th>1149778</th>\n",
              "      <td>276721</td>\n",
              "      <td>0590442449</td>\n",
              "      <td>10</td>\n",
              "    </tr>\n",
              "    <tr>\n",
              "      <th>1149779</th>\n",
              "      <td>276723</td>\n",
              "      <td>05162443314</td>\n",
              "      <td>8</td>\n",
              "    </tr>\n",
              "  </tbody>\n",
              "</table>\n",
              "<p>1149780 rows × 3 columns</p>\n",
              "</div>\n",
              "    <div class=\"colab-df-buttons\">\n",
              "\n",
              "  <div class=\"colab-df-container\">\n",
              "    <button class=\"colab-df-convert\" onclick=\"convertToInteractive('df-6ae52f36-d2f9-419c-845a-673b008a9e08')\"\n",
              "            title=\"Convert this dataframe to an interactive table.\"\n",
              "            style=\"display:none;\">\n",
              "\n",
              "  <svg xmlns=\"http://www.w3.org/2000/svg\" height=\"24px\" viewBox=\"0 -960 960 960\">\n",
              "    <path d=\"M120-120v-720h720v720H120Zm60-500h600v-160H180v160Zm220 220h160v-160H400v160Zm0 220h160v-160H400v160ZM180-400h160v-160H180v160Zm440 0h160v-160H620v160ZM180-180h160v-160H180v160Zm440 0h160v-160H620v160Z\"/>\n",
              "  </svg>\n",
              "    </button>\n",
              "\n",
              "  <style>\n",
              "    .colab-df-container {\n",
              "      display:flex;\n",
              "      gap: 12px;\n",
              "    }\n",
              "\n",
              "    .colab-df-convert {\n",
              "      background-color: #E8F0FE;\n",
              "      border: none;\n",
              "      border-radius: 50%;\n",
              "      cursor: pointer;\n",
              "      display: none;\n",
              "      fill: #1967D2;\n",
              "      height: 32px;\n",
              "      padding: 0 0 0 0;\n",
              "      width: 32px;\n",
              "    }\n",
              "\n",
              "    .colab-df-convert:hover {\n",
              "      background-color: #E2EBFA;\n",
              "      box-shadow: 0px 1px 2px rgba(60, 64, 67, 0.3), 0px 1px 3px 1px rgba(60, 64, 67, 0.15);\n",
              "      fill: #174EA6;\n",
              "    }\n",
              "\n",
              "    .colab-df-buttons div {\n",
              "      margin-bottom: 4px;\n",
              "    }\n",
              "\n",
              "    [theme=dark] .colab-df-convert {\n",
              "      background-color: #3B4455;\n",
              "      fill: #D2E3FC;\n",
              "    }\n",
              "\n",
              "    [theme=dark] .colab-df-convert:hover {\n",
              "      background-color: #434B5C;\n",
              "      box-shadow: 0px 1px 3px 1px rgba(0, 0, 0, 0.15);\n",
              "      filter: drop-shadow(0px 1px 2px rgba(0, 0, 0, 0.3));\n",
              "      fill: #FFFFFF;\n",
              "    }\n",
              "  </style>\n",
              "\n",
              "    <script>\n",
              "      const buttonEl =\n",
              "        document.querySelector('#df-6ae52f36-d2f9-419c-845a-673b008a9e08 button.colab-df-convert');\n",
              "      buttonEl.style.display =\n",
              "        google.colab.kernel.accessAllowed ? 'block' : 'none';\n",
              "\n",
              "      async function convertToInteractive(key) {\n",
              "        const element = document.querySelector('#df-6ae52f36-d2f9-419c-845a-673b008a9e08');\n",
              "        const dataTable =\n",
              "          await google.colab.kernel.invokeFunction('convertToInteractive',\n",
              "                                                    [key], {});\n",
              "        if (!dataTable) return;\n",
              "\n",
              "        const docLinkHtml = 'Like what you see? Visit the ' +\n",
              "          '<a target=\"_blank\" href=https://colab.research.google.com/notebooks/data_table.ipynb>data table notebook</a>'\n",
              "          + ' to learn more about interactive tables.';\n",
              "        element.innerHTML = '';\n",
              "        dataTable['output_type'] = 'display_data';\n",
              "        await google.colab.output.renderOutput(dataTable, element);\n",
              "        const docLink = document.createElement('div');\n",
              "        docLink.innerHTML = docLinkHtml;\n",
              "        element.appendChild(docLink);\n",
              "      }\n",
              "    </script>\n",
              "  </div>\n",
              "\n",
              "\n",
              "<div id=\"df-39f226ec-a572-4017-a56c-2bff25e2c540\">\n",
              "  <button class=\"colab-df-quickchart\" onclick=\"quickchart('df-39f226ec-a572-4017-a56c-2bff25e2c540')\"\n",
              "            title=\"Suggest charts\"\n",
              "            style=\"display:none;\">\n",
              "\n",
              "<svg xmlns=\"http://www.w3.org/2000/svg\" height=\"24px\"viewBox=\"0 0 24 24\"\n",
              "     width=\"24px\">\n",
              "    <g>\n",
              "        <path d=\"M19 3H5c-1.1 0-2 .9-2 2v14c0 1.1.9 2 2 2h14c1.1 0 2-.9 2-2V5c0-1.1-.9-2-2-2zM9 17H7v-7h2v7zm4 0h-2V7h2v10zm4 0h-2v-4h2v4z\"/>\n",
              "    </g>\n",
              "</svg>\n",
              "  </button>\n",
              "\n",
              "<style>\n",
              "  .colab-df-quickchart {\n",
              "      --bg-color: #E8F0FE;\n",
              "      --fill-color: #1967D2;\n",
              "      --hover-bg-color: #E2EBFA;\n",
              "      --hover-fill-color: #174EA6;\n",
              "      --disabled-fill-color: #AAA;\n",
              "      --disabled-bg-color: #DDD;\n",
              "  }\n",
              "\n",
              "  [theme=dark] .colab-df-quickchart {\n",
              "      --bg-color: #3B4455;\n",
              "      --fill-color: #D2E3FC;\n",
              "      --hover-bg-color: #434B5C;\n",
              "      --hover-fill-color: #FFFFFF;\n",
              "      --disabled-bg-color: #3B4455;\n",
              "      --disabled-fill-color: #666;\n",
              "  }\n",
              "\n",
              "  .colab-df-quickchart {\n",
              "    background-color: var(--bg-color);\n",
              "    border: none;\n",
              "    border-radius: 50%;\n",
              "    cursor: pointer;\n",
              "    display: none;\n",
              "    fill: var(--fill-color);\n",
              "    height: 32px;\n",
              "    padding: 0;\n",
              "    width: 32px;\n",
              "  }\n",
              "\n",
              "  .colab-df-quickchart:hover {\n",
              "    background-color: var(--hover-bg-color);\n",
              "    box-shadow: 0 1px 2px rgba(60, 64, 67, 0.3), 0 1px 3px 1px rgba(60, 64, 67, 0.15);\n",
              "    fill: var(--button-hover-fill-color);\n",
              "  }\n",
              "\n",
              "  .colab-df-quickchart-complete:disabled,\n",
              "  .colab-df-quickchart-complete:disabled:hover {\n",
              "    background-color: var(--disabled-bg-color);\n",
              "    fill: var(--disabled-fill-color);\n",
              "    box-shadow: none;\n",
              "  }\n",
              "\n",
              "  .colab-df-spinner {\n",
              "    border: 2px solid var(--fill-color);\n",
              "    border-color: transparent;\n",
              "    border-bottom-color: var(--fill-color);\n",
              "    animation:\n",
              "      spin 1s steps(1) infinite;\n",
              "  }\n",
              "\n",
              "  @keyframes spin {\n",
              "    0% {\n",
              "      border-color: transparent;\n",
              "      border-bottom-color: var(--fill-color);\n",
              "      border-left-color: var(--fill-color);\n",
              "    }\n",
              "    20% {\n",
              "      border-color: transparent;\n",
              "      border-left-color: var(--fill-color);\n",
              "      border-top-color: var(--fill-color);\n",
              "    }\n",
              "    30% {\n",
              "      border-color: transparent;\n",
              "      border-left-color: var(--fill-color);\n",
              "      border-top-color: var(--fill-color);\n",
              "      border-right-color: var(--fill-color);\n",
              "    }\n",
              "    40% {\n",
              "      border-color: transparent;\n",
              "      border-right-color: var(--fill-color);\n",
              "      border-top-color: var(--fill-color);\n",
              "    }\n",
              "    60% {\n",
              "      border-color: transparent;\n",
              "      border-right-color: var(--fill-color);\n",
              "    }\n",
              "    80% {\n",
              "      border-color: transparent;\n",
              "      border-right-color: var(--fill-color);\n",
              "      border-bottom-color: var(--fill-color);\n",
              "    }\n",
              "    90% {\n",
              "      border-color: transparent;\n",
              "      border-bottom-color: var(--fill-color);\n",
              "    }\n",
              "  }\n",
              "</style>\n",
              "\n",
              "  <script>\n",
              "    async function quickchart(key) {\n",
              "      const quickchartButtonEl =\n",
              "        document.querySelector('#' + key + ' button');\n",
              "      quickchartButtonEl.disabled = true;  // To prevent multiple clicks.\n",
              "      quickchartButtonEl.classList.add('colab-df-spinner');\n",
              "      try {\n",
              "        const charts = await google.colab.kernel.invokeFunction(\n",
              "            'suggestCharts', [key], {});\n",
              "      } catch (error) {\n",
              "        console.error('Error during call to suggestCharts:', error);\n",
              "      }\n",
              "      quickchartButtonEl.classList.remove('colab-df-spinner');\n",
              "      quickchartButtonEl.classList.add('colab-df-quickchart-complete');\n",
              "    }\n",
              "    (() => {\n",
              "      let quickchartButtonEl =\n",
              "        document.querySelector('#df-39f226ec-a572-4017-a56c-2bff25e2c540 button');\n",
              "      quickchartButtonEl.style.display =\n",
              "        google.colab.kernel.accessAllowed ? 'block' : 'none';\n",
              "    })();\n",
              "  </script>\n",
              "</div>\n",
              "    </div>\n",
              "  </div>\n"
            ],
            "application/vnd.google.colaboratory.intrinsic+json": {
              "type": "dataframe",
              "variable_name": "ratings"
            }
          },
          "metadata": {},
          "execution_count": 4
        }
      ]
    },
    {
      "cell_type": "code",
      "source": [
        "users # no location column"
      ],
      "metadata": {
        "colab": {
          "base_uri": "https://localhost:8080/",
          "height": 423
        },
        "id": "RjQTBwoOtX-1",
        "outputId": "fbe0a03a-8ed2-4002-d0f5-b8a49ea31301"
      },
      "execution_count": 5,
      "outputs": [
        {
          "output_type": "execute_result",
          "data": {
            "text/plain": [
              "       User-ID  Age\n",
              "0            1  NaN\n",
              "1            2   18\n",
              "2            3  NaN\n",
              "3            4   17\n",
              "4            5  NaN\n",
              "...        ...  ...\n",
              "278854  278854  NaN\n",
              "278855  278855   50\n",
              "278856  278856  NaN\n",
              "278857  278857  NaN\n",
              "278858  278858  NaN\n",
              "\n",
              "[278859 rows x 2 columns]"
            ],
            "text/html": [
              "\n",
              "  <div id=\"df-8c480fc8-5975-4eb4-977c-858b4cf84571\" class=\"colab-df-container\">\n",
              "    <div>\n",
              "<style scoped>\n",
              "    .dataframe tbody tr th:only-of-type {\n",
              "        vertical-align: middle;\n",
              "    }\n",
              "\n",
              "    .dataframe tbody tr th {\n",
              "        vertical-align: top;\n",
              "    }\n",
              "\n",
              "    .dataframe thead th {\n",
              "        text-align: right;\n",
              "    }\n",
              "</style>\n",
              "<table border=\"1\" class=\"dataframe\">\n",
              "  <thead>\n",
              "    <tr style=\"text-align: right;\">\n",
              "      <th></th>\n",
              "      <th>User-ID</th>\n",
              "      <th>Age</th>\n",
              "    </tr>\n",
              "  </thead>\n",
              "  <tbody>\n",
              "    <tr>\n",
              "      <th>0</th>\n",
              "      <td>1</td>\n",
              "      <td>NaN</td>\n",
              "    </tr>\n",
              "    <tr>\n",
              "      <th>1</th>\n",
              "      <td>2</td>\n",
              "      <td>18</td>\n",
              "    </tr>\n",
              "    <tr>\n",
              "      <th>2</th>\n",
              "      <td>3</td>\n",
              "      <td>NaN</td>\n",
              "    </tr>\n",
              "    <tr>\n",
              "      <th>3</th>\n",
              "      <td>4</td>\n",
              "      <td>17</td>\n",
              "    </tr>\n",
              "    <tr>\n",
              "      <th>4</th>\n",
              "      <td>5</td>\n",
              "      <td>NaN</td>\n",
              "    </tr>\n",
              "    <tr>\n",
              "      <th>...</th>\n",
              "      <td>...</td>\n",
              "      <td>...</td>\n",
              "    </tr>\n",
              "    <tr>\n",
              "      <th>278854</th>\n",
              "      <td>278854</td>\n",
              "      <td>NaN</td>\n",
              "    </tr>\n",
              "    <tr>\n",
              "      <th>278855</th>\n",
              "      <td>278855</td>\n",
              "      <td>50</td>\n",
              "    </tr>\n",
              "    <tr>\n",
              "      <th>278856</th>\n",
              "      <td>278856</td>\n",
              "      <td>NaN</td>\n",
              "    </tr>\n",
              "    <tr>\n",
              "      <th>278857</th>\n",
              "      <td>278857</td>\n",
              "      <td>NaN</td>\n",
              "    </tr>\n",
              "    <tr>\n",
              "      <th>278858</th>\n",
              "      <td>278858</td>\n",
              "      <td>NaN</td>\n",
              "    </tr>\n",
              "  </tbody>\n",
              "</table>\n",
              "<p>278859 rows × 2 columns</p>\n",
              "</div>\n",
              "    <div class=\"colab-df-buttons\">\n",
              "\n",
              "  <div class=\"colab-df-container\">\n",
              "    <button class=\"colab-df-convert\" onclick=\"convertToInteractive('df-8c480fc8-5975-4eb4-977c-858b4cf84571')\"\n",
              "            title=\"Convert this dataframe to an interactive table.\"\n",
              "            style=\"display:none;\">\n",
              "\n",
              "  <svg xmlns=\"http://www.w3.org/2000/svg\" height=\"24px\" viewBox=\"0 -960 960 960\">\n",
              "    <path d=\"M120-120v-720h720v720H120Zm60-500h600v-160H180v160Zm220 220h160v-160H400v160Zm0 220h160v-160H400v160ZM180-400h160v-160H180v160Zm440 0h160v-160H620v160ZM180-180h160v-160H180v160Zm440 0h160v-160H620v160Z\"/>\n",
              "  </svg>\n",
              "    </button>\n",
              "\n",
              "  <style>\n",
              "    .colab-df-container {\n",
              "      display:flex;\n",
              "      gap: 12px;\n",
              "    }\n",
              "\n",
              "    .colab-df-convert {\n",
              "      background-color: #E8F0FE;\n",
              "      border: none;\n",
              "      border-radius: 50%;\n",
              "      cursor: pointer;\n",
              "      display: none;\n",
              "      fill: #1967D2;\n",
              "      height: 32px;\n",
              "      padding: 0 0 0 0;\n",
              "      width: 32px;\n",
              "    }\n",
              "\n",
              "    .colab-df-convert:hover {\n",
              "      background-color: #E2EBFA;\n",
              "      box-shadow: 0px 1px 2px rgba(60, 64, 67, 0.3), 0px 1px 3px 1px rgba(60, 64, 67, 0.15);\n",
              "      fill: #174EA6;\n",
              "    }\n",
              "\n",
              "    .colab-df-buttons div {\n",
              "      margin-bottom: 4px;\n",
              "    }\n",
              "\n",
              "    [theme=dark] .colab-df-convert {\n",
              "      background-color: #3B4455;\n",
              "      fill: #D2E3FC;\n",
              "    }\n",
              "\n",
              "    [theme=dark] .colab-df-convert:hover {\n",
              "      background-color: #434B5C;\n",
              "      box-shadow: 0px 1px 3px 1px rgba(0, 0, 0, 0.15);\n",
              "      filter: drop-shadow(0px 1px 2px rgba(0, 0, 0, 0.3));\n",
              "      fill: #FFFFFF;\n",
              "    }\n",
              "  </style>\n",
              "\n",
              "    <script>\n",
              "      const buttonEl =\n",
              "        document.querySelector('#df-8c480fc8-5975-4eb4-977c-858b4cf84571 button.colab-df-convert');\n",
              "      buttonEl.style.display =\n",
              "        google.colab.kernel.accessAllowed ? 'block' : 'none';\n",
              "\n",
              "      async function convertToInteractive(key) {\n",
              "        const element = document.querySelector('#df-8c480fc8-5975-4eb4-977c-858b4cf84571');\n",
              "        const dataTable =\n",
              "          await google.colab.kernel.invokeFunction('convertToInteractive',\n",
              "                                                    [key], {});\n",
              "        if (!dataTable) return;\n",
              "\n",
              "        const docLinkHtml = 'Like what you see? Visit the ' +\n",
              "          '<a target=\"_blank\" href=https://colab.research.google.com/notebooks/data_table.ipynb>data table notebook</a>'\n",
              "          + ' to learn more about interactive tables.';\n",
              "        element.innerHTML = '';\n",
              "        dataTable['output_type'] = 'display_data';\n",
              "        await google.colab.output.renderOutput(dataTable, element);\n",
              "        const docLink = document.createElement('div');\n",
              "        docLink.innerHTML = docLinkHtml;\n",
              "        element.appendChild(docLink);\n",
              "      }\n",
              "    </script>\n",
              "  </div>\n",
              "\n",
              "\n",
              "<div id=\"df-55d9fd68-18ff-46c3-976d-e3fa990a6ca8\">\n",
              "  <button class=\"colab-df-quickchart\" onclick=\"quickchart('df-55d9fd68-18ff-46c3-976d-e3fa990a6ca8')\"\n",
              "            title=\"Suggest charts\"\n",
              "            style=\"display:none;\">\n",
              "\n",
              "<svg xmlns=\"http://www.w3.org/2000/svg\" height=\"24px\"viewBox=\"0 0 24 24\"\n",
              "     width=\"24px\">\n",
              "    <g>\n",
              "        <path d=\"M19 3H5c-1.1 0-2 .9-2 2v14c0 1.1.9 2 2 2h14c1.1 0 2-.9 2-2V5c0-1.1-.9-2-2-2zM9 17H7v-7h2v7zm4 0h-2V7h2v10zm4 0h-2v-4h2v4z\"/>\n",
              "    </g>\n",
              "</svg>\n",
              "  </button>\n",
              "\n",
              "<style>\n",
              "  .colab-df-quickchart {\n",
              "      --bg-color: #E8F0FE;\n",
              "      --fill-color: #1967D2;\n",
              "      --hover-bg-color: #E2EBFA;\n",
              "      --hover-fill-color: #174EA6;\n",
              "      --disabled-fill-color: #AAA;\n",
              "      --disabled-bg-color: #DDD;\n",
              "  }\n",
              "\n",
              "  [theme=dark] .colab-df-quickchart {\n",
              "      --bg-color: #3B4455;\n",
              "      --fill-color: #D2E3FC;\n",
              "      --hover-bg-color: #434B5C;\n",
              "      --hover-fill-color: #FFFFFF;\n",
              "      --disabled-bg-color: #3B4455;\n",
              "      --disabled-fill-color: #666;\n",
              "  }\n",
              "\n",
              "  .colab-df-quickchart {\n",
              "    background-color: var(--bg-color);\n",
              "    border: none;\n",
              "    border-radius: 50%;\n",
              "    cursor: pointer;\n",
              "    display: none;\n",
              "    fill: var(--fill-color);\n",
              "    height: 32px;\n",
              "    padding: 0;\n",
              "    width: 32px;\n",
              "  }\n",
              "\n",
              "  .colab-df-quickchart:hover {\n",
              "    background-color: var(--hover-bg-color);\n",
              "    box-shadow: 0 1px 2px rgba(60, 64, 67, 0.3), 0 1px 3px 1px rgba(60, 64, 67, 0.15);\n",
              "    fill: var(--button-hover-fill-color);\n",
              "  }\n",
              "\n",
              "  .colab-df-quickchart-complete:disabled,\n",
              "  .colab-df-quickchart-complete:disabled:hover {\n",
              "    background-color: var(--disabled-bg-color);\n",
              "    fill: var(--disabled-fill-color);\n",
              "    box-shadow: none;\n",
              "  }\n",
              "\n",
              "  .colab-df-spinner {\n",
              "    border: 2px solid var(--fill-color);\n",
              "    border-color: transparent;\n",
              "    border-bottom-color: var(--fill-color);\n",
              "    animation:\n",
              "      spin 1s steps(1) infinite;\n",
              "  }\n",
              "\n",
              "  @keyframes spin {\n",
              "    0% {\n",
              "      border-color: transparent;\n",
              "      border-bottom-color: var(--fill-color);\n",
              "      border-left-color: var(--fill-color);\n",
              "    }\n",
              "    20% {\n",
              "      border-color: transparent;\n",
              "      border-left-color: var(--fill-color);\n",
              "      border-top-color: var(--fill-color);\n",
              "    }\n",
              "    30% {\n",
              "      border-color: transparent;\n",
              "      border-left-color: var(--fill-color);\n",
              "      border-top-color: var(--fill-color);\n",
              "      border-right-color: var(--fill-color);\n",
              "    }\n",
              "    40% {\n",
              "      border-color: transparent;\n",
              "      border-right-color: var(--fill-color);\n",
              "      border-top-color: var(--fill-color);\n",
              "    }\n",
              "    60% {\n",
              "      border-color: transparent;\n",
              "      border-right-color: var(--fill-color);\n",
              "    }\n",
              "    80% {\n",
              "      border-color: transparent;\n",
              "      border-right-color: var(--fill-color);\n",
              "      border-bottom-color: var(--fill-color);\n",
              "    }\n",
              "    90% {\n",
              "      border-color: transparent;\n",
              "      border-bottom-color: var(--fill-color);\n",
              "    }\n",
              "  }\n",
              "</style>\n",
              "\n",
              "  <script>\n",
              "    async function quickchart(key) {\n",
              "      const quickchartButtonEl =\n",
              "        document.querySelector('#' + key + ' button');\n",
              "      quickchartButtonEl.disabled = true;  // To prevent multiple clicks.\n",
              "      quickchartButtonEl.classList.add('colab-df-spinner');\n",
              "      try {\n",
              "        const charts = await google.colab.kernel.invokeFunction(\n",
              "            'suggestCharts', [key], {});\n",
              "      } catch (error) {\n",
              "        console.error('Error during call to suggestCharts:', error);\n",
              "      }\n",
              "      quickchartButtonEl.classList.remove('colab-df-spinner');\n",
              "      quickchartButtonEl.classList.add('colab-df-quickchart-complete');\n",
              "    }\n",
              "    (() => {\n",
              "      let quickchartButtonEl =\n",
              "        document.querySelector('#df-55d9fd68-18ff-46c3-976d-e3fa990a6ca8 button');\n",
              "      quickchartButtonEl.style.display =\n",
              "        google.colab.kernel.accessAllowed ? 'block' : 'none';\n",
              "    })();\n",
              "  </script>\n",
              "</div>\n",
              "    </div>\n",
              "  </div>\n"
            ],
            "application/vnd.google.colaboratory.intrinsic+json": {
              "type": "dataframe",
              "variable_name": "users"
            }
          },
          "metadata": {},
          "execution_count": 5
        }
      ]
    },
    {
      "cell_type": "code",
      "source": [
        "books"
      ],
      "metadata": {
        "colab": {
          "base_uri": "https://localhost:8080/",
          "height": 510
        },
        "id": "hd16ueaNtgvE",
        "outputId": "3c828c79-be02-44aa-d76b-59c704769622"
      },
      "execution_count": 6,
      "outputs": [
        {
          "output_type": "execute_result",
          "data": {
            "text/plain": [
              "              ISBN                                              Title  \\\n",
              "0       0195153448                                Classical Mythology   \n",
              "1       0002005018                                       Clara Callan   \n",
              "2       0060973129                               Decision in Normandy   \n",
              "3       0374157065  Flu: The Story of the Great Influenza Pandemic...   \n",
              "4       0393045218                             The Mummies of Urumchi   \n",
              "...            ...                                                ...   \n",
              "271374  0440400988                         There's a Bat in Bunk Five   \n",
              "271375  0525447644                            From One to One Hundred   \n",
              "271376  006008667X  Lily Dale : The True Story of the Town that Ta...   \n",
              "271377  0192126040                        Republic (World's Classics)   \n",
              "271378  0767409752  A Guided Tour of Rene Descartes' Meditations o...   \n",
              "\n",
              "                      Author  Year  \\\n",
              "0         Mark P. O. Morford  2002   \n",
              "1       Richard Bruce Wright  2001   \n",
              "2               Carlo D'Este  1991   \n",
              "3           Gina Bari Kolata  1999   \n",
              "4            E. J. W. Barber  1999   \n",
              "...                      ...   ...   \n",
              "271374        Paula Danziger  1988   \n",
              "271375            Teri Sloat  1991   \n",
              "271376      Christine Wicker  2004   \n",
              "271377                 Plato  1996   \n",
              "271378   Christopher  Biffle  2000   \n",
              "\n",
              "                                               Publisher  \n",
              "0                                Oxford University Press  \n",
              "1                                  HarperFlamingo Canada  \n",
              "2                                        HarperPerennial  \n",
              "3                                   Farrar Straus Giroux  \n",
              "4                                 W. W. Norton & Company  \n",
              "...                                                  ...  \n",
              "271374                   Random House Childrens Pub (Mm)  \n",
              "271375                                      Dutton Books  \n",
              "271376                                HarperSanFrancisco  \n",
              "271377                           Oxford University Press  \n",
              "271378  McGraw-Hill Humanities/Social Sciences/Languages  \n",
              "\n",
              "[271379 rows x 5 columns]"
            ],
            "text/html": [
              "\n",
              "  <div id=\"df-835c4150-3b38-412d-b209-6b095fb5b127\" class=\"colab-df-container\">\n",
              "    <div>\n",
              "<style scoped>\n",
              "    .dataframe tbody tr th:only-of-type {\n",
              "        vertical-align: middle;\n",
              "    }\n",
              "\n",
              "    .dataframe tbody tr th {\n",
              "        vertical-align: top;\n",
              "    }\n",
              "\n",
              "    .dataframe thead th {\n",
              "        text-align: right;\n",
              "    }\n",
              "</style>\n",
              "<table border=\"1\" class=\"dataframe\">\n",
              "  <thead>\n",
              "    <tr style=\"text-align: right;\">\n",
              "      <th></th>\n",
              "      <th>ISBN</th>\n",
              "      <th>Title</th>\n",
              "      <th>Author</th>\n",
              "      <th>Year</th>\n",
              "      <th>Publisher</th>\n",
              "    </tr>\n",
              "  </thead>\n",
              "  <tbody>\n",
              "    <tr>\n",
              "      <th>0</th>\n",
              "      <td>0195153448</td>\n",
              "      <td>Classical Mythology</td>\n",
              "      <td>Mark P. O. Morford</td>\n",
              "      <td>2002</td>\n",
              "      <td>Oxford University Press</td>\n",
              "    </tr>\n",
              "    <tr>\n",
              "      <th>1</th>\n",
              "      <td>0002005018</td>\n",
              "      <td>Clara Callan</td>\n",
              "      <td>Richard Bruce Wright</td>\n",
              "      <td>2001</td>\n",
              "      <td>HarperFlamingo Canada</td>\n",
              "    </tr>\n",
              "    <tr>\n",
              "      <th>2</th>\n",
              "      <td>0060973129</td>\n",
              "      <td>Decision in Normandy</td>\n",
              "      <td>Carlo D'Este</td>\n",
              "      <td>1991</td>\n",
              "      <td>HarperPerennial</td>\n",
              "    </tr>\n",
              "    <tr>\n",
              "      <th>3</th>\n",
              "      <td>0374157065</td>\n",
              "      <td>Flu: The Story of the Great Influenza Pandemic...</td>\n",
              "      <td>Gina Bari Kolata</td>\n",
              "      <td>1999</td>\n",
              "      <td>Farrar Straus Giroux</td>\n",
              "    </tr>\n",
              "    <tr>\n",
              "      <th>4</th>\n",
              "      <td>0393045218</td>\n",
              "      <td>The Mummies of Urumchi</td>\n",
              "      <td>E. J. W. Barber</td>\n",
              "      <td>1999</td>\n",
              "      <td>W. W. Norton &amp; Company</td>\n",
              "    </tr>\n",
              "    <tr>\n",
              "      <th>...</th>\n",
              "      <td>...</td>\n",
              "      <td>...</td>\n",
              "      <td>...</td>\n",
              "      <td>...</td>\n",
              "      <td>...</td>\n",
              "    </tr>\n",
              "    <tr>\n",
              "      <th>271374</th>\n",
              "      <td>0440400988</td>\n",
              "      <td>There's a Bat in Bunk Five</td>\n",
              "      <td>Paula Danziger</td>\n",
              "      <td>1988</td>\n",
              "      <td>Random House Childrens Pub (Mm)</td>\n",
              "    </tr>\n",
              "    <tr>\n",
              "      <th>271375</th>\n",
              "      <td>0525447644</td>\n",
              "      <td>From One to One Hundred</td>\n",
              "      <td>Teri Sloat</td>\n",
              "      <td>1991</td>\n",
              "      <td>Dutton Books</td>\n",
              "    </tr>\n",
              "    <tr>\n",
              "      <th>271376</th>\n",
              "      <td>006008667X</td>\n",
              "      <td>Lily Dale : The True Story of the Town that Ta...</td>\n",
              "      <td>Christine Wicker</td>\n",
              "      <td>2004</td>\n",
              "      <td>HarperSanFrancisco</td>\n",
              "    </tr>\n",
              "    <tr>\n",
              "      <th>271377</th>\n",
              "      <td>0192126040</td>\n",
              "      <td>Republic (World's Classics)</td>\n",
              "      <td>Plato</td>\n",
              "      <td>1996</td>\n",
              "      <td>Oxford University Press</td>\n",
              "    </tr>\n",
              "    <tr>\n",
              "      <th>271378</th>\n",
              "      <td>0767409752</td>\n",
              "      <td>A Guided Tour of Rene Descartes' Meditations o...</td>\n",
              "      <td>Christopher  Biffle</td>\n",
              "      <td>2000</td>\n",
              "      <td>McGraw-Hill Humanities/Social Sciences/Languages</td>\n",
              "    </tr>\n",
              "  </tbody>\n",
              "</table>\n",
              "<p>271379 rows × 5 columns</p>\n",
              "</div>\n",
              "    <div class=\"colab-df-buttons\">\n",
              "\n",
              "  <div class=\"colab-df-container\">\n",
              "    <button class=\"colab-df-convert\" onclick=\"convertToInteractive('df-835c4150-3b38-412d-b209-6b095fb5b127')\"\n",
              "            title=\"Convert this dataframe to an interactive table.\"\n",
              "            style=\"display:none;\">\n",
              "\n",
              "  <svg xmlns=\"http://www.w3.org/2000/svg\" height=\"24px\" viewBox=\"0 -960 960 960\">\n",
              "    <path d=\"M120-120v-720h720v720H120Zm60-500h600v-160H180v160Zm220 220h160v-160H400v160Zm0 220h160v-160H400v160ZM180-400h160v-160H180v160Zm440 0h160v-160H620v160ZM180-180h160v-160H180v160Zm440 0h160v-160H620v160Z\"/>\n",
              "  </svg>\n",
              "    </button>\n",
              "\n",
              "  <style>\n",
              "    .colab-df-container {\n",
              "      display:flex;\n",
              "      gap: 12px;\n",
              "    }\n",
              "\n",
              "    .colab-df-convert {\n",
              "      background-color: #E8F0FE;\n",
              "      border: none;\n",
              "      border-radius: 50%;\n",
              "      cursor: pointer;\n",
              "      display: none;\n",
              "      fill: #1967D2;\n",
              "      height: 32px;\n",
              "      padding: 0 0 0 0;\n",
              "      width: 32px;\n",
              "    }\n",
              "\n",
              "    .colab-df-convert:hover {\n",
              "      background-color: #E2EBFA;\n",
              "      box-shadow: 0px 1px 2px rgba(60, 64, 67, 0.3), 0px 1px 3px 1px rgba(60, 64, 67, 0.15);\n",
              "      fill: #174EA6;\n",
              "    }\n",
              "\n",
              "    .colab-df-buttons div {\n",
              "      margin-bottom: 4px;\n",
              "    }\n",
              "\n",
              "    [theme=dark] .colab-df-convert {\n",
              "      background-color: #3B4455;\n",
              "      fill: #D2E3FC;\n",
              "    }\n",
              "\n",
              "    [theme=dark] .colab-df-convert:hover {\n",
              "      background-color: #434B5C;\n",
              "      box-shadow: 0px 1px 3px 1px rgba(0, 0, 0, 0.15);\n",
              "      filter: drop-shadow(0px 1px 2px rgba(0, 0, 0, 0.3));\n",
              "      fill: #FFFFFF;\n",
              "    }\n",
              "  </style>\n",
              "\n",
              "    <script>\n",
              "      const buttonEl =\n",
              "        document.querySelector('#df-835c4150-3b38-412d-b209-6b095fb5b127 button.colab-df-convert');\n",
              "      buttonEl.style.display =\n",
              "        google.colab.kernel.accessAllowed ? 'block' : 'none';\n",
              "\n",
              "      async function convertToInteractive(key) {\n",
              "        const element = document.querySelector('#df-835c4150-3b38-412d-b209-6b095fb5b127');\n",
              "        const dataTable =\n",
              "          await google.colab.kernel.invokeFunction('convertToInteractive',\n",
              "                                                    [key], {});\n",
              "        if (!dataTable) return;\n",
              "\n",
              "        const docLinkHtml = 'Like what you see? Visit the ' +\n",
              "          '<a target=\"_blank\" href=https://colab.research.google.com/notebooks/data_table.ipynb>data table notebook</a>'\n",
              "          + ' to learn more about interactive tables.';\n",
              "        element.innerHTML = '';\n",
              "        dataTable['output_type'] = 'display_data';\n",
              "        await google.colab.output.renderOutput(dataTable, element);\n",
              "        const docLink = document.createElement('div');\n",
              "        docLink.innerHTML = docLinkHtml;\n",
              "        element.appendChild(docLink);\n",
              "      }\n",
              "    </script>\n",
              "  </div>\n",
              "\n",
              "\n",
              "<div id=\"df-2e93b26d-ff3f-49d0-889a-934afcfbc414\">\n",
              "  <button class=\"colab-df-quickchart\" onclick=\"quickchart('df-2e93b26d-ff3f-49d0-889a-934afcfbc414')\"\n",
              "            title=\"Suggest charts\"\n",
              "            style=\"display:none;\">\n",
              "\n",
              "<svg xmlns=\"http://www.w3.org/2000/svg\" height=\"24px\"viewBox=\"0 0 24 24\"\n",
              "     width=\"24px\">\n",
              "    <g>\n",
              "        <path d=\"M19 3H5c-1.1 0-2 .9-2 2v14c0 1.1.9 2 2 2h14c1.1 0 2-.9 2-2V5c0-1.1-.9-2-2-2zM9 17H7v-7h2v7zm4 0h-2V7h2v10zm4 0h-2v-4h2v4z\"/>\n",
              "    </g>\n",
              "</svg>\n",
              "  </button>\n",
              "\n",
              "<style>\n",
              "  .colab-df-quickchart {\n",
              "      --bg-color: #E8F0FE;\n",
              "      --fill-color: #1967D2;\n",
              "      --hover-bg-color: #E2EBFA;\n",
              "      --hover-fill-color: #174EA6;\n",
              "      --disabled-fill-color: #AAA;\n",
              "      --disabled-bg-color: #DDD;\n",
              "  }\n",
              "\n",
              "  [theme=dark] .colab-df-quickchart {\n",
              "      --bg-color: #3B4455;\n",
              "      --fill-color: #D2E3FC;\n",
              "      --hover-bg-color: #434B5C;\n",
              "      --hover-fill-color: #FFFFFF;\n",
              "      --disabled-bg-color: #3B4455;\n",
              "      --disabled-fill-color: #666;\n",
              "  }\n",
              "\n",
              "  .colab-df-quickchart {\n",
              "    background-color: var(--bg-color);\n",
              "    border: none;\n",
              "    border-radius: 50%;\n",
              "    cursor: pointer;\n",
              "    display: none;\n",
              "    fill: var(--fill-color);\n",
              "    height: 32px;\n",
              "    padding: 0;\n",
              "    width: 32px;\n",
              "  }\n",
              "\n",
              "  .colab-df-quickchart:hover {\n",
              "    background-color: var(--hover-bg-color);\n",
              "    box-shadow: 0 1px 2px rgba(60, 64, 67, 0.3), 0 1px 3px 1px rgba(60, 64, 67, 0.15);\n",
              "    fill: var(--button-hover-fill-color);\n",
              "  }\n",
              "\n",
              "  .colab-df-quickchart-complete:disabled,\n",
              "  .colab-df-quickchart-complete:disabled:hover {\n",
              "    background-color: var(--disabled-bg-color);\n",
              "    fill: var(--disabled-fill-color);\n",
              "    box-shadow: none;\n",
              "  }\n",
              "\n",
              "  .colab-df-spinner {\n",
              "    border: 2px solid var(--fill-color);\n",
              "    border-color: transparent;\n",
              "    border-bottom-color: var(--fill-color);\n",
              "    animation:\n",
              "      spin 1s steps(1) infinite;\n",
              "  }\n",
              "\n",
              "  @keyframes spin {\n",
              "    0% {\n",
              "      border-color: transparent;\n",
              "      border-bottom-color: var(--fill-color);\n",
              "      border-left-color: var(--fill-color);\n",
              "    }\n",
              "    20% {\n",
              "      border-color: transparent;\n",
              "      border-left-color: var(--fill-color);\n",
              "      border-top-color: var(--fill-color);\n",
              "    }\n",
              "    30% {\n",
              "      border-color: transparent;\n",
              "      border-left-color: var(--fill-color);\n",
              "      border-top-color: var(--fill-color);\n",
              "      border-right-color: var(--fill-color);\n",
              "    }\n",
              "    40% {\n",
              "      border-color: transparent;\n",
              "      border-right-color: var(--fill-color);\n",
              "      border-top-color: var(--fill-color);\n",
              "    }\n",
              "    60% {\n",
              "      border-color: transparent;\n",
              "      border-right-color: var(--fill-color);\n",
              "    }\n",
              "    80% {\n",
              "      border-color: transparent;\n",
              "      border-right-color: var(--fill-color);\n",
              "      border-bottom-color: var(--fill-color);\n",
              "    }\n",
              "    90% {\n",
              "      border-color: transparent;\n",
              "      border-bottom-color: var(--fill-color);\n",
              "    }\n",
              "  }\n",
              "</style>\n",
              "\n",
              "  <script>\n",
              "    async function quickchart(key) {\n",
              "      const quickchartButtonEl =\n",
              "        document.querySelector('#' + key + ' button');\n",
              "      quickchartButtonEl.disabled = true;  // To prevent multiple clicks.\n",
              "      quickchartButtonEl.classList.add('colab-df-spinner');\n",
              "      try {\n",
              "        const charts = await google.colab.kernel.invokeFunction(\n",
              "            'suggestCharts', [key], {});\n",
              "      } catch (error) {\n",
              "        console.error('Error during call to suggestCharts:', error);\n",
              "      }\n",
              "      quickchartButtonEl.classList.remove('colab-df-spinner');\n",
              "      quickchartButtonEl.classList.add('colab-df-quickchart-complete');\n",
              "    }\n",
              "    (() => {\n",
              "      let quickchartButtonEl =\n",
              "        document.querySelector('#df-2e93b26d-ff3f-49d0-889a-934afcfbc414 button');\n",
              "      quickchartButtonEl.style.display =\n",
              "        google.colab.kernel.accessAllowed ? 'block' : 'none';\n",
              "    })();\n",
              "  </script>\n",
              "</div>\n",
              "    </div>\n",
              "  </div>\n"
            ],
            "application/vnd.google.colaboratory.intrinsic+json": {
              "type": "dataframe",
              "variable_name": "books"
            }
          },
          "metadata": {},
          "execution_count": 6
        }
      ]
    },
    {
      "cell_type": "code",
      "source": [
        "import matplotlib.pyplot as plt\n",
        "import seaborn as sns\n",
        "sns.countplot(x=ratings['Rating'])"
      ],
      "metadata": {
        "colab": {
          "base_uri": "https://localhost:8080/",
          "height": 466
        },
        "id": "G7Uoz40utjvW",
        "outputId": "bf8dbc18-35ff-4b73-a5c2-089a8f774646"
      },
      "execution_count": 7,
      "outputs": [
        {
          "output_type": "execute_result",
          "data": {
            "text/plain": [
              "<Axes: xlabel='Rating', ylabel='count'>"
            ]
          },
          "metadata": {},
          "execution_count": 7
        },
        {
          "output_type": "display_data",
          "data": {
            "text/plain": [
              "<Figure size 640x480 with 1 Axes>"
            ],
            "image/png": "[encoded data removed]"
          },
          "metadata": {}
        }
      ]
    },
    {
      "cell_type": "markdown",
      "source": [
        "Rating distribution (interaction with a book is represented as\n",
        "a rating of zero, while ratings between 1 and 10 are real ratings"
      ],
      "metadata": {
        "id": "cCEpLQ94wIHW"
      }
    },
    {
      "cell_type": "code",
      "source": [
        "print(len(ratings['User-ID'].unique()))\n",
        "print(len(ratings['ISBN'].unique()))"
      ],
      "metadata": {
        "colab": {
          "base_uri": "https://localhost:8080/"
        },
        "id": "DYvOAB27vnRe",
        "outputId": "581958c6-3afb-4706-bd19-e2042fdc1511"
      },
      "execution_count": 8,
      "outputs": [
        {
          "output_type": "stream",
          "name": "stdout",
          "text": [
            "105283\n",
            "340556\n"
          ]
        }
      ]
    },
    {
      "cell_type": "code",
      "source": [
        "isbn_counts = ratings.groupby('ISBN').size()\n",
        "count_occurrences = isbn_counts.value_counts()\n",
        "count_occurrences[:15].plot(kind='bar')\n",
        "plt.xticks(rotation=0)\n",
        "plt.xlabel(\"Number of occurrences of an ISBN number\")\n",
        "plt.ylabel(\"Count\")"
      ],
      "metadata": {
        "colab": {
          "base_uri": "https://localhost:8080/",
          "height": 466
        },
        "id": "ef84tmBdwDjo",
        "outputId": "16f3bc98-53b5-41bc-e96e-d86b4fb8d834"
      },
      "execution_count": 9,
      "outputs": [
        {
          "output_type": "execute_result",
          "data": {
            "text/plain": [
              "Text(0, 0.5, 'Count')"
            ]
          },
          "metadata": {},
          "execution_count": 9
        },
        {
          "output_type": "display_data",
          "data": {
            "text/plain": [
              "<Figure size 640x480 with 1 Axes>"
            ],
            "image/png": "[encoded data removed]"
          },
          "metadata": {}
        }
      ]
    },
    {
      "cell_type": "markdown",
      "source": [
        "A lot of books have only been rated once or twice. It is very rare to see books with\n",
        "a lot of ratings"
      ],
      "metadata": {
        "id": "upwl57OdyDqN"
      }
    },
    {
      "cell_type": "code",
      "source": [
        "userid_counts = ratings.groupby('User-ID').size()\n",
        "count_occurrences = userid_counts.value_counts()\n",
        "count_occurrences[:15].plot(kind='bar')\n",
        "plt.xticks(rotation=0)\n",
        "plt.xlabel(\"Number of occurrences of a User-ID\")\n",
        "plt.ylabel(\"Count\")"
      ],
      "metadata": {
        "colab": {
          "base_uri": "https://localhost:8080/",
          "height": 466
        },
        "id": "-WZhLHvNw2p_",
        "outputId": "740b9f3d-0de9-4f59-8d1c-3fe9986be816"
      },
      "execution_count": 10,
      "outputs": [
        {
          "output_type": "execute_result",
          "data": {
            "text/plain": [
              "Text(0, 0.5, 'Count')"
            ]
          },
          "metadata": {},
          "execution_count": 10
        },
        {
          "output_type": "display_data",
          "data": {
            "text/plain": [
              "<Figure size 640x480 with 1 Axes>"
            ],
            "image/png": "[encoded data removed]"
          },
          "metadata": {}
        }
      ]
    },
    {
      "cell_type": "markdown",
      "source": [
        "This also means that most users only rate one or two books, but a few of them rate a lot of books"
      ],
      "metadata": {
        "id": "xiDTl-Tcx76p"
      }
    },
    {
      "cell_type": "markdown",
      "source": [
        "## Preprocessing the Book-Crossing dataset\n",
        "\n",
        "With the use of collaborative **filtering approach**. Collaborative filtering is a technique used to make personalized\n",
        "recommendations to users. It is based on the idea that users who have similar preferences or behaviors\n",
        "are more likely to have similar interests. Collaborative filtering algorithms use this information to\n",
        "identify patterns and make recommendations to users based on the preferences of similar users.\n",
        "\n",
        "This is different from **content-based filtering**, which is a recommendation approach that relies on\n",
        "the features of the items being recommended. It generates recommendations by identifying the\n",
        "characteristics of an item and matching them to the characteristics of other items that have been liked\n",
        "by the user in the past. Content-based filtering approaches are typically based on the idea that if a\n",
        "user likes an item with certain characteristics, they will also like items with similar characteristics"
      ],
      "metadata": {
        "id": "fObGCV-EyNZo"
      }
    },
    {
      "cell_type": "markdown",
      "source": [
        "In this chapter, we will focus on collaborative filtering. Our objective is to determine which book to\n",
        "recommend to a user based on the preferences of other users.\n",
        "\n",
        "![image.png](data:image/png;base64,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)\n",
        "\n",
        "Knowing that **User 1** liked items **A** and **B**, and **User 3** liked items **B** and **D**, we should probably\n",
        "recommend item **B** to **User 2**, who also enjoyed items **A** and **D**."
      ],
      "metadata": {
        "id": "jw5R1LLzyOZH"
      }
    },
    {
      "cell_type": "markdown",
      "source": [
        "This is the type of graph we want to build from the Book-Crossing dataset. More precisely, we\n",
        "also want to include negative samples. In this context, negative samples refer to items that have not\n",
        "been rated by a given user. Items that have been rated by a particular user are also referred to as\n",
        "positive items."
      ],
      "metadata": {
        "id": "wvOrfKnizAUL"
      }
    },
    {
      "cell_type": "code",
      "source": [
        "import numpy as np\n",
        "from sklearn.model_selection import train_test_split\n",
        "\n",
        "import torch\n",
        "import torch.nn.functional as F\n",
        "from torch import nn, optim, Tensor\n",
        "\n",
        "from torch_geometric.utils import structured_negative_sampling\n",
        "from torch_geometric.nn.conv.gcn_conv import gcn_norm\n",
        "from torch_geometric.nn import LGConv"
      ],
      "metadata": {
        "id": "kOUqqYzPzng4"
      },
      "execution_count": 11,
      "outputs": []
    },
    {
      "cell_type": "code",
      "source": [
        "df = pd.read_csv('Ratings.csv', sep=';', encoding='latin-1')\n",
        "users = pd.read_csv('Users.csv', sep=';', encoding='latin-1')\n",
        "books = pd.read_csv('Books.csv', sep=';', encoding='latin-1')"
      ],
      "metadata": {
        "colab": {
          "base_uri": "https://localhost:8080/"
        },
        "id": "xtBK_wTY1gba",
        "outputId": "b338934c-3cd0-4219-f9a3-969c1864bd9a"
      },
      "execution_count": 12,
      "outputs": [
        {
          "output_type": "stream",
          "name": "stderr",
          "text": [
            "<ipython-input-12-2215e05d5396>:2: DtypeWarning: Columns (0) have mixed types. Specify dtype option on import or set low_memory=False.\n",
            "  users = pd.read_csv('Users.csv', sep=';', encoding='latin-1')\n"
          ]
        }
      ]
    },
    {
      "cell_type": "code",
      "source": [
        "# Preprocessing\n",
        "# Keep rows where ISBN information can be found in the books DataFrame and\n",
        "# User-ID information can be found in the users DataFrame\n",
        "df = df.loc[df['ISBN'].isin(books['ISBN'].unique()) & df['User-ID'].isin(users['User-ID'].unique())]\n",
        "\n",
        "# Keep only high ratings (>= 8/10) the 100k highest ratings to speed up the training\n",
        "df = df[df['Rating'] >= 8].iloc[:100000]"
      ],
      "metadata": {
        "id": "E_NUWVOo1udQ"
      },
      "execution_count": 13,
      "outputs": []
    },
    {
      "cell_type": "code",
      "source": [
        "# Create mappings from user and item identifiers to integer indices\n",
        "user_mapping = {userid: i for i, userid in enumerate(df['User-ID'].unique())}\n",
        "item_mapping = {isbn: i for i, isbn in enumerate(df['ISBN'].unique())}\n"
      ],
      "metadata": {
        "id": "rGSFVC-s2yHP"
      },
      "execution_count": 14,
      "outputs": []
    },
    {
      "cell_type": "code",
      "source": [
        "# Count users and items\n",
        "num_users = len(user_mapping)\n",
        "num_items = len(item_mapping)\n",
        "num_total = num_users + num_items"
      ],
      "metadata": {
        "id": "cHmshE5T3KlM"
      },
      "execution_count": 15,
      "outputs": []
    },
    {
      "cell_type": "code",
      "source": [
        "# Build the adjacency matrix based on user ratings\n",
        "user_ids = torch.LongTensor([user_mapping[i] for i in df['User-ID']])\n",
        "item_ids = torch.LongTensor([item_mapping[i] for i in df['ISBN']])\n",
        "edge_index = torch.stack((user_ids, item_ids))"
      ],
      "metadata": {
        "id": "Lxe42acD3gWe"
      },
      "execution_count": 16,
      "outputs": []
    },
    {
      "cell_type": "code",
      "source": [
        "user_ids"
      ],
      "metadata": {
        "colab": {
          "base_uri": "https://localhost:8080/"
        },
        "id": "Uc2Hsk_A31_V",
        "outputId": "5a4cd4b0-f8cf-45a8-a9d1-5ef2a739918a"
      },
      "execution_count": 17,
      "outputs": [
        {
          "output_type": "execute_result",
          "data": {
            "text/plain": [
              "tensor([    0,     1,     2,  ..., 19556, 19556, 19556])"
            ]
          },
          "metadata": {},
          "execution_count": 17
        }
      ]
    },
    {
      "cell_type": "code",
      "source": [
        "item_ids"
      ],
      "metadata": {
        "colab": {
          "base_uri": "https://localhost:8080/"
        },
        "id": "U5iDzK8T339_",
        "outputId": "a5cd468c-1f2b-4617-a16c-96efcbac7f3d"
      },
      "execution_count": 18,
      "outputs": [
        {
          "output_type": "execute_result",
          "data": {
            "text/plain": [
              "tensor([    0,     1,     2,  ..., 56910, 56911, 56912])"
            ]
          },
          "metadata": {},
          "execution_count": 18
        }
      ]
    },
    {
      "cell_type": "code",
      "source": [
        "edge_index"
      ],
      "metadata": {
        "colab": {
          "base_uri": "https://localhost:8080/"
        },
        "id": "AR0iT07W4GO1",
        "outputId": "2801febc-e344-4e39-9a8a-8d587b427d0d"
      },
      "execution_count": 19,
      "outputs": [
        {
          "output_type": "execute_result",
          "data": {
            "text/plain": [
              "tensor([[    0,     1,     2,  ..., 19556, 19556, 19556],\n",
              "        [    0,     1,     2,  ..., 56910, 56911, 56912]])"
            ]
          },
          "metadata": {},
          "execution_count": 19
        }
      ]
    },
    {
      "cell_type": "code",
      "source": [
        "# train, val, and test splits (80/10/10)\n",
        "train_index, test_index = train_test_split(range(len(df)), test_size=0.2, random_state=42)\n",
        "val_index, test_index = train_test_split(test_index, test_size=0.5, random_state=0)"
      ],
      "metadata": {
        "id": "IVIY-Fht4J-V"
      },
      "execution_count": 20,
      "outputs": []
    },
    {
      "cell_type": "code",
      "source": [
        "train_edge_index = edge_index[:, train_index]\n",
        "val_edge_index = edge_index[:, val_index]\n",
        "test_edge_index = edge_index[:, test_index]"
      ],
      "metadata": {
        "id": "zaP57Lrp4hzw"
      },
      "execution_count": 21,
      "outputs": []
    },
    {
      "cell_type": "code",
      "source": [
        "def sample_mini_batch(edge_index):\n",
        "    # Generate BATCH_SIZE random indices\n",
        "    index = np.random.choice(range(edge_index.shape[1]), size=BATCH_SIZE)\n",
        "\n",
        "    # Generate negative sample indices\n",
        "    edge_index = structured_negative_sampling(edge_index)\n",
        "    edge_index = torch.stack(edge_index, dim=0)\n",
        "\n",
        "    user_index = edge_index[0, index]\n",
        "    pos_item_index = edge_index[1, index]\n",
        "    neg_item_index = edge_index[2, index]\n",
        "\n",
        "    return user_index, pos_item_index, neg_item_index"
      ],
      "metadata": {
        "id": "ObLxhiBV49Au"
      },
      "execution_count": 22,
      "outputs": []
    },
    {
      "cell_type": "markdown",
      "source": [
        "# LightGCN"
      ],
      "metadata": {
        "id": "J4D-jMq1DTIp"
      }
    },
    {
      "cell_type": "code",
      "source": [
        "class LightGCN(nn.Module):\n",
        "  def __init__(self, num_users, num_items, num_layers=4, dim_h=64):\n",
        "    super().__init__()\n",
        "    self.num_users = num_users\n",
        "    self.num_items = num_items\n",
        "    self.emb_users = nn.Embedding(num_embeddings=self.num_users, embedding_dim=dim_h)\n",
        "    self.emb_items = nn.Embedding(num_embeddings=self.num_items, embedding_dim=dim_h)\n",
        "\n",
        "    self.convs = nn.ModuleList(LGConv() for _ in range(num_layers))\n",
        "\n",
        "    nn.init.normal_(self.emb_users.weight, std=0.01)\n",
        "    nn.init.normal_(self.emb_items.weight, std=0.01)\n",
        "\n",
        "  def forward(self, edge_index):\n",
        "    emb = torch.cat([self.emb_users.weight, self.emb_items.weight])\n",
        "    embs = [emb]\n",
        "\n",
        "    for conv in self.convs:\n",
        "      emb = conv(x=emb, edge_index=edge_index)\n",
        "      embs.append(emb)\n",
        "\n",
        "    emb_final = torch.mean(torch.stack(embs, dim=1), dim=1)\n",
        "    emb_users_final, emb_items_final = torch.split(emb_final,\n",
        "                                                   [self.num_users, self.num_items])\n",
        "\n",
        "    return emb_users_final, self.emb_users.weight, emb_items_final, self.emb_items.weight"
      ],
      "metadata": {
        "id": "DMGgGMSKG4FT"
      },
      "execution_count": 23,
      "outputs": []
    },
    {
      "cell_type": "code",
      "source": [
        "model = LightGCN(num_users, num_items)\n",
        "model"
      ],
      "metadata": {
        "colab": {
          "base_uri": "https://localhost:8080/"
        },
        "id": "AzaMY2ANKWiu",
        "outputId": "e08d5a92-e51c-42cc-f6c2-a2882d5ccc01"
      },
      "execution_count": 24,
      "outputs": [
        {
          "output_type": "execute_result",
          "data": {
            "text/plain": [
              "LightGCN(\n",
              "  (emb_users): Embedding(19557, 64)\n",
              "  (emb_items): Embedding(56913, 64)\n",
              "  (convs): ModuleList(\n",
              "    (0-3): 4 x LGConv()\n",
              "  )\n",
              ")"
            ]
          },
          "metadata": {},
          "execution_count": 24
        }
      ]
    },
    {
      "cell_type": "markdown",
      "source": [
        "LightGCN architecture employs Bayesian\n",
        "Personalized Ranking (BPR) loss, which optimizes the model’s ability to rank positive items higher\n",
        "than negative items for a given user. It is implemented as follows:\n",
        "![image.png](data:image/png;base64,iVBORw0KGgoAAAANSUhEUgAAAiUAAABqCAYAAABj/CF7AAAAAXNSR0IArs4c6QAAAARnQU1BAACxjwv8YQUAAAAJcEhZcwAADsMAAA7DAcdvqGQAADorSURBVHhe7d0HXBNnH8DxXxLEAVWpW1ABB0NZrrqw2rqtvlq17tlaR+1w1b1nXbVWW6t117pHravWVScuNgguUEHFBSqoQJJ7LxCWoIJEDfJ8P59r5XKQ53lyufvfMxWSDEEQBEEQhLdMqf+/IAiCIAjCWyWCEkEQBEEQjIIISgRBEARBMAqiT4mQipqrJ//m3A0NEgqUpavTqnY5TPSvJom7dpI9Z8NRSwrylKlF65qW+lcEQRAE4dWJmhIhFTUK9SXWTxjMd999y5AZf3NVo38piTqY5UN6M+jb7xgyey93TfLqXxAEQRCE7BFBiZBKPsrWrI51AQssS5shhYcSGq9/KYGGy6snsNhfSx5MqNh2ED2qFtW/JgiCIAjZI4ISIQ3NrWAuPrCjaVNbFJHXuBqp1b8iv3b1Tyb9coe6H9kiKd7HtbpduqYdQRAEQXhVIigR0ojx8uJSUTs+dClHfm0YoUlVJdpwtkxdQFjLoVSLuYw6ryNuzqaJrwmCIAiCAYigREgljkDPANQVnXAqb0NpxW05KHks79dy668pzAluxPhB+QkOjMWkvCtuFuL0EQRBEAxH3FWEFJobePndwsbFBQtrG8qYqAkLCSH2zh5mzPLjw3HfU++BH4F3oYiTG7ai7UYQBEEwIBGUCClivPC6+D4u1W0wKVCOciUlbob488+s6ZyuMYrvP7YgxseXixpTHN1cEI03giAIgiGJoERIFhfgSaDkRDWnvGBig20ZFTEnZzPusBPfj25BMWUs/p5+PFFVwNWtsDh5BEEQBIMS9xVBT0O4ly8R5ZxwMpd/VBbCumwRFA+V1Bg2lv+VlE8VTShnvCOgSBVcRduNIAiCYGAiKBESae9x0iMYpWU5yiTEG3mwa/gZn/afyvj2VgkniibsP44Hq1Fa2WIjYhJBEATBwERQIsgecnz+AH48Gs0TjyVM3xmGRj41SjQdzo+jW1FWJR8SeZg5Xy/idKwcnJxfz4y1AagTf1kQBEEQDEKsfSMIgiAIglEQNSWCIAiCIBgFEZQIgiAIgmAURFAiCIIgCIJREEGJIAiCIAhGQXR0zQ00Nzj6x2bOpVrx97VTmFG5dR8a2+iG7mSWhhtH/2DzuUjeXEoVmFduTe/GNmQlpenkmDIWBEEwXiIoyQ3UAcxt2ZL5gW9wEK+iGB1XnGTOx/n0OzJDTcDcFnwyP/ANDjdWUKzjCk7MaURWUppOjiljQRAE4yWCklxBS+ShsbT5fDVX4vW7lCVoNn0VExpYyLfl7NISGxXKma0/M3v5CSJ09+VXvGFqIw8yrs3nrE5JKCWaTWflhIZYZD+haGOjCD2zhZ9nL+dkYkINE5TkoDIWBEHIPg2xT9SY5M+bvVrmZ4igJNd4jOfcDnSe7yP/K5GyRHPmbFtMhzKGOqViOD3tf3RaHER8Nm6Yjz3n8Fnn+fikJJRmc7azuEMZg538Maen0qbTYoLiDRWU6OScMhYEQcgqbaQ/O1b/wc5Dpwi+ryAv9wm7Y0rFRn0YM+FLahXNfjdV0dE11yhA1a9/ZIR74eSndm3EXiYPX8GFOP2ObDOjet/Pqf+e/sdXVKDqN8wb4U7hlITyz+RhrDRcQjGr/iV9spvQdHJOGQuCIGRV/Pn1zPpxKzeqT2broYPsP+LBjmHlCf1rOl/PPCg/MmWfCEpyE9NK9Jo9mZYlk57aJaKOz2Loz57JT/bZpSzaiMbVsvvkbkqlXnOY1LJUcs2IFHWcWUMX4GW4hNKocTUD1I48I8eUsSAIQtaYlGvCgNFzmTPUnWIJl7h8VPq0Fa55tNwNDuSGJuGwbBFBSS6jtGzD9FldsM2j3yHfKr1/GcrMo1H6n7NJaYGLsw3ZXq9PaUmb6T/QJSWhPPb+haEzj2KYlCqxcHHG+jUsLJhjylgQBCELVJb16f5lKxzz63fINPfv80CrwKx0WX2gkj2qiTL9v4VcQUF+m9o4xx9hx6kIEvpkau7jd+o2lVo1oaJ5drtkKjEvkA9lMTs+qP0BFd9/9bhXkd+GWs7xHNlxiojEhHLf7xS3K7WiSUXzbHceVZoXIJ+yKHYf1OGDiu8bMELPOWUsCILwyrR32T9zNMuulGfgzFE0KJn9RyXR0TW3igtmWY92TDoeReIJoKBo41lsX9qZcgaIdg0njuBl3Wk/6ThR+jNVUbQxP2z/nc7GldD0ckwZC4JgzJ6En+PsHSvcXUvo97yIltvex7lWtDrVrVJVaRjcEwKW9Kbr7Bs0mr+OH1paGmQggnjEyq1M7eg1ZxLNSyadAhJ3909h2NLzxOr3GAdT7HrNZVLzksknq3R3P1OHLeW8cSU0vRxTxjlbbPgxlo/rSYsuC/R7hLdGG86afk3pNHwR/14xVC8qY/CQTX3tsa3YjDm+SXMRabj0SxvsbCvRcXmYfp+BPb3Ejomf0ar/crzuZ7a3vERcpBerB7Tis/HbufhUvztDr5qvpwSvGUTvueHUn7WGmQYKSHREUJKLqazaMv2HLtgk9X2QHuIxbwg/nTVEH2oDUlkl9i9JSSgPPeYy9KezBunt/TrlmDLOkZ5yaesI2jTpxrwzFrQd0Ea/X3hrlMVo3LcHFS8v48vmTRmw0ke+7b0btPFxxKvjUaeatFlSq4mLj0ejeQ0NDupL/DGwK7Mj2rF40yK++aiM/oXU5PdPiiWSqbBq+A0LNi/hs8i59BiwhosviGeynq84Lq/7hh5Tg6k1Yw1z2pYzaP82EZTkakqKfDSOeQOcSK7ke+LH4qFTOfQmp0vPBGWRjxk7bwBOKQnFb/EQph16k1PSv4qcU8Y5i+7COIguQzdwv84UNm2dT1/3svrXhLfHlJLVuzJl/XZ+bm3C/gnd+OIXb4ONPMs91JxfMowZlxrJDzUdqfDMYDtt5FmWDW5N/Tof0bS+GzWa9uXHQzdJM/glry3tZ8ykccgMhv0WIH9jDCPq2Az6T/LGeeIq5nxqLX/iMs0V9v6+g6B0AVLWiaAk1zOj+rc/MrxOytwa8Vf+ZMS4v7lpZPdMs+rfMW943ZT5S+Kv8OeIsfxtbAlNJ+eUcU7xxGsB30z4h0iHAfwyvzsOBfQvCMbBtCyfTFvCqDoSHrO/Zqr88CBkQdQ//LosEMceX1KnoH5fEjkAWPN1b+aEfMTC/Uc4dHQnYyp489PAASw+/0xUYF6bvj2cCF62kL2G+AgeHOKHUSsIq9CQ6vHHWb96NatXr+CXsUMY+dsRwkVQIhiEqT195k6kWXLfBw03d4xjxNorb3ANmswwxb7PXCY2S+lform5g/Ej1nLFuBKanlGWsZY7XrvYtGEDG3Tbxp143s4BUZI6iGUTF+MbX5Gek76hmpl+/0toIs6xa+NGNh8IemeaFF5KE4Hnro1s3LyfoDedadOK9Jj8FTVMQ1g3aQEeRlVd8oRwrwPs3L6TYxci09YwGIHIQzs4GFWFRo2t0vXVeHJ0Cb8cU1Ove0+cdcG4ypJP+raj/FNPVq44IucsNSWWjRvhFH2YHfuzG5VoCN24iM2haqJ91jJ1zGjGJGzjmPHHWaIKFKSQASIKgwclmit/8cP3wxg+PGkbzvg//Y3s5iY8S2X1KTNmdMYmqXFQus/hGUP41f+FvaTePJUVbWfMpFNKQrl/eDpDf/XHyFKajvGVsUT07cucXjeD74cNZdjIVXglrdtjxCL3LWKFVywFP/yCz6tlbnRB7JUtDP2sI/2HDmFw7/b0mefBO996FnuFrUM70LH/EIYO7k0HOaD3eMOZNqnYlf6tSqK9vI6Fm8OMoqk15vxGRrSqRb3WPRnwdX86N23CoC1hhg1M4jxZNWZ4qvvgi7fvx/+BT3L7SiyBZ72JKeGIU/IkjEni8PvvOBGKMtg7pEzrbGLnQuX3JO56nib4mZutskQVHEo+weeMdzY72Kuw7ruZi9fDuJ7BFvrfeKontOVkj8GDEkWhilQpfIXdG9azfv0Gdgflp6qblaiSMXpKijQaz9z+KX0fpEdnWTBEvpAZ2WOlskgjxs9N1b9EesTZBUOYZ2wJTcfYyliFTdNvmDKgQUKTmKqMM67FjPybqg3nrzX/cBsLGrZvSalMJDfadxn9Ow1le6QDPabMZGCdfJyb34ceM49w510NTKJ9Wd6/I0O3R2LfYyozB9Yh37n5fN5jJkfeaKYLUr/DJ5RVRXP8z/UG6XOQPVF4rNvC/QYTWbfvIDt+/gLXArfYPXM+/xmy77lJaezLP+HsNt19MGnbyOYtW9iSsG1mY/L+9azbcpzryVHRY0Kv3oFipSiVrgfpE0JCbqBRFMYi9fxEqpKUkr+7mlth3Hy2jFWlKV0M7l27xoMccL4b/AqkLOJI07Z15ZNQ90MZPh01hjYOhUVQkiOYUWPwjwyrXSi578PT80sZPvVf7hrZyWxWYzDzhtWhUHJCA1k6fAr/GltC0zG2MtYSdfMm0ZKC96q4YW+AJ53XSXN9FzvPPJYffurQxL2Qfu/zaLl3Yg69uk3Dz7ofS3ZuZlqvboxau4s1Q2twd8WXdJ+4n1vGVnefTdp7x5nbqyvT/Gz4cskuNk/rRddRf7JzzTCq311Ov+4T2f8GM53XtTENSitRB+3mL7/sdbeMO7uE7/oPZO7+e69Y61KYjydvYOnQttRyqIRbm7H88HllVBH/8tcRA0YlypJ80HMYnzmliipMP2SaZwhXrui2UC56/83kZqXTD6XVPOTRYy2KfAXIn3SRSKKNITpGzrkiD6Z5Ut1VlfKxeRVIsU95+uyAGUV+8ueTX3v8iEevYZCQob2WWEF94ya35XNeYVGTem559XuFHMHUns/T9H1QE7phFGO2hxtZu6sp9p+n7V+iDt3A6DHbCDf2m4xRlXEc/n4XiMcEezfXlBFCRknLnf8O4xMrF6FTbT54yaKEmsvLGfjVVsy/WM2udaNoUlZ/LVKVoN63K9j55xDKHh7GoCUXEve/CzSXWTHwK7aa92X1rnWMalKWxFyrKFHvW1bsXMfgsocYPmgJF97UyZbXldrVC6LQXOHoocvZasrX3PBk7649nAwxVAcVE+w+bYNbnijOnvQx7PxBCjPM0kUVKUyLuNFz6hAaFnzmGIUppiZyEKGOT5wNOg0TTHRxjhRPXHzqsEyLVg44FPnyI8cfz5D/jlzoirz50gc5Rug1BCUargcEcV8uoLyVqyFikpxHVaYd02d0SlkXRnuLPROGseriW697TUtVhk+nz6RjSkK5tWcCw1ddNPo+TEZTxurLePtFIqmscHYtbuQ1mk/xOusr3zhUlKnihMVLEqsq34n5u3ez/Jt6lEj3OKqkSI0vWbxzDz93raDf9w5Qlafj/D3sWv4NddNnGmWRGny5eBe7f+5KhfQvvyb5capiJ99O1Vw8d4Z7RlaZqSrzMR86Krjh7UmYQQM1BYqXBAHKEv9jwvLfWfpTv5T+GMpCFCsqPx5E3Utfe6p8j+LFzFBID4lK3T9I+5CH0ZIcb1tROlXlTALtXe5FSeQrUswgHVFft9eQxEd4++huCiZYu7ggluXIiZQUbTSBef2qJK+iK0UdZdbQn/FO27X7rdOtmDthXn+qpCSUo7OG8rOxJTQd4yhjbaQXPiFqFOZVcHVIabvRRnmx5vvP+LC6K3U6zOCQ/ur45Mpe5g5ojXu1KlRt2J3ZhyKyVI0eF3mJk7vXyRfhWUybOI6xo0cyauRIRiZto2ew9dmeeknUIQQGRyORh3LlbRPnR3gObeQZfv+mC+2au1On3WQOpBlVpCXy6GLGyu83evpPLPh5M4HvwBS7iXluTZPmTWjW4fl5Hjl6OguW7yXojeVZSbHyNljIN+i4C4EEG1tnapUllcoXQnvJF783Nqeh/HmE+uMf8pQyHzSlWSNXUvq05sXBsTyKG5e5Eq3flcyUyk725NFcIzg4pbZI+/ASl29JFHWrRqVng5KYy1wKB1tHB8Oviv4aGD5kiPXHK0C+qioKU8W1ohyavBu0N0+yYdkSli7N6raUFf9eMvon9/TS932I8VrIsFnHeKD/2Vik618S48miYbM4bmwJTeftl3Gcr3fCDdnE3g1XfduNNvI4s7r34ZdLBSiW5yHXPeQnud23ifJcSJ9OYznwpBTWFlruXjrEwjEL8MjMzS3mPJvHtKNuzQZ81m84k+csYPGyFaxa8wd/rP2DtcnbFjyet/65OpRQXduc8n1Kl35BQ1NsIEv7D2TVzcIUVjwg/PQyJi0+l2ryKCV5y9jz/rXd/Cm/55/bThKWA0YdvZCR59mkdOmE2irtvauEPsxKGPv6aW/uYMOB+2gfB+F/wVBTjL1E3Dl+7tGS/43fncHwdBXWHzfALs6LE2eejZJUWLVoS72C0ZzYvpOwhKJUE7r9L87iQMeu7umaYB+fPYH300o0/Ng2ff8VI2TwoERz3RO/CLmkTB1wc3l32m7UV/fw85TJTJ6c1W0S0zf6ZtA2mAPkdeCLuRNpWiLpNIkleOUI5hw3tsG38pPFF3OZ0LRE8gkdG7yCEXOOGf0w4bdbxmpCvP24L8kXOidXEpOg5vzKuRx1mc32zb8z9TNdtbvs7m5GjTiI2/y97Fz5Gyt/6YeuD5/2lvwU9rKbTGwQy/t1YujqU9wt/AHdxy1m074j7P2pPeXylaTudys5fPYcZ3Xbmb2MrZvxdUMbdZvbjyX5qmVBkSLPv7xGHljC1oLDWbd+JUu+ri0/HWq4fuQAgameDApYu9Oypm4OCBXlWnfmQ3P9CzmUsedZWbRo4qSH0j0idPcHo/GUc78v5rButU9NOIGBUVmq+csSbSSXTxzk0ME9/Dl9GptCn99WZGLXie71Yvl3426eLS6lZSemzepOmXOT6dTpa4YP6ki3RfdpOnUBX7s+893R3mb3+n08qdudjg45o4rA4EHJI28fdM3iJjauuBQx+J9/a0xdBrFm3wH278/qdpDdkxrpO5vlPLq+DzNmdEzp+6C+yfWwN/Q0kRWqMrSbkbp/iZqb18MNNrXy6/T2yvgBXj66jodmVHZz1DeHmFD5m/Vsm9xIDlI03LsXiVaRh4sb15Nv8K8Mq1M04aKheP/9xJtM/sJYmL3oe67hyprxzP7vHlKRj5myYR3Tv/yEWg62VP50IhPbqDj502DG735IkRIlKFG8KAWf0y4jPXhAdMLogQKYmyfVLaVn0WIWOxZ9hpVKSakP3dFdi9VXAzn/SH9AgqdcunwNTf4adOtWLcd+P5MYe56VZmaY6eJI7UMePHxTPWxfThu+hYXrL6N5vzJVLDVcDAh8fQ+Qam+W9OtBj559GbHsbPKq5xlSWtJ+9Lc4nvmR6XtuPhMo6WpLprHT4wC/fNeWFp3Hsv6/fczvaPfMZ6rl1t7pzD9tzzdjOmKVQ27HBk5mLP5e/jxBQaHKrunbtnKy/MWxqWSHnV1Wt0pULF0wUwWtPr+awd0706VLVrcu9J533LA9x5MpKdp4NIMbJ06RrijiTuOamZxC8w1TFm3MqMFNEm+WiiLUa1xTvt3mBG+pjGN98D4vBz957HFNarvRUZliqjth5aesgKAItNJjqC0HDs1SaqLUIVe4Ll8pTWwr4/Ciu5s6mO1bThMtBzt2nYfQyTZ1xFGYBj3bUUkVydEf5/D3S3pASrFxiUGmHCTlyfP8oETX7p5X/zYqK1ecdKOc4kO4kHpVsscnOewRTYlW/eho++qV2jG+O1iyeCl7M1Ht/3q/328uz0m0UZ5sXbKY5f9mYkSN/JkljBqRj4x72YVKfZ7Vg7tlUA6d6b3otBxaqQn+czDdMni9a+95nMj0hfAJp5f+xpGHJjh0m0hvp7zcCw7k5uuKmUyc6PnjYn79ZQGTe9dI6GPzIqZ2n7NwUVtuzOjJkDWe3HsmXUozS5zrfETDum6ULfjMHUYTidcfQ+k5LYzWixbxhbGP9U/lmZxkkyYMb19dxzdTHNxcMhWJq6+dZPvWzQmTySRsW7ew9a+d/HsigJsZjPpKe7x87Nbt7Nx3DJ/r0emHU6qvcXJ74kQ1SX972449HDp7hUgj7OShjY0iIjyc8FfYbkQ+5kWBd3ZEn17MkkNRSKrStJnyA51tjLRlMvo0i5cclJ9AVJRuM5UfOtvIzxQ5w9soY/UVb/zvalFZOuOabuZI2WNPPM/Lz40mDnTq2zjVaBctt739CNMoKe1WPXFOoud55IPPJfnLpixG1Q/s0/UxM6lYk6pFlUiRR9l3/CU9fFWK5L43UmZP9ryVcbaXr0Sam1y6lFRtoOXeP5vYF12dLwZ8xMtmO3m+WLw2TGPazLV4ZqKD5Bv7fr/WPKeIPb2GKVNnssE3M02NUsKQ1UzRxvIg4jnlcP9JQjnEPriV4evhN+4Tk8n30YZtZtGmEDSFG/J596o4ViqHdDmAgNfzdKd7asKx0Sd80upTek+YzeCmdtiWKvSCm7D8sFJ3OOu2TqPm1d+ZssJfv/9l1ASsmsTvIVWZsm0939crZuAb/WsmGVLkJukLO0vJyvojaYZXvH7niz29fkya26myVMbKRqrfc4w0edoUadLob6Qu9R0ka8dG0rAtIZJaf6xOyvHWUv3e46WpUyZKI/q3kqpXsJPc+62U/B/rD9R5el06PrejVKWMpWTboI80ceoUaeKoQVInd3upQs2O0pyjdySN/tCXU0vx8bFSbGxWt3gpXp35dzE2mrv/St+7l5Os5PL+cMwh6b6xZkVzV9r/fT3J2spSsvlwtHTIaBOa3tsq4/vrekgV5fJy/HKb9Ei/L7XYE+OkuuUsJeuPZkhpv85R0ta+DpJVGUdpwI6MfjOF+tIC6RNr3TWhiTQnIINrgjpI+rGFLu/lpFYLL6X5rj9LffEn/d9qLS268qIjU4uXAuY0ls+LslK9CR5SbMKuIGlBq0pS/fHHpeiEY15VtOT550xp+uyNks9T/S6j8DrznEQj3T+5Spo5fba0NTAT1/rojVLv8vJnV66ONO5kQopeyeO/+kl28vek3ZJrWbh2ZyRGOjGunlROLiP3CSelJ/Ke6B39JUfrBtI0z4zS90Ba39PmmXubWrrwU0u5nBPTk47mjrS6i7V8bsv51m223aS1kfrXjMYr5Os1M2gAFRvgib9u4E3BKrjapW+70VzaxMShiziR6qkir1V1qpfLj8KkIq1HTGTc6LGMn/YTa3f8SJsCwWycs5RTqSLXNMcPHceYsROY+es21g+258au6fyw7bb8TKCX14pq1a3JrzChwidDGDNmLBOm/8y6HfNooTnBwknL8MtkjUmcxyQaVLClfPmsbtY49N/+zCJJOYQ2nO1jR7I+RE1+54HMHd3gpXNDvB1awrePYeT6ENT5nRk4dwwNjDOh6b21Mo7FxytQ/q8JlVwzmjRNQ5iXN+EaBYVdqmGf+usc68tpn2gwrUKN6i9Znlep1D+ladFm9F2TEid90lEoXpxxlYUFibXUMUQ/zOxjtwk2lR14T6Hh1pUr8m9qubtnAatvNeH7r2tls3nPDLfOIxg1rAPOmakWfmNeZ56TKLGo1YMRo4bRNhMdKLUPHxKtuzArCmJR+O1/NzXXNrFwcwgas1r06lMjYahsPkdHynNV/l7cTbmHvHZa7gV7cOy4D+FG3yv/zTDg2aG7iPlzS/40TR3ceLYTMERzZOk81vg9plDq1zS3CAy+g/S+E67JK5XJzEpQQjfTS1xs2rbU1MeXTzpehaVdBQopYrlx7UaqE0r+UgYGcUd6HyfX8ilVx+bWlNOtE3DnJhGZDEpUpWrToffn9OmT1e0Len1cIcc0I6RQc2nVcCbsuoVUqA7D5n5LNSNdHl59aRXfT9jFLakQtYfN4xtjTWg6b7GMNdfwC7yDVlmKyi6lMjg/H+HpGSyn0BQHV2d9J9hE6sun8LqtxcTaDbeXrJWjKmFLufcUCd/b6+EZ9LvQ3OSWbi0WxXuUsynx4u+JWSlK6cZ9a+5z517m21/zVq5MRfkPx4eFEBJ5gp/meuA8ZATNi6ZKuzqcw4u+o1OLJrQd/CfBqZP60INl40YycW3SgmZaIg/PpUcLd9zd69Nn+aX0TcdvmeHznEIbsZ9ZPZpT370eDfr9kWrNlufT3r5LpC6ONClO6ZIvD2Jer4ccWbSYY4+UlGjWi3b69keVlQuORTUEnDkr363ekDgflgzsROfuMzjw6M2FQsbMgEFJFGfOBckXMRXlXFxIfe7rxJxdxKytNyhRsw4VUp+TMV54XdCQ18EF51RXvqjT2/j3ihKblm2omTqISTre0S3V8VqirofxQDKldFnLVJmKwcvrApq8Drim+uPaSD8CrmnIZ+eMQx79zpdQlWvOtxMmMWlSVreJjOmU9qKeEzzxXsiQH44QpShOk3Fz+NxYO0o98WbhkJkciVJQvMl45nxun2PK+q2WcfxlLumGJKrKYGsrfwm0tzm0fBWnkmaJjPXjnN8T+SZig4tLkTQXipiAQK7IMYGpTSUqyt9l9bWdLNkQIH/bMlCgDs0/Ko5SeoDHwRPpLvZPfY7iIQclymIf0bz2SyKyPOWxLSPfQKQowq4/zPTTrLK4I/Yl5IeQm8HsnDuJPWW+ZVyHVIuEakJYN/ALfr3nRgPrR3ht+43NqdZoifXdwdLV6zkVkVcfNCmxaPAtIz/OT9jVSN4rbWl0Dx2Gz3MKZYlGfPddPVTXrxFTyJLimch8fPj1hA6kqlK22L7lZ4Y4/9+Zs/U6WpOKtOv5cUr/mrxOVHXKxyOPAxw3SFSiJv6FQ3nUhGz4kXW64aoqc8xfOIot9zBYKWhv7GH3aV0jRQEsi0pcCAwgULf5nuXA6jF07fsL/rEFqV7HNU0H2LhATwJiFBRU3OCf9X+wetnPTB/akdbfHsPmq99YPaZemurGxONV2Li4JVdzayIOMH/VaSTbDvRpmapTT1wgngExqGxccdUf/PjaQRYMnsXhvPUYOrozumuc8IwHx5k17Ge8Ykwo234a0zuUNbqLbqIHnJg1lIVeMZiUbc/U6R1e3OnSmLztMpae8DhWfnSV7nDp9BHWj+3F99tuISkTvyfq0HP43NaiKFQF1zTD6LTEPIqWL6fyMbcucPLgCob0nszhB8+7mBSiyXfD+Lg43Nw+k5n7byXXKmjuHGPelHWEUoImw4fQpLD+hedRlcbJUTcVvnwxv6BbryeT8thhX14OvKIPsuzvknw7uSvWqQtbVZZG45excnxX6libo1DkxTRvUm40hPn4E0ExXKrbpuqoq+bmzTtoTBxwMa62m0SvJc8pnoSGcEtrir2rEy9/rlNzNfhyQgfUAnZOVHqbTw2xASwdvwS/p2BWqxvdUj8Jy+dq7boumN7by5LlvjzWPuTOnVdfY0f7wAf/1HORaC7x9/QxjB2r20YxrG9r2o8/mFCDpChgjohJEhmkGNSBq+jfZSqHE9p5H3FocmuaNm2auLVsQ68xqzh3V/5w8lelds3Urdcabnj5Eq61wLq0koibt7gZFkrgGT9irNxp2+5DyqY5gfXHy3/qqd+fTJkwjpHfdKFJ08GcsPqchasm0CBVt3LNDS/85IM14ZsZ3KIRDeu44Np8Cv6OQ1i/Zw39XF4wK2RuJT8x75k8nJXBseS1682s8c0pbpRfFi2390xi+MpgYvPa0WvWBJobZ0LTM4YyNq3Ghx8URqG+yJqvejI9sB6zlg2nlv7788DTC92gGVN7V9LOgaik+Af1qCw/7cZ5L6T3F78Q2e5Xfvmi8nMX81NZd2bhH7PpbHeHtX0/okHrTnTr2JL6H3Zj+a0q9Jq/gQWdymUiKMuLc62qvKfQEuHnnfl1SpSFqFihFCplUZqMmU6XdCObVBSzKi2n/wEBAaFozCvimNyUHI2P9wU0+Z2o5pSqIDRX8TsfidKqCs7PVgsbg9eR52RxBPkE8URli4tLZlaAf4SPr27YcF6q1KrJS9ZRfI203N0+h4VnouXguwTNenz6zEOpEss2n9PGKpazc9pS3aUhfZZ7Z1wD+DJP9zOySX823UxVn6e5zrF1q1i1SretYcNeX27rWyEVZmbyeZ3471wvsb/r2/JA2trXXipTsYe07r5+l0wTsU7q5WAl2XVcLl1N08lef7ztJ9KELX9LO3ftlvb9d1oKikg95CbFg619JYcy5aXOy69L0Y8iJO/fe0gu1s5Sr7WhL+zln3uppavr+0hVy1pKVnatpB+9Mi5XY6C+ul76vGoZycqqktTqRy/JeFP6LCMq40eXpCNb1ktbD56X7mfpC6GR7gfukzZt2CEdv/zi0TdpPZZueB+Q/trwh/THn5ul3SeCpbtZHIihubtR+sLRSrKq0EladSOT4y+iz0izWjhIdYfsliJe9CtP/pWGVSsjVei6OuW4p8elcXXKSNatfpYupy6j++ulnhWtJMd+2zMcufTWvY48J9Fcl5a2t5bKuHwr7c3M6ftol/S1s/yZlW8j/ZrpUVMZe3pkptThk/9JI7ZFZHP0zfPF3/KUdq9fL+32vCmlDKoyvlEqhvGOj77JsrgAvHTNK7ZOOKcKn5WFSlLcTMGTK8GE6iPJBMnH16Nt609o2aI5jevXwK54Rs9ocQR4+RMjR/PVapbEzLw4Ll2607hIJIdXb+JC6r8rJIgL+p1hk/dxWypM/RHzGJR6Qi1jEhfE78Mmse+2ROH6I5k3yNiX3E9hVGVsXh73TzvStqE9Fi+vpkhFiYVDY9p/1oo6tlmZqzw/pVw+ovVnXenauR3Na1eiSBar8pVFGtPmoyIonp5lzz/PznSZAc1Ndo0bzEqpJ/MmvLhGSn3JE597SipUrZ68kOhTr30cDldg6Vodq1RlFOvjSUCsiorOLsZ37r2mPCd76oNPkJo8di6ZGnX04L/dHImUMPugLa3KZelESyev+wg2/r2dmW1e34rWJiXcaN6xI83dSmZqri3BsF7X55opmnAvfG/INxZHF2xTNVxqrvtz/p4WU+sK2KRqsEw6vqB8/Etni9WE4+V7A8miCi5Jo3TyV6eWWwHUF09y7HmLfuVWMef4acgcTj5UULLFJGb1qJBhW/LbF8O5nwYz9+RDFCVbMmlWj7Qdp41ZjiljY1aYRr06yJ/5E05tXI98b3zGYy6fPICvbkSPOpx9k3rz/YnKTPxlKDUL6g/JkJYoH19CNOZUdLBO/Fzk4Hfl3A2EavLj4Jo0Db+OhpuBQdylxHNGLr1pbyLPKeKCvPF/pKSsszMvXUlEG8aOdQe4pyhFy57/w/Kt3nGEnOAtniJa7p30kC8qpti7OOlPfg1RQTuZMXwxPqaV6f1tB8okp1A+3uOUfLyKshUqvHSEhfbucU7KVyyVpU2qwKYgNWtWwTTOh33/XJffTUigjeTQjCH86vcEE+tOzJjWFsu3f6XNgJbIQ9MZ+qsfT0xs6DhjGm2MM6Hp5ZgyNn553frybfPiaPzX8OP2Z2pLnp5g8dd96T/oa75o1ZJB/1rx/Yof6ZC8sNDzaLkTcQ81CiRJk7Bi7PqRMwi1dcVMVYjixfMQcWgm383zkI+Vg5Jbd5GUxSlVQkvo9rHye1yQf/cteSN5TiJfh+VA5prWHEeXl490e/DfQn47Fk3B2gP46mNDzCMrvOveWlASffInvvrxiPzcq8ZnYQcafuiOe60PaNx3Eeete/HT1g2MrJtyEkefnM/Aef8lHH9h0xR+83hB96Po48wf+CPH5EPUwRuZstxTP9ZeSekGH+KY5ymn5nbn89/OpRuDn/toublzHCP+uEx8Pkf6zhlPIyNdSFF7cyfjR/zB5fh8OPadw/hGaYeqGq+cU8Y5ghwMtBo7nk9KRrJvxhg2hKSEA+oQPwIi47np78l9h4Gs2v4bPR0y08BignXt2tiYRrJjiDt1mo7Ev+Ekxnd0kZ/ub7DxK3faL4ql2WfVE461da1MYa0PizrUp8/2krRr8/Zqvd5MnpPE4uN9nngTe1ycdVOOPZ/29j9MHb+ea+/VY+jkHhhguR0hN9D3LRFyqfjLq6Xuuk5oZeylTxf6p+rYZWTiL0uruztJZaysJIdPf5b8jTah6eWYMs5hHpz9SWrvVEaqUP8baUNwjH5vdmikqMunpENHzkohUUndKNXSncBj0pGzodKDND0rH0vhXkelo95hOaiTdUaykmdZrIc0oV5ZybrZbCmjVQOSxF7bK41vYS+VtW8qTTj4+jqlvjmio+ubIh7XcrOn/iweNp3D96FIw9HM6VfZSDt2PcV/8VBmJCT0I0bP6U/lnNIDLceUcc5TsNo3rNo0l/YFDzHif835Yu5+/SuvSkkh25o0cK+GtW426QQqijrUxb1aOf0U90nyU9q1HvVcLHNMJ+uMZSXPWu7uX8uu6+bU6/IZGawkIh9yF48lX/O/Fv3YHPsxE9auY3zD19cpVXj3iHMl13qIx9wh/HTmEcrSbZjyQ1dSz/KfLdo7+B/Yya4Dvuj63mXXQ485DPnpDI+UiSvodjFcQrnjv59du/YndhI0uJxTxjlVAbsOzNj+H7vndqKMQjTGvh5x+G6YwYTv+/DZiMOU7DGbGV2eM9mf0pQ4tQVNJ23h0O6F9Klq8Y7cZEwoUcUd93rVsCmYNKGIArOybtRzd8fF6sVNWcbLCPOlrzERchWNdOefYVI93YqrNvWlMYfuG7Z69f56qVcFS6mc+0Tp9KsvCJpAc+cfaXi917WC7n1pfa/yklW5etKk7CY0nZxTxoLwYo+lkJO7pJ17j0he16PfgaYYwZiJmpJcSBO2ldFjNhCqzo/TgHmMbmDYp5m4IH8uxMnxdkELCmWnc5smjG2jR7MhVE1+pwGGX0E3LoiAxIRSOFsJTS/HlLEgvFR+rGu1oGVTd1ytzET1uvBaifMrt4m7wMrhE9l7S6JQ7eHM+7Yahl0fS03IqbPc0Mo3zPcKY/HKUyfHcWHlMCbu1a+gO+87g6+gqw45xdnEhFL41ROaXo4pY0EQBOMigpJc5TFeC4cw61gUimJNGDfncwy+MG1cIDt2n5dvm2BasBDmr3iGPfb6maGzjhGlKPaaVtCNI3DHbs4nJLQQhV41oenknDIWBEEwNuJylotEHZ3J0EXePDYpQ7tpM+hg4CV1tTFX2D1tFCsSptlU8l6hgq92gkUdZebQRXg/NqFMu+mGX0FXG8OV3dMYvSLxxq58r9AzowxeXY4pY0EQBCOk0HUs0f9beIdpI3YxpM1AtuiWVjUpgMX75plYcjwrNDyNiuRhXNJQEBUVB2xj7+iqL531MQ1tBLuH/I+BW8Lkv2hCAYv3MTdsQtE8jSLyYRzJKa04kG17R+OWzRqNHFPGgiAIRkoEJbmBJpQ/+7Zh5L93eXMftglVRx1i60CbLNRyaAj98wvajvyXu2/wrDSpOoqDW78i3eruWZFjylgQBMF4iZrfXCBm72xm7H+TN0sdJQULF87azTJmD3Nm7H+jAYmOsmBhCmfzrp5jylgQBMGIiZqSXODJ6WVM3pTYf+KNUeTDpct4urlmoWHhyWmWT96Y2Pn0jVGQz6Ur47q5ZqsJJMeUsSAIghETQYkgCIIgCEZBNN8IgiAIgmAURFAiGIUY3x0sWbyUvbppSrNFzYMbVwiJiEkeXZOhuEjCrlzj3lP9z9miJcprq5z+Zfx7OfsNOOoHN7gSEkHMizNAZNgVrhkmA4IgCEZBBCXC66GJ5Wmm78+xeG2YxrSZa/GM0e96BZqIw8zpWocadRpQv0Z1mg7bSki6NGi59e8kOrTuwXf9WlOnfk+WBTzRv/aqYjm9ZjJTf9iAbyZiBLXvAjp3/5WEqUZS00RweE4X6taoTcP61anRdChb02cA7a1/mdyhFT2+68f/6rjTc1kA2c2BIAiCMRBBiWBY2gec3z6TXg2rMXBbtH7ny6gxq/Ip/Qd9xSeOGXfajI28ynmvM3icPMnJkycSNo+AG3I4oKcNZ+P0ZTzu9AdnL/mwtL05FzaOYcSKS2j0hySI2sfMscepMWsLm/9eSd9SF/nnQID+xVekfUpB184MGDSAFhmu5x5L5NVAvM54yOk+xuaVm7he2Jz7F27pX9fREr5xOssed2bN2ct4L22P2YWNjB2xnEtpM8C+mWM4XmM2Wzb/zYq+pbj0zwECRIWJIAjvANHRVTCQWG6cWMOPP/zCFs/bxJOPZgv8WNo2v/71VxN3bS/zxkxj9bEwNOYFMTNVkbTUi4nbYLYu6Y5lUmita+7Q/TvuLFOa9GL7w6fcN+vKuv2TqJU34Qiitn2J+7ySLDkwmdpy/KPValEqX1dsHse1vfMYM30Vx8I0mBc0w1R6wv2HWt5735z81b/n1G+d9MfqJGeAs1Ma03v7Q57eN6fLuv1MSskAX7rPpeSSg0xOzABaOf3i6UIQhHeBuJblAurwwywa3JEWTdsw+M9g+ZaX4qHH74wbNZG13sl1Dq/kyfEZDJh7CadRf3NgQm3yyKeW4qULxWmJPDyXHi3ccXevT5/lz9ZqHGJSt0FsoSPLTpwn2M8Hz3OenNNvp35PFZDo6P+tvnCIozcc6TmoEQXD9vLXqaRqhFi8TnqhtXejsr5CJnsBiZaI/T/o0/8h/dZeT5P+qEMT6fb1Zui4jBOBF/DzPseekbUo0WgaB8/I6U8TkOgkZ4DDR2/g0HMQHxe8zj9/nSI5B14n8dI64JaSAfElFgThnSGuZ+84Tcg6Bvb9lXuuDbF+5MW2JZvwS45KYvH9eymr13sQkTdlCi51wO8M/Kwd7du/eOs4fid39J0x89cdz7YtM+lRyxKLAvmSazNeTIlFg28Z+XF+wq5G8l5py1QTgWm4uvkXNkY2YOS8gdQulU+//2W03D13jtASDtT8tD2Ni0RwYJdH4k1dcxXfwEhsXZwxSzg2u5RygDGY7+qpuH4thkKli6ekX36vzb9sJLLBSOYNqENC8jVh7Nh+gQ8+bUrRF3zztHfPcS60BA415XJuXISIA7vwSMwAV30DiLJ1xtkwGRAEQTAqIih5x6nKNmL87ysZ37UO1mYKFKam5E361OWbpI9fBBR1pbptqr4QJuZYFClKkZdsxQrlI+W3XvWJXc3Nm3fQmDjg4qxvokgQi8+5ALRV3HEvkpW/HIe/bzB57F1wKFyH5g2Lcufov3jqKoKi/fAPsaCys5UBZ0F9QmjILbSmDrg6pVrpJtaHc4FaqtSrT1Ly1Re38tfND+nQoGDijueI8/chOI89Lg6FqdO8IUXvHGF/Ygbw9w/BorILVmIaV0EQ3kEiKHnXqYphVTo/PAgg4KoG80qO2CRFEtHeeF/UkN+5Gk6p4gETu05M+/U3fvvtxdvCoY2wyO4ZpLmK3/lIlFZVcE5dfaB9yL37T1D7LaZrsyY0aZJ+azF0M7eeHTarvoJv4CNsXVwwpwB1mjWg6M2jHPSPIy7IjyCNA86VUwc/2RQXhE/QE1Q2zrgUTkm/9uE97j9R4/dbV5rp09u81xL87h1i0v8Sf275/Xb90ampCfEN5JGtCy7mUKBOMxoUvcnRg/7Eye/lG6TB3rkyBsyBIAiC0RBBSS7x1PscAbF5calVk6Sup7GB3gQ+VlGpajVe/Oz+Gj1MDIzMHF2wz2DgjUn5Zgz85hu+yWAb1L4qBZ89gx/54Rf6PlVcEmtD8tf6mNqFrnPiyGXunj9PRFknXAolHqqjiQrFx+sykak7g2g1qNXqtP1bnkN725fAcC2FKjuTurIpkQkVmg1MTG/fWuSLKU+PiWP5Vp/+rz511R+X2iN8/UJ5v4prYm1I/tp8VLsQ108c4fLd8wRFlMM5VQaym35BEARjIoKSXEHNJU9f7ikrULXa+/oP/Sle/xwmXGGJa7W0zRlxnnNoV68WtWu/eKs/cH36moosivXxlIMlFRWdXZKDpQTKwlhZFkTSWuDU/BM++ST91qK2LQX0hyeJDfQhCEdcq+jrEsxq06BGfi56HMUj+CrmjknBg4Yb+ybRvmkL2rdpTOf5vnIp6Wi5vbYb9hU/ZfHll9/Wn/rK76fOg52zc5raC2VhKywLSWgsnGgup7WuSQR3q3Xmq3ap0l/LWn90KrEB+AaBo2sV/d8zo3YDOZC86MFRjyCumjvilJABw6RfEATBmIigJDfQRuHjewWNeUUcrBMf5+OCVjJ3Yyia/PIN/Jm5QVTvV6ZB8xa0aPHirVktG/JncAZlfoy5hpuBQdylBJVdSj3TzyMf1d1rYXZ+N3+dz+zIIA3hPv7cq1SDGslVPwWpW98Vhf9B/gqKooKzU+LNXhPOuUs2jNu9if4OErfCb+lv6vEE+F5AY+VG9TIv67gRR5C3P4+UZXF2KZL2y5SvOvVrvUfQ3r8Jjr3Dvp0+OLduTomXfOM04T7436tEjZQMULBufVwVfhz6K4ioCs6JTW0GSb8gCIJxEUFJbqC9Q8Q9+ZalkJA0Wh4HrWfkzFBsXc1QFSpG8TwRHJr5HfM8HiccrrJuztdjxjNu3Iu30T0+IFVLSCJtJAHnr8nhQRzhl6+8ZKZROSi5dRdJWZxSJbSEbh/L9ysu6G+uYNHyWwa5hbG4Xz/mbjmG78UQrl69mrxdi3hI3LVdTOzejyXn4+T3vsvJk1dxbtGccsn3YyVF69bF4fFxDnkXw8m5aOJJrypLq4E9qJr3MpfCoGz58iR0U9WN0Dl/H3PnGlTJoDkpDe09fHyuoTV3xMXu2YMtaPHNINyuLaLfl8NY4W3HB3YPnkl/tPx+19g9sRv9lpyXS0zL3ZMeXHVuSbOUDKAsWpe6Do85fsibYk7OiSN3DJF+QRAEIyOCktzAxJratW0wjdzBkPq1aTrKj4YTx9PR2RLljY18Vb8di+Ka8Vn1ZxtDsiD2GNNb1aGGc3W6rLwshxtqfOe3xM2tJu6fzuZ0hkvamMiBUWUKa31Y1KE+fbaXpF2bCikjekwd6bdyEzMaa9k3qx/tmtSnXr26yduHA9dx6/3SFH16gtm9u/DVwP6s0nzB6G62aWpdVFa1+cBGRZ6SdajtkPZOHevtgVeMJW7VyiT+ziNf/C8rcaxeLW1zUkZiffAOisfE3hXnDEYsmzp8ydK1k+XA5BgXHh5nSvN6adLf4OuNcuKKUaroU07O7kXXrwYyYJWaL0Z3wzZtBqj9gQ2qPCXlz9GB1DnIVvoFQRCMjW5GVyEX0ERJl08dko6cDZGiNPp96jtS4PEj0tnQB1LSrjfvsRTudVQ66h0m/+sVxd+Rgk4ckP47Fyo9yDAjaincz1O6lu4N4qXAuU0la8d+0l/Rup810o11PaUq1h9LP3jHJxzxIrEeE6R65cpJzeb4y3/pOWLPSlM+biL94POivxcv3Qk6Lh3876wUmnEGJHW4n+SZLgPZS78gCIKxETUluYWyELY1G+BezZpCSZ+6qigOddypVq7gW6wyy09p13rUc7F89Sd7k6LY1f6I+lXLpR+Nk0BF6SpulEn3BmpCQq5D0dKUzgPRPqv4efNFolVWlLO6yd4FSzgapT/0Wdq77F+7k+vm9ejSwT7VfC1paW5eQ6r7Be0qP+8IHROK2tWhYf1qlMs4A6hKV8EtXQaykX5BEAQjJNa+EXIxNecXtaPNnKuUq+GApX0HRjTzp1/X5dw0L0Pdr+Yzv3+1tP1m4nzZMHcL5y4cYY+nGW1nLmZCc0NOxpYVr5B+QRAEIyaCEiGXe8yNwCDum9niUK6wHFyouXcpkDvmFbEvmUHdzZNQPA7788DcispVnbEye9uVjVlMvyAIghETQYkgCIIgCEbhbT/mCYIgCIIgJBBBiSAIgiAIRkEEJYIgCIIgGAURlAiCIAiCYBREUCIIgiAIglEQQYkgCIIgCEZBBCWCIAiCIBgFEZQIgiAIgmAURFAiCIIgCIJREEGJIAiCIAhGQQQlgiAIgiAYBRGUCIIgCIJgFERQIgiCIAiCURBBiSAIgiAIRkEEJYIgCIIgGAURlAiCIAiCYBREUCIIgiAIghGA/wNi5YOpOTM3YQAAAABJRU5ErkJggg==)\n"
      ],
      "metadata": {
        "id": "CbByrRy3KkG-"
      }
    },
    {
      "cell_type": "code",
      "source": [
        "# BPR Loss function\n",
        "def bpr_loss(emb_users_final, emb_users, emb_pos_items_final, emb_pos_items, emb_neg_items_final, emb_neg_items):\n",
        "  reg_loss = LAMBDA * (emb_users.norm().pow(2) +\n",
        "                       emb_pos_items.norm().pow(2) +\n",
        "                       emb_neg_items.norm().pow(2))\n",
        "\n",
        "  pos_ratings = torch.mul(emb_users_final, emb_pos_items_final).sum(dim=-1)\n",
        "  neg_ratings = torch.mul(emb_users_final, emb_neg_items_final).sum(dim=-1)\n",
        "\n",
        "  bpr_loss = torch.mean(torch.nn.functional.softplus(pos_ratings - neg_ratings))\n",
        "  # bpr_loss = torch.mean(torch.nn.functional.logsigmoid(pos_ratings - neg_ratings))\n",
        "\n",
        "  return -bpr_loss + reg_loss"
      ],
      "metadata": {
        "id": "Ccsd69xSLANj"
      },
      "execution_count": 25,
      "outputs": []
    },
    {
      "cell_type": "code",
      "source": [
        "def get_user_items(edge_index):\n",
        "    user_items = dict()\n",
        "    for i in range(edge_index.shape[1]):\n",
        "        user = edge_index[0][i].item()\n",
        "        item = edge_index[1][i].item()\n",
        "        if user not in user_items:\n",
        "            user_items[user] = []\n",
        "        user_items[user].append(item)\n",
        "    return user_items"
      ],
      "metadata": {
        "id": "0c0xWMoFM2Fu"
      },
      "execution_count": 26,
      "outputs": []
    },
    {
      "cell_type": "code",
      "source": [
        "def compute_recall_at_k(items_ground_truth, items_predicted):\n",
        "    num_correct_pred = np.sum(items_predicted, axis=1)\n",
        "    num_total_pred = np.array([len(items_ground_truth[i]) for i in range(len(items_ground_truth))])\n",
        "\n",
        "    recall = np.mean(num_correct_pred / num_total_pred)\n",
        "\n",
        "    return recall"
      ],
      "metadata": {
        "id": "jMhTYsm7QEhM"
      },
      "execution_count": 27,
      "outputs": []
    },
    {
      "cell_type": "code",
      "source": [
        "def compute_ndcg_at_k(items_ground_truth, items_predicted):\n",
        "    test_matrix = np.zeros((len(items_predicted), K))\n",
        "\n",
        "    for i, items in enumerate(items_ground_truth):\n",
        "        length = min(len(items), K)\n",
        "        test_matrix[i, :length] = 1\n",
        "\n",
        "    max_r = test_matrix\n",
        "    idcg = np.sum(max_r * 1. / np.log2(np.arange(2, K + 2)), axis=1)\n",
        "    dcg = items_predicted * (1. / np.log2(np.arange(2, K + 2)))\n",
        "    dcg = np.sum(dcg, axis=1)\n",
        "    idcg[idcg == 0.] = 1.\n",
        "    ndcg = dcg / idcg\n",
        "    ndcg[np.isnan(ndcg)] = 0.\n",
        "\n",
        "    return np.mean(ndcg)"
      ],
      "metadata": {
        "id": "8Sw37p6gQGbc"
      },
      "execution_count": 28,
      "outputs": []
    },
    {
      "cell_type": "code",
      "source": [
        "# wrapper function to get evaluation metrics\n",
        "def get_metrics(model, edge_index, exclude_edge_indices):\n",
        "\n",
        "    ratings = torch.matmul(model.emb_users.weight, model.emb_items.weight.T)\n",
        "\n",
        "    for exclude_edge_index in exclude_edge_indices:\n",
        "        user_pos_items = get_user_items(exclude_edge_index)\n",
        "        exclude_users = []\n",
        "        exclude_items = []\n",
        "        for user, items in user_pos_items.items():\n",
        "            exclude_users.extend([user] * len(items))\n",
        "            exclude_items.extend(items)\n",
        "        ratings[exclude_users, exclude_items] = -1024\n",
        "\n",
        "    # get the top k recommended items for each user\n",
        "    _, top_K_items = torch.topk(ratings, k=K)\n",
        "\n",
        "    # get all unique users in evaluated split\n",
        "    users = edge_index[0].unique()\n",
        "\n",
        "    test_user_pos_items = get_user_items(edge_index)\n",
        "\n",
        "    # convert test user pos items dictionary into a list\n",
        "    test_user_pos_items_list = [test_user_pos_items[user.item()] for user in users]\n",
        "\n",
        "    # determine the correctness of topk predictions\n",
        "    items_predicted = []\n",
        "    for user in users:\n",
        "        ground_truth_items = test_user_pos_items[user.item()]\n",
        "        label = list(map(lambda x: x in ground_truth_items, top_K_items[user]))\n",
        "        items_predicted.append(label)\n",
        "\n",
        "    recall = compute_recall_at_k(test_user_pos_items_list, items_predicted)\n",
        "    ndcg = compute_ndcg_at_k(test_user_pos_items_list, items_predicted)\n",
        "\n",
        "    return recall, ndcg"
      ],
      "metadata": {
        "id": "2PTUSAKzQIaR"
      },
      "execution_count": 29,
      "outputs": []
    },
    {
      "cell_type": "code",
      "source": [
        "# wrapper function to evaluate model\n",
        "def test(model, edge_index, exclude_edge_indices):\n",
        "    emb_users_final, emb_users, emb_items_final, emb_items = model.forward(edge_index)\n",
        "    user_indices, pos_item_indices, neg_item_indices = structured_negative_sampling(edge_index, contains_neg_self_loops=False)\n",
        "\n",
        "    emb_users_final, emb_users = emb_users_final[user_indices], emb_users[user_indices]\n",
        "\n",
        "    emb_pos_items_final, emb_pos_items = emb_items_final[pos_item_indices], emb_items[pos_item_indices]\n",
        "    emb_neg_items_final, emb_neg_items = emb_items_final[neg_item_indices], emb_items[neg_item_indices]\n",
        "\n",
        "    loss = bpr_loss(emb_users_final, emb_users, emb_pos_items_final, emb_pos_items, emb_neg_items_final, emb_neg_items).item()\n",
        "\n",
        "    recall, ndcg = get_metrics(model, edge_index, exclude_edge_indices)\n",
        "\n",
        "    return loss, recall, ndcg"
      ],
      "metadata": {
        "id": "dqm0MWbvQSL4"
      },
      "execution_count": 30,
      "outputs": []
    },
    {
      "cell_type": "markdown",
      "source": [
        "# Training"
      ],
      "metadata": {
        "id": "pr23I61YQXYH"
      }
    },
    {
      "cell_type": "code",
      "source": [
        "K = 10\n",
        "LAMBDA = 1e-7 # 1e-6\n",
        "BATCH_SIZE = 1024\n",
        "\n",
        "device = torch.device('cuda' if torch.cuda.is_available() else 'cpu')\n",
        "\n",
        "model = LightGCN(num_users, num_items)\n",
        "model = model.to(device)\n",
        "edge_index = edge_index.to(device)\n",
        "train_edge_index = train_edge_index.to(device)\n",
        "val_edge_index = val_edge_index.to(device)\n",
        "\n",
        "optimizer = optim.Adam(model.parameters(), lr=0.001)"
      ],
      "metadata": {
        "id": "qiwAhVlHQbFC"
      },
      "execution_count": 31,
      "outputs": []
    },
    {
      "cell_type": "code",
      "source": [
        "%%time\n",
        "\n",
        "n_batch = int(len(train_index)/BATCH_SIZE)\n",
        "\n",
        "for epoch in range(31):\n",
        "    model.train()\n",
        "\n",
        "    for _ in range(n_batch):\n",
        "        optimizer.zero_grad()\n",
        "\n",
        "        emb_users_final, emb_users, emb_items_final, emb_items = model.forward(train_edge_index)\n",
        "\n",
        "        user_indices, pos_item_indices, neg_item_indices = sample_mini_batch(train_edge_index)\n",
        "\n",
        "        emb_users_final, emb_users = emb_users_final[user_indices], emb_users[user_indices]\n",
        "        emb_pos_items_final, emb_pos_items = emb_items_final[pos_item_indices], emb_items[pos_item_indices]\n",
        "        emb_neg_items_final, emb_neg_items = emb_items_final[neg_item_indices], emb_items[neg_item_indices]\n",
        "\n",
        "        train_loss = bpr_loss(emb_users_final, emb_users, emb_pos_items_final, emb_pos_items, emb_neg_items_final, emb_neg_items)\n",
        "\n",
        "        train_loss.backward()\n",
        "        optimizer.step()\n",
        "\n",
        "    if epoch % 5 == 0:\n",
        "        model.eval()\n",
        "        val_loss, recall, ndcg = test(model, val_edge_index, [train_edge_index])\n",
        "        print(f'Epoch {epoch} | Train loss: {train_loss.item():.5f} | Val loss: {val_loss:.5f} | '\n",
        "        f'Val recall@{K}: {recall:.5f} | Val ndcg@{K}: {ndcg:.5f}')"
      ],
      "metadata": {
        "colab": {
          "base_uri": "https://localhost:8080/"
        },
        "id": "n0wcSj0yRPOw",
        "outputId": "587f0d66-b5a0-459e-b275-1dec94ad4ee3"
      },
      "execution_count": 32,
      "outputs": [
        {
          "output_type": "stream",
          "name": "stdout",
          "text": [
            "Epoch 0 | Train loss: -0.70342 | Val loss: -0.69316 | Val recall@10: 0.00958 | Val ndcg@10: 0.00625\n",
            "Epoch 5 | Train loss: -3.89316 | Val loss: -0.70439 | Val recall@10: 0.01184 | Val ndcg@10: 0.00700\n",
            "Epoch 10 | Train loss: -13.44911 | Val loss: -0.76730 | Val recall@10: 0.01164 | Val ndcg@10: 0.00693\n",
            "Epoch 15 | Train loss: -28.93671 | Val loss: -0.91426 | Val recall@10: 0.01251 | Val ndcg@10: 0.00716\n",
            "Epoch 20 | Train loss: -42.36901 | Val loss: -1.14686 | Val recall@10: 0.01179 | Val ndcg@10: 0.00691\n",
            "Epoch 25 | Train loss: -72.77132 | Val loss: -1.43653 | Val recall@10: 0.01179 | Val ndcg@10: 0.00698\n",
            "Epoch 30 | Train loss: -91.27440 | Val loss: -1.82463 | Val recall@10: 0.01202 | Val ndcg@10: 0.00704\n",
            "CPU times: user 20min 40s, sys: 6min 10s, total: 26min 50s\n",
            "Wall time: 27min 3s\n"
          ]
        }
      ]
    },
    {
      "cell_type": "code",
      "source": [
        "test_loss, test_recall, test_ndcg = test(model, test_edge_index.to(device), [train_edge_index, val_edge_index])\n",
        "\n",
        "print(f'Test loss: {test_loss:.5f} | Test recall@{K}: {test_recall:.5f} | Test ndcg@{K}: {test_ndcg:.5f}')"
      ],
      "metadata": {
        "colab": {
          "base_uri": "https://localhost:8080/"
        },
        "id": "xAi-v7zNSLGd",
        "outputId": "4a0334ab-cdf1-4642-ca9e-c8428284c25f"
      },
      "execution_count": 33,
      "outputs": [
        {
          "output_type": "stream",
          "name": "stdout",
          "text": [
            "Test loss: -1.81852 | Test recall@10: 0.01293 | Test ndcg@10: 0.00736\n"
          ]
        }
      ]
    },
    {
      "cell_type": "markdown",
      "source": [
        "We obtain a recall@10 value of 0.0129 and an ndcg@10 value of 0.0074, which is close\n",
        "to the results obtained by the authors of LightGCN on other datasets."
      ],
      "metadata": {
        "id": "_XQkrJS7RWgc"
      }
    },
    {
      "cell_type": "markdown",
      "source": [
        "# Get recommendations for a given user\n",
        "\n",
        "These recommendations cannot be\n",
        "books the user has already rated (it cannot be a positive item)."
      ],
      "metadata": {
        "id": "5h195sp4SVK4"
      }
    },
    {
      "cell_type": "code",
      "source": [
        "bookid_title = pd.Series(books['Title'].values, index=books.ISBN).to_dict()\n",
        "bookid_author = pd.Series(books['Author'].values, index=books.ISBN).to_dict()\n",
        "user_pos_items = get_user_items(edge_index)"
      ],
      "metadata": {
        "id": "d3_9cEJzaEbE"
      },
      "execution_count": 34,
      "outputs": []
    },
    {
      "cell_type": "code",
      "source": [
        "from PIL import Image\n",
        "import requests\n",
        "\n",
        "def recommend(user_id, num_recs):\n",
        "  user = user_mapping[user_id]\n",
        "  emb_user = model.emb_users.weight[user]\n",
        "  ratings = model.emb_items.weight @ emb_user\n",
        "\n",
        "  values, indices = torch.topk(ratings, k=100)\n",
        "\n",
        "  ids = [index.cpu().item() for index in indices if index in user_pos_items[user]][:num_recs]\n",
        "  item_isbns = [list(item_mapping.keys())[list(item_mapping.values()).index(book)] for book in ids]\n",
        "  titles = [bookid_title[id] for id in item_isbns]\n",
        "  authors = [bookid_author[id] for id in item_isbns]\n",
        "\n",
        "  print(f'Favorite books from user n°{user_id}:')\n",
        "  for i in range(len(item_isbns)):\n",
        "    print(f'- {titles[i]}, by {authors[i]}')\n",
        "\n",
        "  ids = [index.cpu().item() for index in indices if index not in user_pos_items[user]][:num_recs]\n",
        "  item_isbns = [list(item_mapping.keys())[list(item_mapping.values()).index(book)] for book in ids]\n",
        "  titles = [bookid_title[id] for id in item_isbns]\n",
        "  authors = [bookid_author[id] for id in item_isbns]\n",
        "\n",
        "  print(f'\\nRecommended books for user n°{user_id}')\n",
        "  for i in range(num_recs):\n",
        "    print(f'- {titles[i]}, by {authors[i]}')"
      ],
      "metadata": {
        "id": "Kc0TfeXCUL4z"
      },
      "execution_count": 35,
      "outputs": []
    },
    {
      "cell_type": "code",
      "source": [
        "recommend(user_id=6332, num_recs=5)"
      ],
      "metadata": {
        "colab": {
          "base_uri": "https://localhost:8080/"
        },
        "id": "0rTYlWkScZAn",
        "outputId": "b40bd536-b46e-47ec-fc26-49b1ed701731"
      },
      "execution_count": 36,
      "outputs": [
        {
          "output_type": "stream",
          "name": "stdout",
          "text": [
            "Favorite books from user n°6332:\n",
            "\n",
            "Recommended books for user n°6332\n",
            "- The Lovely Bones: A Novel, by Alice Sebold\n",
            "- The Secret Life of Bees, by Sue Monk Kidd\n",
            "- Where the Heart Is (Oprah's Book Club (Paperback)), by Billie Letts\n",
            "- The Da Vinci Code, by Dan Brown\n",
            "- Harry Potter and the Sorcerer's Stone (Harry Potter (Paperback)), by J. K. Rowling\n"
          ]
        }
      ]
    },
    {
      "cell_type": "code",
      "source": [
        "recommend(user_id=12, num_recs=5)"
      ],
      "metadata": {
        "colab": {
          "base_uri": "https://localhost:8080/"
        },
        "id": "z6FAzc9KccnS",
        "outputId": "267ddf3d-005e-4d50-d53b-284c21954b51"
      },
      "execution_count": 37,
      "outputs": [
        {
          "output_type": "stream",
          "name": "stdout",
          "text": [
            "Favorite books from user n°12:\n",
            "\n",
            "Recommended books for user n°12\n",
            "- The Lovely Bones: A Novel, by Alice Sebold\n",
            "- Harry Potter and the Sorcerer's Stone (Harry Potter (Paperback)), by J. K. Rowling\n",
            "- Where the Heart Is (Oprah's Book Club (Paperback)), by Billie Letts\n",
            "- The Secret Life of Bees, by Sue Monk Kidd\n",
            "- The Da Vinci Code, by Dan Brown\n"
          ]
        }
      ]
    },
    {
      "cell_type": "code",
      "source": [],
      "metadata": {
        "id": "Ku40L4CyeH3f"
      },
      "execution_count": 37,
      "outputs": []
    }
  ]
}