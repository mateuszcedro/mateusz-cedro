{
  "nbformat": 4,
  "nbformat_minor": 0,
  "metadata": {
    "colab": {
      "provenance": []
    },
    "kernelspec": {
      "name": "python3",
      "display_name": "Python 3"
    },
    "language_info": {
      "name": "python"
    }
  },
  "cells": [
    {
      "cell_type": "markdown",
      "source": [
        "## GAT in PyTorch Geometric\n",
        "\n",
        "Mateusz Cedro\n",
        "\n",
        "Implementation of the GATv2 GNN model for node classification on Cora and CiteSeer datasets."
      ],
      "metadata": {
        "id": "xM0riyaps1dk"
      }
    },
    {
      "cell_type": "code",
      "source": [
        "import torch\n",
        "!pip install -qU torch-scatter~=2.1.0 torch-sparse~=0.6.16 torch-cluster~=1.6.0 torch-spline-conv~=1.2.1 torch-geometric==2.2.0 -f https://data.pyg.org/whl/torch-{torch.__version__}.html\n",
        "\n",
        "torch.manual_seed(42)\n",
        "torch.cuda.manual_seed(42)\n",
        "torch.cuda.manual_seed_all(42)\n",
        "torch.backends.cudnn.deterministic = True\n",
        "torch.backends.cudnn.benchmark = False"
      ],
      "metadata": {
        "id": "CVYHnB2EtPpx"
      },
      "execution_count": 1,
      "outputs": []
    },
    {
      "cell_type": "markdown",
      "source": [
        "## Cora Dataset"
      ],
      "metadata": {
        "id": "o5jKLe58-oKV"
      }
    },
    {
      "cell_type": "code",
      "source": [
        "from torch_geometric.datasets import Planetoid\n",
        "\n",
        "# Import dataset from PyTorch Geometric\n",
        "dataset = Planetoid(root=\".\", name=\"Cora\")\n",
        "data = dataset[0]\n",
        "data"
      ],
      "metadata": {
        "colab": {
          "base_uri": "https://localhost:8080/"
        },
        "id": "9fPOdhditVgT",
        "outputId": "0ee6412f-8bf3-4acb-ad6b-7ea18a3ab0f7"
      },
      "execution_count": 2,
      "outputs": [
        {
          "output_type": "execute_result",
          "data": {
            "text/plain": [
              "Data(x=[2708, 1433], edge_index=[2, 10556], y=[2708], train_mask=[2708], val_mask=[2708], test_mask=[2708])"
            ]
          },
          "metadata": {},
          "execution_count": 2
        }
      ]
    },
    {
      "cell_type": "code",
      "source": [
        "import torch\n",
        "import torch.nn.functional as F\n",
        "from torch_geometric.nn import GATv2Conv\n",
        "from torch import nn\n",
        "from torch.nn import Linear, Dropout\n",
        "\n",
        "import numpy as np\n",
        "import matplotlib.pyplot as plt\n",
        "from torch_geometric.utils import degree\n",
        "from collections import Counter"
      ],
      "metadata": {
        "id": "OuRaAYvxtZCj"
      },
      "execution_count": 3,
      "outputs": []
    },
    {
      "cell_type": "code",
      "source": [
        "# Accuracy metrics\n",
        "def accuracy(y_pred, y_true):\n",
        " return torch.sum(y_pred == y_true) / len(y_true)"
      ],
      "metadata": {
        "id": "0Izl8HVwtx6o"
      },
      "execution_count": 4,
      "outputs": []
    },
    {
      "cell_type": "markdown",
      "source": [
        "## GATv2 Model"
      ],
      "metadata": {
        "id": "D6Y0CTJ0-sh0"
      }
    },
    {
      "cell_type": "code",
      "source": [
        "class GAT(nn.Module):\n",
        "  def __init__(self, dim_in, hidden, dim_out, heads=8):\n",
        "    super().__init__()\n",
        "    self.gat1 = GATv2Conv(dim_in, hidden, heads=heads)\n",
        "    self.gat2 = GATv2Conv(hidden*heads, dim_out, heads=1)\n",
        "\n",
        "  def forward(self, x, edge_index):\n",
        "    h = F.dropout(x, p=0.6, training=self.training)\n",
        "    h = self.gat1(h, edge_index)\n",
        "    h = F.elu(h) # Exponential Linear Unit (ELU)\n",
        "    h = F.dropout(h, p=0.6, training=self.training)\n",
        "    h = self.gat2(h, edge_index)\n",
        "    return F.log_softmax(h, dim=1)\n",
        "\n",
        "  def fit(self, data, epochs):\n",
        "    loss_fn = nn.CrossEntropyLoss()\n",
        "    optimizer = torch.optim.Adam(self.parameters(), lr=0.01, weight_decay=0.01)\n",
        "\n",
        "    self.train()\n",
        "    for epoch in range(epochs+1):\n",
        "      optimizer.zero_grad()\n",
        "      out = self(data.x, data.edge_index)\n",
        "      loss = loss_fn(out[data.train_mask], data.y[data.train_mask])\n",
        "      acc = accuracy(out[data.train_mask].argmax(dim=1), data.y[data.train_mask])\n",
        "      loss.backward()\n",
        "      optimizer.step()\n",
        "\n",
        "      if epoch % 20 == 0:\n",
        "        val_loss = loss_fn(out[data.val_mask], data.y[data.val_mask])\n",
        "        val_acc = accuracy(out[data.val_mask].argmax(dim=1), data.y[data.val_mask])\n",
        "        print(f\"Epoch {epoch:>3} | Train Loss: {loss:.3f} | Train Acc: {acc*100:>5.2f}% | \"\n",
        "        f\"Val Loss: {val_loss:.2f} | Val Acc: {val_acc*100:.2f}%\")\n",
        "\n",
        "  @torch.no_grad()\n",
        "  def test(self, data):\n",
        "    self.eval()\n",
        "    out = self(data.x, data.edge_index)\n",
        "    acc = accuracy(out.argmax(dim=1)[data.test_mask], data.y[data.test_mask])\n",
        "    return acc"
      ],
      "metadata": {
        "id": "ZbBFKkhot0dn"
      },
      "execution_count": 5,
      "outputs": []
    },
    {
      "cell_type": "code",
      "source": [
        "# Create the GNN GAT model\n",
        "gat = GAT(dataset.num_features, 32, dataset.num_classes)\n",
        "print(gat)\n",
        "\n",
        "# Train\n",
        "gat.fit(data, epochs=100)"
      ],
      "metadata": {
        "colab": {
          "base_uri": "https://localhost:8080/"
        },
        "id": "KiMr5GRMuMsz",
        "outputId": "17f768a4-3c9d-415b-a9c7-9e02dc6c65ef"
      },
      "execution_count": 6,
      "outputs": [
        {
          "output_type": "stream",
          "name": "stdout",
          "text": [
            "GAT(\n",
            "  (gat1): GATv2Conv(1433, 32, heads=8)\n",
            "  (gat2): GATv2Conv(256, 7, heads=1)\n",
            ")\n",
            "Epoch   0 | Train Loss: 1.969 | Train Acc: 15.00% | Val Loss: 1.95 | Val Acc: 13.40%\n",
            "Epoch  20 | Train Loss: 0.220 | Train Acc: 99.29% | Val Loss: 0.84 | Val Acc: 72.00%\n",
            "Epoch  40 | Train Loss: 0.174 | Train Acc: 98.57% | Val Loss: 0.93 | Val Acc: 70.00%\n",
            "Epoch  60 | Train Loss: 0.186 | Train Acc: 99.29% | Val Loss: 0.85 | Val Acc: 70.40%\n",
            "Epoch  80 | Train Loss: 0.178 | Train Acc: 98.57% | Val Loss: 0.82 | Val Acc: 75.40%\n",
            "Epoch 100 | Train Loss: 0.139 | Train Acc: 99.29% | Val Loss: 0.84 | Val Acc: 73.80%\n"
          ]
        }
      ]
    },
    {
      "cell_type": "code",
      "source": [
        "# Test\n",
        "acc = gat.test(data)\n",
        "print(f'GAT test accuracy: {acc*100:.2f}%')"
      ],
      "metadata": {
        "colab": {
          "base_uri": "https://localhost:8080/"
        },
        "id": "28Np1BFtxsDY",
        "outputId": "63feb134-baad-4304-d0c6-2e69b8ccbe61"
      },
      "execution_count": 7,
      "outputs": [
        {
          "output_type": "stream",
          "name": "stdout",
          "text": [
            "GAT test accuracy: 82.30%\n"
          ]
        }
      ]
    },
    {
      "cell_type": "markdown",
      "source": [
        "## CiteSeer dataset"
      ],
      "metadata": {
        "id": "odVVLUmWyG4s"
      }
    },
    {
      "cell_type": "code",
      "source": [
        "dataset = Planetoid(root=\".\", name=\"CiteSeer\")\n",
        "data = dataset[0]\n",
        "data"
      ],
      "metadata": {
        "colab": {
          "base_uri": "https://localhost:8080/"
        },
        "id": "HSC4puRh-mIC",
        "outputId": "41d55290-b748-49ca-a758-6ac35ac8efd8"
      },
      "execution_count": 8,
      "outputs": [
        {
          "output_type": "execute_result",
          "data": {
            "text/plain": [
              "Data(x=[3327, 3703], edge_index=[2, 9104], y=[3327], train_mask=[3327], val_mask=[3327], test_mask=[3327])"
            ]
          },
          "metadata": {},
          "execution_count": 8
        }
      ]
    },
    {
      "cell_type": "code",
      "source": [
        "# Get list of degrees for each node\n",
        "degrees = degree(dataset[0].edge_index[0]).numpy()\n",
        "\n",
        "# Count the number of nodes for each degree\n",
        "numbers = Counter(degrees)\n",
        "\n",
        "# Bar plot\n",
        "fig, ax = plt.subplots()\n",
        "ax.set_xlabel('Node degree')\n",
        "ax.set_ylabel('Number of nodes')\n",
        "plt.bar(numbers.keys(), numbers.values())"
      ],
      "metadata": {
        "colab": {
          "base_uri": "https://localhost:8080/",
          "height": 466
        },
        "id": "pn2bgZOk-yqH",
        "outputId": "daca4a37-ba40-4e5c-82b0-0b54bfeedae2"
      },
      "execution_count": 9,
      "outputs": [
        {
          "output_type": "execute_result",
          "data": {
            "text/plain": [
              "<BarContainer object of 32 artists>"
            ]
          },
          "metadata": {},
          "execution_count": 9
        },
        {
          "output_type": "display_data",
          "data": {
            "text/plain": [
              "<Figure size 640x480 with 1 Axes>"
            ],
            "image/png": "[encoded data removed]"
          },
          "metadata": {}
        }
      ]
    },
    {
      "cell_type": "code",
      "source": [
        "# Create the GAT GNN model\n",
        "gat_cora = GAT(dataset.num_features, 16, dataset.num_classes)\n",
        "print(gat_cora)\n",
        "\n",
        "# Train\n",
        "gat_cora.fit(data, epochs=100)\n",
        "\n",
        "# Test\n",
        "acc = gat_cora.test(data)\n",
        "print(f'GAT test accuracy: {acc*100:.2f}%')"
      ],
      "metadata": {
        "colab": {
          "base_uri": "https://localhost:8080/"
        },
        "id": "JBQ4ghuq-5OL",
        "outputId": "226433f3-280d-4040-d62b-9f16979a1903"
      },
      "execution_count": 10,
      "outputs": [
        {
          "output_type": "stream",
          "name": "stdout",
          "text": [
            "GAT(\n",
            "  (gat1): GATv2Conv(3703, 16, heads=8)\n",
            "  (gat2): GATv2Conv(128, 6, heads=1)\n",
            ")\n",
            "Epoch   0 | Train Loss: 1.834 | Train Acc: 21.67% | Val Loss: 1.80 | Val Acc: 18.00%\n",
            "Epoch  20 | Train Loss: 0.225 | Train Acc: 97.50% | Val Loss: 1.19 | Val Acc: 60.00%\n",
            "Epoch  40 | Train Loss: 0.134 | Train Acc: 98.33% | Val Loss: 1.18 | Val Acc: 62.00%\n",
            "Epoch  60 | Train Loss: 0.101 | Train Acc: 99.17% | Val Loss: 1.17 | Val Acc: 63.00%\n",
            "Epoch  80 | Train Loss: 0.097 | Train Acc: 99.17% | Val Loss: 1.10 | Val Acc: 63.20%\n",
            "Epoch 100 | Train Loss: 0.104 | Train Acc: 100.00% | Val Loss: 1.27 | Val Acc: 57.00%\n",
            "GAT test accuracy: 64.80%\n"
          ]
        }
      ]
    },
    {
      "cell_type": "code",
      "source": [
        "# Plot the average accuracy score for each node degree\n",
        "\n",
        "# Get predicions\n",
        "out = gat_cora(data.x, data.edge_index)\n",
        "\n",
        "# Calculate the degree if each node\n",
        "degrees = degree(data.edge_index[0]).numpy()\n",
        "\n",
        "# Store accuracy scores and sample sizes\n",
        "accuracies = []\n",
        "sizes = []\n",
        "\n",
        "# Accuracy for degrees between 0 and 5\n",
        "for i in range(0, 6):\n",
        "  mask = np.where(degrees == i)[0]\n",
        "  accuracies.append(accuracy(out.argmax(dim=1)[mask], data.y[mask]))\n",
        "  sizes.append(len(mask))\n",
        "\n",
        "# Accuracy for degrees > 5\n",
        "mask = np.where(degrees > 5)[0]\n",
        "accuracies.append(accuracy(out.argmax(dim=1)[mask], data.y[mask]))\n",
        "sizes.append(len(mask))\n",
        "\n",
        "# Bar plot\n",
        "fig, ax = plt.subplots()\n",
        "ax.set_xlabel('Node degree')\n",
        "ax.set_ylabel('Accuracy score')\n",
        "plt.bar(['0','1','2','3','4','5','6+'], accuracies)\n",
        "for i in range(0, 7):\n",
        "  plt.text(i, accuracies[i], f'{accuracies[i]*100:.2f}%', ha='center', color='black')\n",
        "for i in range(0, 7):\n",
        "  plt.text(i, accuracies[i]//2, sizes[i], ha='center', color='white')"
      ],
      "metadata": {
        "colab": {
          "base_uri": "https://localhost:8080/",
          "height": 454
        },
        "id": "qzmcNl7O_Fl8",
        "outputId": "2238a7d7-13fa-45c2-8cae-3ecf0d2ca2ff"
      },
      "execution_count": 11,
      "outputs": [
        {
          "output_type": "display_data",
          "data": {
            "text/plain": [
              "<Figure size 640x480 with 1 Axes>"
            ],
            "image/png": "[encoded data removed]"
          },
          "metadata": {}
        }
      ]
    },
    {
      "cell_type": "markdown",
      "source": [
        "Nodes with few neighbors are harder to classify correctly"
      ],
      "metadata": {
        "id": "cuIqQNFtAvCg"
      }
    }
  ]
}