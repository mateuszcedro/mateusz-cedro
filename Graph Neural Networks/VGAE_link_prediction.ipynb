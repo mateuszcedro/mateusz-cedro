{
  "nbformat": 4,
  "nbformat_minor": 0,
  "metadata": {
    "colab": {
      "provenance": []
    },
    "kernelspec": {
      "name": "python3",
      "display_name": "Python 3"
    },
    "language_info": {
      "name": "python"
    }
  },
  "cells": [
    {
      "cell_type": "markdown",
      "source": [
        "## Link Prediction with GVAE and SEAL for Link prediction\n",
        "\n",
        "- Variational Graph Auto-Encoders\n",
        "- Subgraphs, Embeddings, and Attributes\n",
        "\n",
        "Mateusz Cedro"
      ],
      "metadata": {
        "id": "f1SaU6bKBOV3"
      }
    },
    {
      "cell_type": "code",
      "execution_count": 2,
      "metadata": {
        "colab": {
          "base_uri": "https://localhost:8080/"
        },
        "id": "DjNYd2VXleXZ",
        "outputId": "507b4ae0-edaf-4b72-ee73-1856fafe36ce"
      },
      "outputs": [
        {
          "output_type": "stream",
          "name": "stdout",
          "text": [
            "\u001b[2K     \u001b[90m━━━━━━━━━━━━━━━━━━━━━━━━━━━━━━━━━━━━━━━━\u001b[0m \u001b[32m10.9/10.9 MB\u001b[0m \u001b[31m47.2 MB/s\u001b[0m eta \u001b[36m0:00:00\u001b[0m\n",
            "\u001b[2K     \u001b[90m━━━━━━━━━━━━━━━━━━━━━━━━━━━━━━━━━━━━━━━━\u001b[0m \u001b[32m5.0/5.0 MB\u001b[0m \u001b[31m42.5 MB/s\u001b[0m eta \u001b[36m0:00:00\u001b[0m\n",
            "\u001b[2K     \u001b[90m━━━━━━━━━━━━━━━━━━━━━━━━━━━━━━━━━━━━━━━━\u001b[0m \u001b[32m3.4/3.4 MB\u001b[0m \u001b[31m50.6 MB/s\u001b[0m eta \u001b[36m0:00:00\u001b[0m\n",
            "\u001b[2K     \u001b[90m━━━━━━━━━━━━━━━━━━━━━━━━━━━━━━━━━━━━━━━━\u001b[0m \u001b[32m943.4/943.4 kB\u001b[0m \u001b[31m32.2 MB/s\u001b[0m eta \u001b[36m0:00:00\u001b[0m\n",
            "\u001b[2K     \u001b[90m━━━━━━━━━━━━━━━━━━━━━━━━━━━━━━━━━━━━━━━━\u001b[0m \u001b[32m565.0/565.0 kB\u001b[0m \u001b[31m3.4 MB/s\u001b[0m eta \u001b[36m0:00:00\u001b[0m\n",
            "\u001b[?25h  Preparing metadata (setup.py) ... \u001b[?25l\u001b[?25hdone\n",
            "  Building wheel for torch-geometric (setup.py) ... \u001b[?25l\u001b[?25hdone\n"
          ]
        }
      ],
      "source": [
        "import torch\n",
        "!pip install -qU torch-scatter~=2.1.0 torch-sparse~=0.6.16 torch-cluster~=1.6.0 torch-spline-conv~=1.2.1 torch-geometric==2.2.0 -f https://data.pyg.org/whl/torch-{torch.__version__}.html\n",
        "\n",
        "torch.manual_seed(0)\n",
        "torch.cuda.manual_seed(0)\n",
        "torch.cuda.manual_seed_all(0)\n",
        "torch.backends.cudnn.deterministic = True\n",
        "torch.backends.cudnn.benchmark = False"
      ]
    },
    {
      "cell_type": "code",
      "source": [
        "import numpy as np\n",
        "np.random.seed(0)\n",
        "import torch\n",
        "torch.manual_seed(0)\n",
        "import matplotlib.pyplot as plt\n",
        "import torch_geometric.transforms as T\n",
        "from torch_geometric.datasets import Planetoid\n",
        "from torch import nn\n",
        "\n",
        "device = torch.device('cuda' if torch.cuda.is_available() else 'cpu')\n",
        "\n",
        "transform = T.Compose([\n",
        "    T.NormalizeFeatures(),\n",
        "    T.ToDevice(device),\n",
        "    T.RandomLinkSplit(num_val=0.05, num_test=0.1, is_undirected=True, split_labels=True, add_negative_train_samples=False),\n",
        "])\n",
        "\n",
        "dataset = Planetoid('.', name='Cora', transform=transform)\n",
        "train_data, val_data, test_data = dataset[0]"
      ],
      "metadata": {
        "id": "Xp-FoLQ4BNcA",
        "colab": {
          "base_uri": "https://localhost:8080/"
        },
        "outputId": "fcd2633e-ff4e-44c8-8ecf-5b87aac327b9"
      },
      "execution_count": 3,
      "outputs": [
        {
          "output_type": "stream",
          "name": "stderr",
          "text": [
            "Downloading https://github.com/kimiyoung/planetoid/raw/master/data/ind.cora.x\n",
            "Downloading https://github.com/kimiyoung/planetoid/raw/master/data/ind.cora.tx\n",
            "Downloading https://github.com/kimiyoung/planetoid/raw/master/data/ind.cora.allx\n",
            "Downloading https://github.com/kimiyoung/planetoid/raw/master/data/ind.cora.y\n",
            "Downloading https://github.com/kimiyoung/planetoid/raw/master/data/ind.cora.ty\n",
            "Downloading https://github.com/kimiyoung/planetoid/raw/master/data/ind.cora.ally\n",
            "Downloading https://github.com/kimiyoung/planetoid/raw/master/data/ind.cora.graph\n",
            "Downloading https://github.com/kimiyoung/planetoid/raw/master/data/ind.cora.test.index\n",
            "Processing...\n",
            "Done!\n"
          ]
        }
      ]
    },
    {
      "cell_type": "markdown",
      "source": [
        "## VGAE"
      ],
      "metadata": {
        "id": "0srUavx0k7-4"
      }
    },
    {
      "cell_type": "code",
      "source": [
        "from torch_geometric.nn import GCNConv, VGAE\n",
        "\n",
        "class Encoder(torch.nn.Module):\n",
        "    def __init__(self, dim_in, dim_out):\n",
        "        super().__init__()\n",
        "        self.conv1 = GCNConv(dim_in, 2 * dim_out)\n",
        "        self.conv_mu = GCNConv(2 * dim_out, dim_out)\n",
        "        self.conv_logstd = GCNConv(2 * dim_out, dim_out)\n",
        "\n",
        "    def forward(self, x, edge_index):\n",
        "        x = self.conv1(x, edge_index).relu()\n",
        "        return self.conv_mu(x, edge_index), self.conv_logstd(x, edge_index)"
      ],
      "metadata": {
        "id": "a4v5A4oFBNMf"
      },
      "execution_count": 4,
      "outputs": []
    },
    {
      "cell_type": "code",
      "source": [
        "model = VGAE(Encoder(dataset.num_features, 16)).to(device)\n",
        "optimizer = torch.optim.Adam(model.parameters(), lr=0.01)\n",
        "\n",
        "def train():\n",
        "    model.train()\n",
        "    optimizer.zero_grad()\n",
        "    z = model.encode(train_data.x, train_data.edge_index)\n",
        "    loss = model.recon_loss(z, train_data.pos_edge_label_index) + (1 / train_data.num_nodes) * model.kl_loss()\n",
        "    loss.backward()\n",
        "    optimizer.step()\n",
        "    return float(loss)\n",
        "\n",
        "@torch.no_grad()\n",
        "def test(data):\n",
        "    model.eval()\n",
        "    z = model.encode(data.x, data.edge_index)\n",
        "    return model.test(z, data.pos_edge_label_index, data.neg_edge_label_index)"
      ],
      "metadata": {
        "id": "ScFXwQgPC2RT"
      },
      "execution_count": 5,
      "outputs": []
    },
    {
      "cell_type": "code",
      "source": [
        "# Training loop\n",
        "for epoch in range(301):\n",
        "    loss = train()\n",
        "    val_auc, val_ap = test(test_data)\n",
        "    if epoch % 50 == 0:\n",
        "        print(f'Epoch {epoch:>3} | Loss: {loss:.4f} | Val AUC: {val_auc:.4f} | Val AP: {val_ap:.4f}')\n",
        "\n",
        "test_auc, test_ap = test(test_data)\n",
        "print(f'Test AUC: {test_auc:.4f} | Test AP {test_ap:.4f}')"
      ],
      "metadata": {
        "colab": {
          "base_uri": "https://localhost:8080/"
        },
        "id": "eZgF85FLEKhD",
        "outputId": "b1738f36-72f2-43fc-96af-2a65d0568863"
      },
      "execution_count": 6,
      "outputs": [
        {
          "output_type": "stream",
          "name": "stdout",
          "text": [
            "Epoch  0 | Loss: 3.5139 | Val AUC: 0.6893 | Val AP: 0.7180\n",
            "Epoch 50 | Loss: 1.3317 | Val AUC: 0.6703 | Val AP: 0.7078\n",
            "Epoch 100 | Loss: 1.1585 | Val AUC: 0.7163 | Val AP: 0.7355\n",
            "Epoch 150 | Loss: 1.1033 | Val AUC: 0.7589 | Val AP: 0.7654\n",
            "Epoch 200 | Loss: 1.0063 | Val AUC: 0.8210 | Val AP: 0.8223\n",
            "Epoch 250 | Loss: 0.9908 | Val AUC: 0.8229 | Val AP: 0.8253\n",
            "Epoch 300 | Loss: 0.9916 | Val AUC: 0.8209 | Val AP: 0.8224\n",
            "Test AUC: 0.8209 | Test AP 0.8224\n"
          ]
        }
      ]
    },
    {
      "cell_type": "code",
      "source": [
        "# Calculate manually the approximated adjacency matrix\n",
        "z = model.encode(test_data.x, test_data.edge_index)\n",
        "Ahat = torch.sigmoid(z @ z.T)"
      ],
      "metadata": {
        "id": "fzxAzjcyF_yw"
      },
      "execution_count": 7,
      "outputs": []
    },
    {
      "cell_type": "code",
      "source": [
        "Ahat"
      ],
      "metadata": {
        "colab": {
          "base_uri": "https://localhost:8080/"
        },
        "id": "npWlG8XEGmOi",
        "outputId": "7b0b9846-244f-477f-a973-535941f6031a"
      },
      "execution_count": 8,
      "outputs": [
        {
          "output_type": "execute_result",
          "data": {
            "text/plain": [
              "tensor([[0.6652, 0.6333, 0.7295,  ..., 0.5143, 0.7401, 0.7341],\n",
              "        [0.6333, 0.7080, 0.7431,  ..., 0.5437, 0.7714, 0.7459],\n",
              "        [0.7295, 0.7431, 0.8319,  ..., 0.5397, 0.8509, 0.8359],\n",
              "        ...,\n",
              "        [0.5143, 0.5437, 0.5397,  ..., 0.5186, 0.5529, 0.5436],\n",
              "        [0.7401, 0.7714, 0.8509,  ..., 0.5529, 0.8733, 0.8563],\n",
              "        [0.7341, 0.7459, 0.8359,  ..., 0.5436, 0.8563, 0.8416]],\n",
              "       grad_fn=<SigmoidBackward0>)"
            ]
          },
          "metadata": {},
          "execution_count": 8
        }
      ]
    },
    {
      "cell_type": "markdown",
      "source": [
        "## SEAL\n",
        "Subgraphs, Embeddings, and Attributes for Link prediction"
      ],
      "metadata": {
        "id": "toanftfRdnpo"
      }
    },
    {
      "cell_type": "code",
      "source": [
        "import numpy as np\n",
        "from sklearn.metrics import roc_auc_score, average_precision_score\n",
        "from scipy.sparse.csgraph import shortest_path\n",
        "\n",
        "import torch.nn.functional as F\n",
        "from torch.nn import Conv1d, MaxPool1d, Linear, Dropout, BCEWithLogitsLoss\n",
        "\n",
        "from torch_geometric.datasets import Planetoid\n",
        "from torch_geometric.transforms import RandomLinkSplit\n",
        "from torch_geometric.data import Data\n",
        "from torch_geometric.loader import DataLoader\n",
        "from torch_geometric.nn import GCNConv, aggr\n",
        "from torch_geometric.utils import k_hop_subgraph, to_scipy_sparse_matrix"
      ],
      "metadata": {
        "id": "cd-XRzTddtTX"
      },
      "execution_count": 9,
      "outputs": []
    },
    {
      "cell_type": "code",
      "source": [
        "# Load Cora dataset\n",
        "transform = RandomLinkSplit(num_val=0.05, num_test=0.1, is_undirected=True, split_labels=True)\n",
        "dataset = Planetoid('.', name='Cora', transform=transform)\n",
        "train_data, val_data, test_data = dataset[0]\n",
        "train_data"
      ],
      "metadata": {
        "colab": {
          "base_uri": "https://localhost:8080/"
        },
        "id": "oULUhDAQdvh3",
        "outputId": "38694b61-bcc2-4c57-a0c7-fc008326dace"
      },
      "execution_count": 10,
      "outputs": [
        {
          "output_type": "execute_result",
          "data": {
            "text/plain": [
              "Data(x=[2708, 1433], edge_index=[2, 8976], y=[2708], train_mask=[2708], val_mask=[2708], test_mask=[2708], pos_edge_label=[4488], pos_edge_label_index=[2, 4488], neg_edge_label=[4488], neg_edge_label_index=[2, 4488])"
            ]
          },
          "metadata": {},
          "execution_count": 10
        }
      ]
    },
    {
      "cell_type": "code",
      "source": [
        "def seal_processing(dataset, edge_label_index, y):\n",
        "    data_list = []\n",
        "\n",
        "    for src, dst in edge_label_index.t().tolist():\n",
        "        sub_nodes, sub_edge_index, mapping, _ = k_hop_subgraph([src, dst], 2, dataset.edge_index, relabel_nodes=True)\n",
        "        src, dst = mapping.tolist()\n",
        "\n",
        "        # Remove target link from the subgraph\n",
        "        mask1 = (sub_edge_index[0] != src) | (sub_edge_index[1] != dst)\n",
        "        mask2 = (sub_edge_index[0] != dst) | (sub_edge_index[1] != src)\n",
        "        sub_edge_index = sub_edge_index[:, mask1 & mask2]\n",
        "\n",
        "        # Double-radius node labeling (DRNL)\n",
        "        src, dst = (dst, src) if src > dst else (src, dst)\n",
        "        adj = to_scipy_sparse_matrix(sub_edge_index, num_nodes=sub_nodes.size(0)).tocsr()\n",
        "\n",
        "        idx = list(range(src)) + list(range(src + 1, adj.shape[0]))\n",
        "        adj_wo_src = adj[idx, :][:, idx]\n",
        "\n",
        "        idx = list(range(dst)) + list(range(dst + 1, adj.shape[0]))\n",
        "        adj_wo_dst = adj[idx, :][:, idx]\n",
        "\n",
        "        # Calculate the distance between every node and the source target node\n",
        "        d_src = shortest_path(adj_wo_dst, directed=False, unweighted=True, indices=src)\n",
        "        d_src = np.insert(d_src, dst, 0, axis=0)\n",
        "        d_src = torch.from_numpy(d_src)\n",
        "\n",
        "        # Calculate the distance between every node and the destination target node\n",
        "        d_dst = shortest_path(adj_wo_src, directed=False, unweighted=True, indices=dst-1)\n",
        "        d_dst = np.insert(d_dst, src, 0, axis=0)\n",
        "        d_dst = torch.from_numpy(d_dst)\n",
        "\n",
        "        # Calculate the label z for each node\n",
        "        dist = d_src + d_dst\n",
        "        z = 1 + torch.min(d_src, d_dst) + dist // 2 * (dist // 2 + dist % 2 - 1)\n",
        "        z[src], z[dst], z[torch.isnan(z)] = 1., 1., 0.\n",
        "        z = z.to(torch.long)\n",
        "\n",
        "        # Concatenate node features and one-hot encoded node labels (with a fixed number of classes)\n",
        "        node_labels = F.one_hot(z, num_classes=200).to(torch.float)\n",
        "        node_emb = dataset.x[sub_nodes]\n",
        "        node_x = torch.cat([node_emb, node_labels], dim=1)\n",
        "\n",
        "        # Create data object\n",
        "        data = Data(x=node_x, z=z, edge_index=sub_edge_index, y=y)\n",
        "        data_list.append(data)\n",
        "\n",
        "    return data_list"
      ],
      "metadata": {
        "id": "l738FMYzd5ya"
      },
      "execution_count": 11,
      "outputs": []
    },
    {
      "cell_type": "code",
      "source": [
        "# Enclosing subgraphs extraction\n",
        "train_pos_data_list = seal_processing(train_data, train_data.pos_edge_label_index, 1)\n",
        "train_neg_data_list = seal_processing(train_data, train_data.neg_edge_label_index, 0)\n",
        "\n",
        "val_pos_data_list = seal_processing(val_data, val_data.pos_edge_label_index, 1)\n",
        "val_neg_data_list = seal_processing(val_data, val_data.neg_edge_label_index, 0)\n",
        "\n",
        "test_pos_data_list = seal_processing(test_data, test_data.pos_edge_label_index, 1)\n",
        "test_neg_data_list = seal_processing(test_data, test_data.neg_edge_label_index, 0)"
      ],
      "metadata": {
        "id": "8kPm2bVHf74a"
      },
      "execution_count": 12,
      "outputs": []
    },
    {
      "cell_type": "code",
      "source": [
        "# Merge positive and negative data lists to reconstruct the training, validation, and test datasets\n",
        "train_dataset = train_pos_data_list + train_neg_data_list\n",
        "val_dataset = val_pos_data_list + val_neg_data_list\n",
        "test_dataset = test_pos_data_list + test_neg_data_list\n",
        "\n",
        "train_loader = DataLoader(train_dataset, batch_size=32, shuffle=True)\n",
        "val_loader = DataLoader(val_dataset, batch_size=32)\n",
        "test_loader = DataLoader(test_dataset, batch_size=32)"
      ],
      "metadata": {
        "id": "xNKPkRqVf-sm"
      },
      "execution_count": 13,
      "outputs": []
    },
    {
      "cell_type": "code",
      "source": [
        "class DGCNN(torch.nn.Module):\n",
        "  \"\"\"Deep-Graph Conv NN\n",
        "  Args:\n",
        "    k - number of nodes to hold for each subgraph\"\"\"\n",
        "  def __init__(self, dim_in, k=30):\n",
        "      super().__init__()\n",
        "\n",
        "      # GCN layers\n",
        "      self.gcn1 = GCNConv(dim_in, 32)\n",
        "      self.gcn2 = GCNConv(32, 32)\n",
        "      self.gcn3 = GCNConv(32, 32)\n",
        "      self.gcn4 = GCNConv(32, 1)\n",
        "\n",
        "      # Global sort pooling\n",
        "      self.global_pool = aggr.SortAggregation(k=k)\n",
        "\n",
        "      # Convolutional layers\n",
        "      self.conv1 = Conv1d(1, 16, 97, 97)\n",
        "      self.conv2 = Conv1d(16, 32, 5, 1)\n",
        "      self.maxpool = MaxPool1d(2, 2)\n",
        "\n",
        "      # Dense layers\n",
        "      self.linear1 = Linear(352, 128)\n",
        "      self.dropout = Dropout(0.5)\n",
        "      self.linear2 = Linear(128, 1)\n",
        "\n",
        "  def forward(self, x, edge_index, batch):\n",
        "      # 1. Graph Convolutional Layers\n",
        "      h1 = self.gcn1(x, edge_index).tanh()\n",
        "      h2 = self.gcn2(h1, edge_index).tanh()\n",
        "      h3 = self.gcn3(h2, edge_index).tanh()\n",
        "      h4 = self.gcn4(h3, edge_index).tanh()\n",
        "      h = torch.cat([h1, h2, h3, h4], dim=-1)\n",
        "\n",
        "      # 2. Global sort pooling\n",
        "      h = self.global_pool(h, batch)\n",
        "\n",
        "      # 3. Traditional convolutional and dense layers\n",
        "      h = h.view(h.size(0), 1, h.size(-1))\n",
        "      h = self.conv1(h).relu()\n",
        "      h = self.maxpool(h)\n",
        "      h = self.conv2(h).relu()\n",
        "      h = h.view(h.size(0), -1)\n",
        "      h = self.linear1(h).relu()\n",
        "      h = self.dropout(h)\n",
        "      h = self.linear2(h).sigmoid()\n",
        "\n",
        "      return h"
      ],
      "metadata": {
        "id": "D7EtxsKLgJyd"
      },
      "execution_count": 15,
      "outputs": []
    },
    {
      "cell_type": "code",
      "source": [
        "device = torch.device('cuda' if torch.cuda.is_available() else 'cpu')\n",
        "model = DGCNN(train_dataset[0].num_features).to(device)\n",
        "\n",
        "optimizer = torch.optim.Adam(params=model.parameters(), lr=0.0001)\n",
        "loss_fn = BCEWithLogitsLoss()"
      ],
      "metadata": {
        "id": "zPpd4YW_hWq4"
      },
      "execution_count": 16,
      "outputs": []
    },
    {
      "cell_type": "code",
      "source": [
        "def train():\n",
        "    model.train()\n",
        "    total_loss = 0\n",
        "\n",
        "    for data in train_loader:\n",
        "        data = data.to(device)\n",
        "        optimizer.zero_grad()\n",
        "        out = model(data.x, data.edge_index, data.batch)\n",
        "        loss = loss_fn(out.view(-1), data.y.to(torch.float))\n",
        "        loss.backward()\n",
        "        optimizer.step()\n",
        "        total_loss += float(loss) * data.num_graphs\n",
        "\n",
        "    return total_loss / len(train_dataset)\n",
        "\n",
        "@torch.no_grad()\n",
        "def test(loader):\n",
        "    model.eval()\n",
        "    y_pred, y_true = [], []\n",
        "\n",
        "    for data in loader:\n",
        "        data = data.to(device)\n",
        "        out = model(data.x, data.edge_index, data.batch)\n",
        "        y_pred.append(out.view(-1).cpu())\n",
        "        y_true.append(data.y.view(-1).cpu().to(torch.float))\n",
        "\n",
        "    auc = roc_auc_score(torch.cat(y_true), torch.cat(y_pred))\n",
        "    ap = average_precision_score(torch.cat(y_true), torch.cat(y_pred))\n",
        "\n",
        "    return auc, ap"
      ],
      "metadata": {
        "id": "nsKbYnSXhlKV"
      },
      "execution_count": 17,
      "outputs": []
    },
    {
      "cell_type": "code",
      "source": [
        "for epoch in range(31):\n",
        "    loss = train()\n",
        "    val_auc, val_ap = test(val_loader)\n",
        "    print(f'Epoch {epoch:>2} | Loss: {loss:.4f} | Val AUC: {val_auc:.4f} | Val AP: {val_ap:.4f}')\n",
        "\n",
        "test_auc, test_ap = test(test_loader)\n",
        "print(f'Test AUC: {test_auc:.4f} | Test AP {test_ap:.4f}')"
      ],
      "metadata": {
        "colab": {
          "base_uri": "https://localhost:8080/"
        },
        "id": "DVqC1wNahxsM",
        "outputId": "bc409a00-6d1d-423e-9aa0-329a99cb417b"
      },
      "execution_count": 18,
      "outputs": [
        {
          "output_type": "stream",
          "name": "stdout",
          "text": [
            "Epoch  0 | Loss: 0.7030 | Val AUC: 0.7088 | Val AP: 0.7261\n",
            "Epoch  1 | Loss: 0.6401 | Val AUC: 0.7787 | Val AP: 0.8074\n",
            "Epoch  2 | Loss: 0.6114 | Val AUC: 0.7773 | Val AP: 0.8050\n",
            "Epoch  3 | Loss: 0.6069 | Val AUC: 0.7790 | Val AP: 0.8094\n",
            "Epoch  4 | Loss: 0.6051 | Val AUC: 0.7764 | Val AP: 0.8059\n",
            "Epoch  5 | Loss: 0.6026 | Val AUC: 0.7752 | Val AP: 0.8083\n",
            "Epoch  6 | Loss: 0.6007 | Val AUC: 0.7722 | Val AP: 0.7996\n",
            "Epoch  7 | Loss: 0.5994 | Val AUC: 0.7753 | Val AP: 0.8067\n",
            "Epoch  8 | Loss: 0.5983 | Val AUC: 0.7711 | Val AP: 0.8040\n",
            "Epoch  9 | Loss: 0.5974 | Val AUC: 0.7731 | Val AP: 0.8075\n",
            "Epoch 10 | Loss: 0.5965 | Val AUC: 0.7726 | Val AP: 0.7994\n",
            "Epoch 11 | Loss: 0.5955 | Val AUC: 0.7752 | Val AP: 0.8003\n",
            "Epoch 12 | Loss: 0.5945 | Val AUC: 0.7739 | Val AP: 0.7967\n",
            "Epoch 13 | Loss: 0.5929 | Val AUC: 0.7743 | Val AP: 0.7972\n",
            "Epoch 14 | Loss: 0.5943 | Val AUC: 0.7783 | Val AP: 0.8034\n",
            "Epoch 15 | Loss: 0.5934 | Val AUC: 0.7833 | Val AP: 0.8134\n",
            "Epoch 16 | Loss: 0.5926 | Val AUC: 0.7730 | Val AP: 0.7906\n",
            "Epoch 17 | Loss: 0.5916 | Val AUC: 0.7801 | Val AP: 0.8021\n",
            "Epoch 18 | Loss: 0.5909 | Val AUC: 0.7806 | Val AP: 0.8039\n",
            "Epoch 19 | Loss: 0.5902 | Val AUC: 0.7780 | Val AP: 0.8013\n",
            "Epoch 20 | Loss: 0.5902 | Val AUC: 0.7750 | Val AP: 0.7918\n",
            "Epoch 21 | Loss: 0.5911 | Val AUC: 0.7796 | Val AP: 0.7993\n",
            "Epoch 22 | Loss: 0.5913 | Val AUC: 0.7784 | Val AP: 0.8004\n",
            "Epoch 23 | Loss: 0.5899 | Val AUC: 0.7753 | Val AP: 0.7991\n",
            "Epoch 24 | Loss: 0.5903 | Val AUC: 0.7734 | Val AP: 0.7933\n",
            "Epoch 25 | Loss: 0.5893 | Val AUC: 0.7748 | Val AP: 0.7915\n",
            "Epoch 26 | Loss: 0.5880 | Val AUC: 0.7761 | Val AP: 0.7931\n",
            "Epoch 27 | Loss: 0.5888 | Val AUC: 0.7730 | Val AP: 0.7884\n",
            "Epoch 28 | Loss: 0.5883 | Val AUC: 0.7778 | Val AP: 0.7931\n",
            "Epoch 29 | Loss: 0.5882 | Val AUC: 0.7752 | Val AP: 0.7903\n",
            "Epoch 30 | Loss: 0.5890 | Val AUC: 0.7725 | Val AP: 0.7820\n",
            "Test AUC: 0.7914 | Test AP 0.7849\n"
          ]
        }
      ]
    }
  ]
}