{
  "nbformat": 4,
  "nbformat_minor": 0,
  "metadata": {
    "colab": {
      "provenance": []
    },
    "kernelspec": {
      "name": "python3",
      "display_name": "Python 3"
    },
    "language_info": {
      "name": "python"
    }
  },
  "cells": [
    {
      "cell_type": "markdown",
      "source": [
        "##Graph Attention Networks form Scratch\n",
        "\n",
        "I am going to built a GAT layer from scratch in NumPy.\n",
        "\n"
      ],
      "metadata": {
        "id": "v9NWpIVgoc4T"
      }
    },
    {
      "cell_type": "code",
      "source": [
        "import torch\n",
        "!pip install -qU torch-scatter~=2.1.0 torch-sparse~=0.6.16 torch-cluster~=1.6.0 torch-spline-conv~=1.2.1 torch-geometric==2.2.0 -f https://data.pyg.org/whl/torch-{torch.__version__}.html\n",
        "\n",
        "torch.manual_seed(42)\n",
        "torch.cuda.manual_seed(42)\n",
        "torch.cuda.manual_seed_all(42)\n",
        "torch.backends.cudnn.deterministic = True\n",
        "torch.backends.cudnn.benchmark = False"
      ],
      "metadata": {
        "id": "D9Gc7nRRqlmk"
      },
      "execution_count": 1,
      "outputs": []
    },
    {
      "cell_type": "code",
      "source": [
        "import matplotlib.pyplot as plt\n",
        "import networkx as nx\n",
        "\n",
        "# Create a graph object\n",
        "G = nx.Graph()\n",
        "\n",
        "# Add nodes to the graph\n",
        "G.add_node(1)\n",
        "G.add_node(2)\n",
        "G.add_node(3)\n",
        "G.add_node(4)\n",
        "\n",
        "# Adding edges between the nodes\n",
        "G.add_edge(1, 2)\n",
        "G.add_edge(1, 3)\n",
        "G.add_edge(1, 4)\n",
        "G.add_edge(4, 3)\n",
        "\n",
        "# Draw the graph\n",
        "nx.draw_networkx(G,\n",
        "                 pos=nx.spring_layout(G, seed=42),\n",
        "                 node_size=800,\n",
        "                 cmap='coolwarm',\n",
        "                 font_size=14,\n",
        "                 font_color='white')"
      ],
      "metadata": {
        "colab": {
          "base_uri": "https://localhost:8080/",
          "height": 406
        },
        "id": "CV0KKjOmpKcq",
        "outputId": "594c1cc5-db22-4198-de8d-8f0f5f0fd0e6"
      },
      "execution_count": 15,
      "outputs": [
        {
          "output_type": "display_data",
          "data": {
            "text/plain": [
              "<Figure size 640x480 with 1 Axes>"
            ],
            "image/png": "[encoded data removed]"
          },
          "metadata": {}
        }
      ]
    },
    {
      "cell_type": "code",
      "source": [
        "import numpy as np\n",
        "np.random.seed(0)\n",
        "\n",
        "# Adjacency matrix A with self connections (ones on the diagonal)\n",
        "\n",
        "A = np.array([\n",
        "    [1, 1, 1, 1],\n",
        "    [1, 1, 0, 0],\n",
        "    [1, 0, 1, 1],\n",
        "    [1, 0, 1, 1]\n",
        "])\n",
        "A"
      ],
      "metadata": {
        "colab": {
          "base_uri": "https://localhost:8080/"
        },
        "id": "VvPQZouBomSL",
        "outputId": "0ff494c9-60c6-4e35-f379-798930e5c259"
      },
      "execution_count": 3,
      "outputs": [
        {
          "output_type": "execute_result",
          "data": {
            "text/plain": [
              "array([[1, 1, 1, 1],\n",
              "       [1, 1, 0, 0],\n",
              "       [1, 0, 1, 1],\n",
              "       [1, 0, 1, 1]])"
            ]
          },
          "metadata": {},
          "execution_count": 3
        }
      ]
    },
    {
      "cell_type": "code",
      "source": [
        "# Node features X\n",
        "X = np.random.uniform(-1, 1, (4, 4))\n",
        "X"
      ],
      "metadata": {
        "colab": {
          "base_uri": "https://localhost:8080/"
        },
        "id": "cOV3N1icoxkx",
        "outputId": "baa5c0cf-8e38-4bd4-c25e-4d1f3656a8a7"
      },
      "execution_count": 4,
      "outputs": [
        {
          "output_type": "execute_result",
          "data": {
            "text/plain": [
              "array([[ 0.09762701,  0.43037873,  0.20552675,  0.08976637],\n",
              "       [-0.1526904 ,  0.29178823, -0.12482558,  0.783546  ],\n",
              "       [ 0.92732552, -0.23311696,  0.58345008,  0.05778984],\n",
              "       [ 0.13608912,  0.85119328, -0.85792788, -0.8257414 ]])"
            ]
          },
          "metadata": {},
          "execution_count": 4
        }
      ]
    },
    {
      "cell_type": "code",
      "source": [
        "# Regular weight matrix W\n",
        "W = np.random.uniform(-1, 1, (2, 4))\n",
        "W"
      ],
      "metadata": {
        "colab": {
          "base_uri": "https://localhost:8080/"
        },
        "id": "iOqXUVYVo0Cq",
        "outputId": "8214c33c-eb91-413b-f908-1139eb7f040c"
      },
      "execution_count": 5,
      "outputs": [
        {
          "output_type": "execute_result",
          "data": {
            "text/plain": [
              "array([[-0.95956321,  0.66523969,  0.5563135 ,  0.7400243 ],\n",
              "       [ 0.95723668,  0.59831713, -0.07704128,  0.56105835]])"
            ]
          },
          "metadata": {},
          "execution_count": 5
        }
      ]
    },
    {
      "cell_type": "code",
      "source": [
        "# Attention weight matrix W_att\n",
        "W_att = np.random.uniform(-1, 1, (1, 4))\n",
        "W_att"
      ],
      "metadata": {
        "colab": {
          "base_uri": "https://localhost:8080/"
        },
        "id": "SYsT3XqsqqV6",
        "outputId": "e085aa37-7099-4d81-81a0-a78599e62ba8"
      },
      "execution_count": 6,
      "outputs": [
        {
          "output_type": "execute_result",
          "data": {
            "text/plain": [
              "array([[-0.76345115,  0.27984204, -0.71329343,  0.88933783]])"
            ]
          },
          "metadata": {},
          "execution_count": 6
        }
      ]
    },
    {
      "cell_type": "code",
      "source": [
        "# Matrix A in COO format\n",
        "connections = np.where(A > 0)\n",
        "connections"
      ],
      "metadata": {
        "colab": {
          "base_uri": "https://localhost:8080/"
        },
        "id": "QYrfuk02qrYJ",
        "outputId": "073d351d-6eca-4ddc-f656-e35c80efac82"
      },
      "execution_count": 7,
      "outputs": [
        {
          "output_type": "execute_result",
          "data": {
            "text/plain": [
              "(array([0, 0, 0, 0, 1, 1, 2, 2, 2, 3, 3, 3]),\n",
              " array([0, 1, 2, 3, 0, 1, 0, 2, 3, 0, 2, 3]))"
            ]
          },
          "metadata": {},
          "execution_count": 7
        }
      ]
    },
    {
      "cell_type": "code",
      "source": [
        "# Concatenation of hidden vectors from source and destination nodes\n",
        "np.concatenate([(X @ W.T)[connections[0]], (X @ W.T)[connections[1]]], axis=1)"
      ],
      "metadata": {
        "colab": {
          "base_uri": "https://localhost:8080/"
        },
        "id": "pXLEI4wxqsli",
        "outputId": "c17420cd-7f9f-4329-9e97-2b0c18e5fa88"
      },
      "execution_count": 8,
      "outputs": [
        {
          "output_type": "execute_result",
          "data": {
            "text/plain": [
              "array([[ 0.37339233,  0.38548525,  0.37339233,  0.38548525],\n",
              "       [ 0.37339233,  0.38548525,  0.85102612,  0.47765279],\n",
              "       [ 0.37339233,  0.38548525, -0.67755906,  0.73566587],\n",
              "       [ 0.37339233,  0.38548525, -0.65268413,  0.24235977],\n",
              "       [ 0.85102612,  0.47765279,  0.37339233,  0.38548525],\n",
              "       [ 0.85102612,  0.47765279,  0.85102612,  0.47765279],\n",
              "       [-0.67755906,  0.73566587,  0.37339233,  0.38548525],\n",
              "       [-0.67755906,  0.73566587, -0.67755906,  0.73566587],\n",
              "       [-0.67755906,  0.73566587, -0.65268413,  0.24235977],\n",
              "       [-0.65268413,  0.24235977,  0.37339233,  0.38548525],\n",
              "       [-0.65268413,  0.24235977, -0.67755906,  0.73566587],\n",
              "       [-0.65268413,  0.24235977, -0.65268413,  0.24235977]])"
            ]
          },
          "metadata": {},
          "execution_count": 8
        }
      ]
    },
    {
      "cell_type": "code",
      "source": [
        "# Linear transformation to the previous result with the attention matrix\n",
        "a = W_att @ np.concatenate([(X @ W.T)[connections[0]], (X @ W.T)[connections[1]]], axis=1).T\n",
        "a"
      ],
      "metadata": {
        "colab": {
          "base_uri": "https://localhost:8080/"
        },
        "id": "TMCXWdrMqtwP",
        "outputId": "9f14a195-35f3-4243-b6bd-f9a188b6b4e9"
      },
      "execution_count": 9,
      "outputs": [
        {
          "output_type": "execute_result",
          "data": {
            "text/plain": [
              "array([[-0.1007035 , -0.35942847,  0.96036209,  0.50390318, -0.43956122,\n",
              "        -0.69828618,  0.79964181,  1.8607074 ,  1.40424849,  0.64260322,\n",
              "         1.70366881,  1.2472099 ]])"
            ]
          },
          "metadata": {},
          "execution_count": 9
        }
      ]
    },
    {
      "cell_type": "code",
      "source": [
        "def leaky_relu(x, alpha=0.2):\n",
        "    return np.maximum(alpha*x, x)\n",
        "\n",
        "e = leaky_relu(a)\n",
        "e"
      ],
      "metadata": {
        "colab": {
          "base_uri": "https://localhost:8080/"
        },
        "id": "v-ZCq8pnqv_O",
        "outputId": "1679f2f5-4d08-4975-b58c-2c7d0400faf7"
      },
      "execution_count": 10,
      "outputs": [
        {
          "output_type": "execute_result",
          "data": {
            "text/plain": [
              "array([[-0.0201407 , -0.07188569,  0.96036209,  0.50390318, -0.08791224,\n",
              "        -0.13965724,  0.79964181,  1.8607074 ,  1.40424849,  0.64260322,\n",
              "         1.70366881,  1.2472099 ]])"
            ]
          },
          "metadata": {},
          "execution_count": 10
        }
      ]
    },
    {
      "cell_type": "code",
      "source": [
        "E = np.zeros(A.shape)\n",
        "E[connections[0], connections[1]] = e[0]\n",
        "E"
      ],
      "metadata": {
        "colab": {
          "base_uri": "https://localhost:8080/"
        },
        "id": "_lB7xBQpqxJ-",
        "outputId": "51e4b6cf-8006-4d78-bb98-5e1213a9c55b"
      },
      "execution_count": 11,
      "outputs": [
        {
          "output_type": "execute_result",
          "data": {
            "text/plain": [
              "array([[-0.0201407 , -0.07188569,  0.96036209,  0.50390318],\n",
              "       [-0.08791224, -0.13965724,  0.        ,  0.        ],\n",
              "       [ 0.79964181,  0.        ,  1.8607074 ,  1.40424849],\n",
              "       [ 0.64260322,  0.        ,  1.70366881,  1.2472099 ]])"
            ]
          },
          "metadata": {},
          "execution_count": 11
        }
      ]
    },
    {
      "cell_type": "code",
      "source": [
        "def softmax2D(x, axis):\n",
        "    e = np.exp(x - np.expand_dims(np.max(x, axis=axis), axis))\n",
        "    sum = np.expand_dims(np.sum(e, axis=axis), axis)\n",
        "    return e / sum\n",
        "\n",
        "W_alpha = softmax2D(E, 1)\n",
        "W_alpha"
      ],
      "metadata": {
        "colab": {
          "base_uri": "https://localhost:8080/"
        },
        "id": "ctcBfnv9qyg9",
        "outputId": "de103b66-8e44-4e44-b711-5053be7f77cc"
      },
      "execution_count": 12,
      "outputs": [
        {
          "output_type": "execute_result",
          "data": {
            "text/plain": [
              "array([[0.15862414, 0.15062488, 0.42285965, 0.26789133],\n",
              "       [0.24193418, 0.22973368, 0.26416607, 0.26416607],\n",
              "       [0.16208847, 0.07285714, 0.46834625, 0.29670814],\n",
              "       [0.16010498, 0.08420266, 0.46261506, 0.2930773 ]])"
            ]
          },
          "metadata": {},
          "execution_count": 12
        }
      ]
    },
    {
      "cell_type": "code",
      "source": [
        "# Final matrix of embeddings\n",
        "H = A.T @ W_alpha @ X @ W.T\n",
        "H"
      ],
      "metadata": {
        "colab": {
          "base_uri": "https://localhost:8080/"
        },
        "id": "BkaSqtogqzmq",
        "outputId": "9ff00ea6-e462-498b-bce6-c3e9f37dbf43"
      },
      "execution_count": 13,
      "outputs": [
        {
          "output_type": "execute_result",
          "data": {
            "text/plain": [
              "array([[-1.10126376,  1.99749693],\n",
              "       [-0.33950544,  0.97045933],\n",
              "       [-1.03570438,  1.53614075],\n",
              "       [-1.03570438,  1.53614075]])"
            ]
          },
          "metadata": {},
          "execution_count": 13
        }
      ]
    },
    {
      "cell_type": "markdown",
      "source": [
        "## Now the GAT layer is complete"
      ],
      "metadata": {
        "id": "b9_lMUprq0-K"
      }
    }
  ]
}