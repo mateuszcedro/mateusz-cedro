{
 "cells": [
  {
   "cell_type": "code",
   "execution_count": 105,
   "metadata": {},
   "outputs": [],
   "source": [
    "import pandas as pd\n",
    "import matplotlib.pyplot as plt\n",
    "import seaborn as sns\n",
    "import numpy as np\n",
    "import statistics as stats\n",
    "import scipy"
   ]
  },
  {
   "cell_type": "code",
   "execution_count": 106,
   "metadata": {},
   "outputs": [],
   "source": [
    "sns.set()"
   ]
  },
  {
   "cell_type": "code",
   "execution_count": 107,
   "metadata": {},
   "outputs": [],
   "source": [
    "data = pd.read_csv(r'C:\\Users\\Mateusz\\Documents\\Studia\\WNE\\Ekonometria WNE\\Case\\Do kejsu 3\\dataset.csv', index_col=0)"
   ]
  },
  {
   "cell_type": "code",
   "execution_count": 108,
   "metadata": {},
   "outputs": [
    {
     "name": "stdout",
     "output_type": "stream",
     "text": [
      "<class 'pandas.core.frame.DataFrame'>\n",
      "Index: 114 entries, Guatemala to Singapore\n",
      "Data columns (total 17 columns):\n",
      " #   Column         Non-Null Count  Dtype  \n",
      "---  ------         --------------  -----  \n",
      " 0   Crime          114 non-null    float64\n",
      " 1   Alco           114 non-null    float64\n",
      " 2   Unemployment   114 non-null    float64\n",
      " 3   GDPpc          114 non-null    float64\n",
      " 4   Death          114 non-null    int64  \n",
      " 5   gun            114 non-null    int64  \n",
      " 6   Continent      114 non-null    object \n",
      " 7   Asia           114 non-null    int64  \n",
      " 8   South_America  114 non-null    int64  \n",
      " 9   North_America  114 non-null    int64  \n",
      " 10  Europe         114 non-null    int64  \n",
      " 11  Africa         114 non-null    int64  \n",
      " 12  Oceania        114 non-null    int64  \n",
      " 13  pop            114 non-null    int64  \n",
      " 14  log(crime)     114 non-null    float64\n",
      " 15  EDU            114 non-null    float64\n",
      " 16  EDUU           114 non-null    float64\n",
      "dtypes: float64(7), int64(9), object(1)\n",
      "memory usage: 16.0+ KB\n"
     ]
    }
   ],
   "source": [
    "data.info()"
   ]
  },
  {
   "cell_type": "code",
   "execution_count": 109,
   "metadata": {},
   "outputs": [
    {
     "data": {
      "text/html": [
       "<div>\n",
       "<style scoped>\n",
       "    .dataframe tbody tr th:only-of-type {\n",
       "        vertical-align: middle;\n",
       "    }\n",
       "\n",
       "    .dataframe tbody tr th {\n",
       "        vertical-align: top;\n",
       "    }\n",
       "\n",
       "    .dataframe thead th {\n",
       "        text-align: right;\n",
       "    }\n",
       "</style>\n",
       "<table border=\"1\" class=\"dataframe\">\n",
       "  <thead>\n",
       "    <tr style=\"text-align: right;\">\n",
       "      <th></th>\n",
       "      <th>Variables</th>\n",
       "      <th>Variable explanation</th>\n",
       "      <th>Type of variable</th>\n",
       "    </tr>\n",
       "  </thead>\n",
       "  <tbody>\n",
       "    <tr>\n",
       "      <th>0</th>\n",
       "      <td>Crime</td>\n",
       "      <td>Crime rate</td>\n",
       "      <td>continuous</td>\n",
       "    </tr>\n",
       "    <tr>\n",
       "      <th>1</th>\n",
       "      <td>Alco</td>\n",
       "      <td>Average alcohol consumption</td>\n",
       "      <td>continuous</td>\n",
       "    </tr>\n",
       "    <tr>\n",
       "      <th>2</th>\n",
       "      <td>Unemployment</td>\n",
       "      <td>Unemployment rate</td>\n",
       "      <td>continuous</td>\n",
       "    </tr>\n",
       "    <tr>\n",
       "      <th>3</th>\n",
       "      <td>GDPpc</td>\n",
       "      <td>Gross Domestic Product per capita</td>\n",
       "      <td>continuous</td>\n",
       "    </tr>\n",
       "    <tr>\n",
       "      <th>4</th>\n",
       "      <td>Death</td>\n",
       "      <td>Death Penalty (0/1)</td>\n",
       "      <td>binary</td>\n",
       "    </tr>\n",
       "    <tr>\n",
       "      <th>5</th>\n",
       "      <td>gun</td>\n",
       "      <td>Does access to weapons not require a permit? (...</td>\n",
       "      <td>binary</td>\n",
       "    </tr>\n",
       "    <tr>\n",
       "      <th>6</th>\n",
       "      <td>Continent</td>\n",
       "      <td>Names of continents</td>\n",
       "      <td>binary</td>\n",
       "    </tr>\n",
       "    <tr>\n",
       "      <th>7</th>\n",
       "      <td>pop</td>\n",
       "      <td>Population</td>\n",
       "      <td>continuous</td>\n",
       "    </tr>\n",
       "    <tr>\n",
       "      <th>8</th>\n",
       "      <td>log(crime)</td>\n",
       "      <td>logarythm of variable Crime</td>\n",
       "      <td>continuous</td>\n",
       "    </tr>\n",
       "    <tr>\n",
       "      <th>9</th>\n",
       "      <td>EDU</td>\n",
       "      <td>Education level index</td>\n",
       "      <td>continuous</td>\n",
       "    </tr>\n",
       "    <tr>\n",
       "      <th>10</th>\n",
       "      <td>EDUU</td>\n",
       "      <td>Inverse of the variable EDU (1/EDU)</td>\n",
       "      <td>continuous</td>\n",
       "    </tr>\n",
       "  </tbody>\n",
       "</table>\n",
       "</div>"
      ],
      "text/plain": [
       "       Variables                               Variable explanation  \\\n",
       "0          Crime                                         Crime rate   \n",
       "1           Alco                        Average alcohol consumption   \n",
       "2   Unemployment                                  Unemployment rate   \n",
       "3          GDPpc                  Gross Domestic Product per capita   \n",
       "4          Death                                Death Penalty (0/1)   \n",
       "5            gun  Does access to weapons not require a permit? (...   \n",
       "6      Continent                                Names of continents   \n",
       "7            pop                                         Population   \n",
       "8     log(crime)                        logarythm of variable Crime   \n",
       "9            EDU                              Education level index   \n",
       "10          EDUU                Inverse of the variable EDU (1/EDU)   \n",
       "\n",
       "   Type of variable  \n",
       "0        continuous  \n",
       "1        continuous  \n",
       "2        continuous  \n",
       "3        continuous  \n",
       "4            binary  \n",
       "5            binary  \n",
       "6            binary  \n",
       "7        continuous  \n",
       "8        continuous  \n",
       "9        continuous  \n",
       "10       continuous  "
      ]
     },
     "execution_count": 109,
     "metadata": {},
     "output_type": "execute_result"
    }
   ],
   "source": [
    "variables = [['Crime', 'Crime rate', 'continuous'],\n",
    "          ['Alco', 'Average alcohol consumption','continuous'],\n",
    "          ['Unemployment', 'Unemployment rate','continuous'],\n",
    "          ['GDPpc', 'Gross Domestic Product per capita','continuous'],\n",
    "          ['Death', 'Death Penalty (0/1)','binary'],\n",
    "          ['gun', 'Does access to weapons not require a permit? (0/1)','binary'],\n",
    "          ['Continent', 'Names of continents','binary'],\n",
    "          ['pop', 'Population','continuous'],\n",
    "          ['log(crime)', 'logarythm of variable Crime', 'continuous'],\n",
    "           ['EDU', 'Education level index','continuous'],\n",
    "          ['EDUU', 'Inverse of the variable EDU (1/EDU)', 'continuous']]\n",
    "\n",
    "x = pd.DataFrame(variables, columns=['Variables', 'Variable explanation', 'Type of variable'])  # git\n",
    "x"
   ]
  },
  {
   "cell_type": "code",
   "execution_count": 103,
   "metadata": {},
   "outputs": [
    {
     "data": {
      "text/html": [
       "<div>\n",
       "<style scoped>\n",
       "    .dataframe tbody tr th:only-of-type {\n",
       "        vertical-align: middle;\n",
       "    }\n",
       "\n",
       "    .dataframe tbody tr th {\n",
       "        vertical-align: top;\n",
       "    }\n",
       "\n",
       "    .dataframe thead th {\n",
       "        text-align: right;\n",
       "    }\n",
       "</style>\n",
       "<table border=\"1\" class=\"dataframe\">\n",
       "  <thead>\n",
       "    <tr style=\"text-align: right;\">\n",
       "      <th></th>\n",
       "      <th>Crime</th>\n",
       "      <th>Alco</th>\n",
       "      <th>Unemployment</th>\n",
       "      <th>GDPpc</th>\n",
       "      <th>Death</th>\n",
       "      <th>gun</th>\n",
       "      <th>Asia</th>\n",
       "      <th>South_America</th>\n",
       "      <th>North_America</th>\n",
       "      <th>Europe</th>\n",
       "      <th>Africa</th>\n",
       "      <th>Oceania</th>\n",
       "      <th>pop</th>\n",
       "      <th>log(crime)</th>\n",
       "      <th>EDU</th>\n",
       "      <th>EDUU</th>\n",
       "    </tr>\n",
       "  </thead>\n",
       "  <tbody>\n",
       "    <tr>\n",
       "      <th>count</th>\n",
       "      <td>114.000000</td>\n",
       "      <td>114.000000</td>\n",
       "      <td>114.000000</td>\n",
       "      <td>114.000000</td>\n",
       "      <td>114.000000</td>\n",
       "      <td>114.000000</td>\n",
       "      <td>114.000000</td>\n",
       "      <td>114.000000</td>\n",
       "      <td>114.000000</td>\n",
       "      <td>114.000000</td>\n",
       "      <td>114.000000</td>\n",
       "      <td>114.000000</td>\n",
       "      <td>1.140000e+02</td>\n",
       "      <td>114.000000</td>\n",
       "      <td>114.000000</td>\n",
       "      <td>114.000000</td>\n",
       "    </tr>\n",
       "    <tr>\n",
       "      <th>mean</th>\n",
       "      <td>46.517544</td>\n",
       "      <td>5.312061</td>\n",
       "      <td>7.709904</td>\n",
       "      <td>16862.152444</td>\n",
       "      <td>0.342105</td>\n",
       "      <td>0.052632</td>\n",
       "      <td>0.280702</td>\n",
       "      <td>0.078947</td>\n",
       "      <td>0.114035</td>\n",
       "      <td>0.315789</td>\n",
       "      <td>0.175439</td>\n",
       "      <td>0.035088</td>\n",
       "      <td>5.173189e+07</td>\n",
       "      <td>3.780716</td>\n",
       "      <td>0.692904</td>\n",
       "      <td>1.532566</td>\n",
       "    </tr>\n",
       "    <tr>\n",
       "      <th>std</th>\n",
       "      <td>15.501131</td>\n",
       "      <td>3.876764</td>\n",
       "      <td>5.337003</td>\n",
       "      <td>21127.603142</td>\n",
       "      <td>0.476509</td>\n",
       "      <td>0.224283</td>\n",
       "      <td>0.451326</td>\n",
       "      <td>0.270847</td>\n",
       "      <td>0.319257</td>\n",
       "      <td>0.466882</td>\n",
       "      <td>0.382021</td>\n",
       "      <td>0.184814</td>\n",
       "      <td>1.788659e+08</td>\n",
       "      <td>0.354958</td>\n",
       "      <td>0.154499</td>\n",
       "      <td>0.421210</td>\n",
       "    </tr>\n",
       "    <tr>\n",
       "      <th>min</th>\n",
       "      <td>17.590000</td>\n",
       "      <td>0.002000</td>\n",
       "      <td>0.170000</td>\n",
       "      <td>482.639066</td>\n",
       "      <td>0.000000</td>\n",
       "      <td>0.000000</td>\n",
       "      <td>0.000000</td>\n",
       "      <td>0.000000</td>\n",
       "      <td>0.000000</td>\n",
       "      <td>0.000000</td>\n",
       "      <td>0.000000</td>\n",
       "      <td>0.000000</td>\n",
       "      <td>2.853240e+05</td>\n",
       "      <td>2.867331</td>\n",
       "      <td>0.327000</td>\n",
       "      <td>1.070664</td>\n",
       "    </tr>\n",
       "    <tr>\n",
       "      <th>25%</th>\n",
       "      <td>35.155000</td>\n",
       "      <td>1.685000</td>\n",
       "      <td>4.299750</td>\n",
       "      <td>3307.752382</td>\n",
       "      <td>0.000000</td>\n",
       "      <td>0.000000</td>\n",
       "      <td>0.000000</td>\n",
       "      <td>0.000000</td>\n",
       "      <td>0.000000</td>\n",
       "      <td>0.000000</td>\n",
       "      <td>0.000000</td>\n",
       "      <td>0.000000</td>\n",
       "      <td>4.219540e+06</td>\n",
       "      <td>3.559758</td>\n",
       "      <td>0.563750</td>\n",
       "      <td>1.233819</td>\n",
       "    </tr>\n",
       "    <tr>\n",
       "      <th>50%</th>\n",
       "      <td>44.695000</td>\n",
       "      <td>4.855000</td>\n",
       "      <td>6.177500</td>\n",
       "      <td>6986.907291</td>\n",
       "      <td>0.000000</td>\n",
       "      <td>0.000000</td>\n",
       "      <td>0.000000</td>\n",
       "      <td>0.000000</td>\n",
       "      <td>0.000000</td>\n",
       "      <td>0.000000</td>\n",
       "      <td>0.000000</td>\n",
       "      <td>0.000000</td>\n",
       "      <td>1.031988e+07</td>\n",
       "      <td>3.799837</td>\n",
       "      <td>0.711500</td>\n",
       "      <td>1.405488</td>\n",
       "    </tr>\n",
       "    <tr>\n",
       "      <th>75%</th>\n",
       "      <td>57.442500</td>\n",
       "      <td>8.330000</td>\n",
       "      <td>9.897750</td>\n",
       "      <td>22331.302827</td>\n",
       "      <td>1.000000</td>\n",
       "      <td>0.000000</td>\n",
       "      <td>1.000000</td>\n",
       "      <td>0.000000</td>\n",
       "      <td>0.000000</td>\n",
       "      <td>1.000000</td>\n",
       "      <td>0.000000</td>\n",
       "      <td>0.000000</td>\n",
       "      <td>3.534510e+07</td>\n",
       "      <td>4.050768</td>\n",
       "      <td>0.810500</td>\n",
       "      <td>1.773887</td>\n",
       "    </tr>\n",
       "    <tr>\n",
       "      <th>max</th>\n",
       "      <td>79.340000</td>\n",
       "      <td>16.700000</td>\n",
       "      <td>25.156000</td>\n",
       "      <td>107638.212300</td>\n",
       "      <td>1.000000</td>\n",
       "      <td>1.000000</td>\n",
       "      <td>1.000000</td>\n",
       "      <td>1.000000</td>\n",
       "      <td>1.000000</td>\n",
       "      <td>1.000000</td>\n",
       "      <td>1.000000</td>\n",
       "      <td>1.000000</td>\n",
       "      <td>1.371220e+09</td>\n",
       "      <td>4.373742</td>\n",
       "      <td>0.934000</td>\n",
       "      <td>3.058104</td>\n",
       "    </tr>\n",
       "  </tbody>\n",
       "</table>\n",
       "</div>"
      ],
      "text/plain": [
       "            Crime        Alco  Unemployment          GDPpc       Death  \\\n",
       "count  114.000000  114.000000    114.000000     114.000000  114.000000   \n",
       "mean    46.517544    5.312061      7.709904   16862.152444    0.342105   \n",
       "std     15.501131    3.876764      5.337003   21127.603142    0.476509   \n",
       "min     17.590000    0.002000      0.170000     482.639066    0.000000   \n",
       "25%     35.155000    1.685000      4.299750    3307.752382    0.000000   \n",
       "50%     44.695000    4.855000      6.177500    6986.907291    0.000000   \n",
       "75%     57.442500    8.330000      9.897750   22331.302827    1.000000   \n",
       "max     79.340000   16.700000     25.156000  107638.212300    1.000000   \n",
       "\n",
       "              gun        Asia  South_America  North_America      Europe  \\\n",
       "count  114.000000  114.000000     114.000000     114.000000  114.000000   \n",
       "mean     0.052632    0.280702       0.078947       0.114035    0.315789   \n",
       "std      0.224283    0.451326       0.270847       0.319257    0.466882   \n",
       "min      0.000000    0.000000       0.000000       0.000000    0.000000   \n",
       "25%      0.000000    0.000000       0.000000       0.000000    0.000000   \n",
       "50%      0.000000    0.000000       0.000000       0.000000    0.000000   \n",
       "75%      0.000000    1.000000       0.000000       0.000000    1.000000   \n",
       "max      1.000000    1.000000       1.000000       1.000000    1.000000   \n",
       "\n",
       "           Africa     Oceania           pop  log(crime)         EDU  \\\n",
       "count  114.000000  114.000000  1.140000e+02  114.000000  114.000000   \n",
       "mean     0.175439    0.035088  5.173189e+07    3.780716    0.692904   \n",
       "std      0.382021    0.184814  1.788659e+08    0.354958    0.154499   \n",
       "min      0.000000    0.000000  2.853240e+05    2.867331    0.327000   \n",
       "25%      0.000000    0.000000  4.219540e+06    3.559758    0.563750   \n",
       "50%      0.000000    0.000000  1.031988e+07    3.799837    0.711500   \n",
       "75%      0.000000    0.000000  3.534510e+07    4.050768    0.810500   \n",
       "max      1.000000    1.000000  1.371220e+09    4.373742    0.934000   \n",
       "\n",
       "             EDUU  \n",
       "count  114.000000  \n",
       "mean     1.532566  \n",
       "std      0.421210  \n",
       "min      1.070664  \n",
       "25%      1.233819  \n",
       "50%      1.405488  \n",
       "75%      1.773887  \n",
       "max      3.058104  "
      ]
     },
     "execution_count": 103,
     "metadata": {},
     "output_type": "execute_result"
    }
   ],
   "source": [
    "data.describe()"
   ]
  },
  {
   "cell_type": "markdown",
   "metadata": {},
   "source": [
    "### 2.4. Proces selekcji zmiennych objaśniających do modelu"
   ]
  },
  {
   "cell_type": "code",
   "execution_count": 13,
   "metadata": {},
   "outputs": [],
   "source": [
    "import statsmodels.api as sm\n",
    "import statsmodels.formula.api as smf\n",
    "from stargazer.stargazer import Stargazer"
   ]
  },
  {
   "cell_type": "markdown",
   "metadata": {},
   "source": [
    "### Pierwotna wersja modelu"
   ]
  },
  {
   "cell_type": "code",
   "execution_count": 14,
   "metadata": {},
   "outputs": [
    {
     "data": {
      "text/html": [
       "<table class=\"simpletable\">\n",
       "<caption>OLS Regression Results</caption>\n",
       "<tr>\n",
       "  <th>Dep. Variable:</th>      <td>np.log(Crime)</td>  <th>  R-squared:         </th> <td>   0.454</td>\n",
       "</tr>\n",
       "<tr>\n",
       "  <th>Model:</th>                   <td>OLS</td>       <th>  Adj. R-squared:    </th> <td>   0.389</td>\n",
       "</tr>\n",
       "<tr>\n",
       "  <th>Method:</th>             <td>Least Squares</td>  <th>  F-statistic:       </th> <td>   6.985</td>\n",
       "</tr>\n",
       "<tr>\n",
       "  <th>Date:</th>             <td>Thu, 18 Nov 2021</td> <th>  Prob (F-statistic):</th> <td>4.41e-09</td>\n",
       "</tr>\n",
       "<tr>\n",
       "  <th>Time:</th>                 <td>18:26:02</td>     <th>  Log-Likelihood:    </th> <td> -8.7374</td>\n",
       "</tr>\n",
       "<tr>\n",
       "  <th>No. Observations:</th>      <td>   114</td>      <th>  AIC:               </th> <td>   43.47</td>\n",
       "</tr>\n",
       "<tr>\n",
       "  <th>Df Residuals:</th>          <td>   101</td>      <th>  BIC:               </th> <td>   79.05</td>\n",
       "</tr>\n",
       "<tr>\n",
       "  <th>Df Model:</th>              <td>    12</td>      <th>                     </th>     <td> </td>   \n",
       "</tr>\n",
       "<tr>\n",
       "  <th>Covariance Type:</th>      <td>nonrobust</td>    <th>                     </th>     <td> </td>   \n",
       "</tr>\n",
       "</table>\n",
       "<table class=\"simpletable\">\n",
       "<tr>\n",
       "            <td></td>               <th>coef</th>     <th>std err</th>      <th>t</th>      <th>P>|t|</th>  <th>[0.025</th>    <th>0.975]</th>  \n",
       "</tr>\n",
       "<tr>\n",
       "  <th>Intercept</th>             <td>    5.8534</td> <td>    0.934</td> <td>    6.267</td> <td> 0.000</td> <td>    4.001</td> <td>    7.706</td>\n",
       "</tr>\n",
       "<tr>\n",
       "  <th>C(Death)[T.1]</th>         <td>    0.0323</td> <td>    0.066</td> <td>    0.490</td> <td> 0.625</td> <td>   -0.098</td> <td>    0.163</td>\n",
       "</tr>\n",
       "<tr>\n",
       "  <th>C(gun)[T.1]</th>           <td>   -0.0463</td> <td>    0.137</td> <td>   -0.338</td> <td> 0.736</td> <td>   -0.318</td> <td>    0.225</td>\n",
       "</tr>\n",
       "<tr>\n",
       "  <th>C(Asia)[T.1]</th>          <td>   -0.0491</td> <td>    0.127</td> <td>   -0.385</td> <td> 0.701</td> <td>   -0.302</td> <td>    0.204</td>\n",
       "</tr>\n",
       "<tr>\n",
       "  <th>C(South_America)[T.1]</th> <td>    0.3082</td> <td>    0.124</td> <td>    2.494</td> <td> 0.014</td> <td>    0.063</td> <td>    0.553</td>\n",
       "</tr>\n",
       "<tr>\n",
       "  <th>C(North_America)[T.1]</th> <td>    0.2991</td> <td>    0.119</td> <td>    2.512</td> <td> 0.014</td> <td>    0.063</td> <td>    0.535</td>\n",
       "</tr>\n",
       "<tr>\n",
       "  <th>C(Africa)[T.1]</th>        <td>    0.0462</td> <td>    0.120</td> <td>    0.384</td> <td> 0.702</td> <td>   -0.193</td> <td>    0.285</td>\n",
       "</tr>\n",
       "<tr>\n",
       "  <th>C(Oceania)[T.1]</th>       <td>    0.3599</td> <td>    0.158</td> <td>    2.283</td> <td> 0.025</td> <td>    0.047</td> <td>    0.672</td>\n",
       "</tr>\n",
       "<tr>\n",
       "  <th>Unemployment</th>          <td>    0.0111</td> <td>    0.006</td> <td>    1.927</td> <td> 0.057</td> <td>   -0.000</td> <td>    0.022</td>\n",
       "</tr>\n",
       "<tr>\n",
       "  <th>Alco</th>                  <td>   -0.0010</td> <td>    0.012</td> <td>   -0.085</td> <td> 0.933</td> <td>   -0.024</td> <td>    0.022</td>\n",
       "</tr>\n",
       "<tr>\n",
       "  <th>EDU</th>                   <td>   -2.5741</td> <td>    0.757</td> <td>   -3.401</td> <td> 0.001</td> <td>   -4.076</td> <td>   -1.073</td>\n",
       "</tr>\n",
       "<tr>\n",
       "  <th>EDUU</th>                  <td>   -0.6110</td> <td>    0.251</td> <td>   -2.438</td> <td> 0.017</td> <td>   -1.108</td> <td>   -0.114</td>\n",
       "</tr>\n",
       "<tr>\n",
       "  <th>np.log(pop)</th>           <td>    0.0304</td> <td>    0.018</td> <td>    1.722</td> <td> 0.088</td> <td>   -0.005</td> <td>    0.065</td>\n",
       "</tr>\n",
       "</table>\n",
       "<table class=\"simpletable\">\n",
       "<tr>\n",
       "  <th>Omnibus:</th>       <td>15.568</td> <th>  Durbin-Watson:     </th> <td>   0.752</td>\n",
       "</tr>\n",
       "<tr>\n",
       "  <th>Prob(Omnibus):</th> <td> 0.000</td> <th>  Jarque-Bera (JB):  </th> <td>  22.209</td>\n",
       "</tr>\n",
       "<tr>\n",
       "  <th>Skew:</th>          <td>-0.679</td> <th>  Prob(JB):          </th> <td>1.50e-05</td>\n",
       "</tr>\n",
       "<tr>\n",
       "  <th>Kurtosis:</th>      <td> 4.682</td> <th>  Cond. No.          </th> <td>    889.</td>\n",
       "</tr>\n",
       "</table><br/><br/>Notes:<br/>[1] Standard Errors assume that the covariance matrix of the errors is correctly specified."
      ],
      "text/plain": [
       "<class 'statsmodels.iolib.summary.Summary'>\n",
       "\"\"\"\n",
       "                            OLS Regression Results                            \n",
       "==============================================================================\n",
       "Dep. Variable:          np.log(Crime)   R-squared:                       0.454\n",
       "Model:                            OLS   Adj. R-squared:                  0.389\n",
       "Method:                 Least Squares   F-statistic:                     6.985\n",
       "Date:                Thu, 18 Nov 2021   Prob (F-statistic):           4.41e-09\n",
       "Time:                        18:26:02   Log-Likelihood:                -8.7374\n",
       "No. Observations:                 114   AIC:                             43.47\n",
       "Df Residuals:                     101   BIC:                             79.05\n",
       "Df Model:                          12                                         \n",
       "Covariance Type:            nonrobust                                         \n",
       "=========================================================================================\n",
       "                            coef    std err          t      P>|t|      [0.025      0.975]\n",
       "-----------------------------------------------------------------------------------------\n",
       "Intercept                 5.8534      0.934      6.267      0.000       4.001       7.706\n",
       "C(Death)[T.1]             0.0323      0.066      0.490      0.625      -0.098       0.163\n",
       "C(gun)[T.1]              -0.0463      0.137     -0.338      0.736      -0.318       0.225\n",
       "C(Asia)[T.1]             -0.0491      0.127     -0.385      0.701      -0.302       0.204\n",
       "C(South_America)[T.1]     0.3082      0.124      2.494      0.014       0.063       0.553\n",
       "C(North_America)[T.1]     0.2991      0.119      2.512      0.014       0.063       0.535\n",
       "C(Africa)[T.1]            0.0462      0.120      0.384      0.702      -0.193       0.285\n",
       "C(Oceania)[T.1]           0.3599      0.158      2.283      0.025       0.047       0.672\n",
       "Unemployment              0.0111      0.006      1.927      0.057      -0.000       0.022\n",
       "Alco                     -0.0010      0.012     -0.085      0.933      -0.024       0.022\n",
       "EDU                      -2.5741      0.757     -3.401      0.001      -4.076      -1.073\n",
       "EDUU                     -0.6110      0.251     -2.438      0.017      -1.108      -0.114\n",
       "np.log(pop)               0.0304      0.018      1.722      0.088      -0.005       0.065\n",
       "==============================================================================\n",
       "Omnibus:                       15.568   Durbin-Watson:                   0.752\n",
       "Prob(Omnibus):                  0.000   Jarque-Bera (JB):               22.209\n",
       "Skew:                          -0.679   Prob(JB):                     1.50e-05\n",
       "Kurtosis:                       4.682   Cond. No.                         889.\n",
       "==============================================================================\n",
       "\n",
       "Notes:\n",
       "[1] Standard Errors assume that the covariance matrix of the errors is correctly specified.\n",
       "\"\"\""
      ]
     },
     "execution_count": 14,
     "metadata": {},
     "output_type": "execute_result"
    }
   ],
   "source": [
    "m1 = 'np.log(Crime) ~ Unemployment + Alco + EDU + EDUU + np.log(pop) + C(Death) + C(gun) + C(Asia)+C(South_America) + C(North_America) + C(Africa) + C(Oceania)'\n",
    "m1 = smf.ols(m1, data).fit()\n",
    "m1.summary()"
   ]
  },
  {
   "cell_type": "markdown",
   "metadata": {},
   "source": [
    "### Testowanie hipotez złożonych"
   ]
  },
  {
   "cell_type": "code",
   "execution_count": 20,
   "metadata": {},
   "outputs": [
    {
     "data": {
      "text/plain": [
       "<class 'statsmodels.stats.contrast.ContrastResults'>\n",
       "<F test: F=array([[0.00717684]]), p=0.93265467220455, df_denom=101, df_num=1>"
      ]
     },
     "execution_count": 20,
     "metadata": {},
     "output_type": "execute_result"
    }
   ],
   "source": [
    "hip1 = '(Alco = 0)'\n",
    "\n",
    "f_test1 = m1.f_test(hip1)\n",
    "f_test1"
   ]
  },
  {
   "cell_type": "markdown",
   "metadata": {},
   "source": [
    "Liczymy statystykę testową zmiennej Alco oraz jej p-value. Statystyka testowa nie zawiera się w obszarze krytycznym\n",
    "a p-value zmiennej jest większe od poziomu istotności 0.05, więc usuwamy tą zmienną z modelu."
   ]
  },
  {
   "cell_type": "markdown",
   "metadata": {},
   "source": [
    "### 2 wersja modelu - Usuwam zmienną Alco"
   ]
  },
  {
   "cell_type": "code",
   "execution_count": 17,
   "metadata": {},
   "outputs": [
    {
     "data": {
      "text/html": [
       "<table class=\"simpletable\">\n",
       "<caption>OLS Regression Results</caption>\n",
       "<tr>\n",
       "  <th>Dep. Variable:</th>      <td>np.log(Crime)</td>  <th>  R-squared:         </th> <td>   0.453</td>\n",
       "</tr>\n",
       "<tr>\n",
       "  <th>Model:</th>                   <td>OLS</td>       <th>  Adj. R-squared:    </th> <td>   0.395</td>\n",
       "</tr>\n",
       "<tr>\n",
       "  <th>Method:</th>             <td>Least Squares</td>  <th>  F-statistic:       </th> <td>   7.694</td>\n",
       "</tr>\n",
       "<tr>\n",
       "  <th>Date:</th>             <td>Thu, 18 Nov 2021</td> <th>  Prob (F-statistic):</th> <td>1.53e-09</td>\n",
       "</tr>\n",
       "<tr>\n",
       "  <th>Time:</th>                 <td>18:27:09</td>     <th>  Log-Likelihood:    </th> <td> -8.7414</td>\n",
       "</tr>\n",
       "<tr>\n",
       "  <th>No. Observations:</th>      <td>   114</td>      <th>  AIC:               </th> <td>   41.48</td>\n",
       "</tr>\n",
       "<tr>\n",
       "  <th>Df Residuals:</th>          <td>   102</td>      <th>  BIC:               </th> <td>   74.32</td>\n",
       "</tr>\n",
       "<tr>\n",
       "  <th>Df Model:</th>              <td>    11</td>      <th>                     </th>     <td> </td>   \n",
       "</tr>\n",
       "<tr>\n",
       "  <th>Covariance Type:</th>      <td>nonrobust</td>    <th>                     </th>     <td> </td>   \n",
       "</tr>\n",
       "</table>\n",
       "<table class=\"simpletable\">\n",
       "<tr>\n",
       "            <td></td>               <th>coef</th>     <th>std err</th>      <th>t</th>      <th>P>|t|</th>  <th>[0.025</th>    <th>0.975]</th>  \n",
       "</tr>\n",
       "<tr>\n",
       "  <th>Intercept</th>             <td>    5.8546</td> <td>    0.929</td> <td>    6.300</td> <td> 0.000</td> <td>    4.011</td> <td>    7.698</td>\n",
       "</tr>\n",
       "<tr>\n",
       "  <th>C(Death)[T.1]</th>         <td>    0.0326</td> <td>    0.065</td> <td>    0.498</td> <td> 0.620</td> <td>   -0.097</td> <td>    0.162</td>\n",
       "</tr>\n",
       "<tr>\n",
       "  <th>C(gun)[T.1]</th>           <td>   -0.0442</td> <td>    0.134</td> <td>   -0.330</td> <td> 0.742</td> <td>   -0.310</td> <td>    0.222</td>\n",
       "</tr>\n",
       "<tr>\n",
       "  <th>C(Asia)[T.1]</th>          <td>   -0.0432</td> <td>    0.106</td> <td>   -0.407</td> <td> 0.685</td> <td>   -0.253</td> <td>    0.167</td>\n",
       "</tr>\n",
       "<tr>\n",
       "  <th>C(South_America)[T.1]</th> <td>    0.3106</td> <td>    0.119</td> <td>    2.600</td> <td> 0.011</td> <td>    0.074</td> <td>    0.548</td>\n",
       "</tr>\n",
       "<tr>\n",
       "  <th>C(North_America)[T.1]</th> <td>    0.3014</td> <td>    0.115</td> <td>    2.612</td> <td> 0.010</td> <td>    0.073</td> <td>    0.530</td>\n",
       "</tr>\n",
       "<tr>\n",
       "  <th>C(Africa)[T.1]</th>        <td>    0.0492</td> <td>    0.114</td> <td>    0.431</td> <td> 0.667</td> <td>   -0.177</td> <td>    0.276</td>\n",
       "</tr>\n",
       "<tr>\n",
       "  <th>C(Oceania)[T.1]</th>       <td>    0.3635</td> <td>    0.151</td> <td>    2.411</td> <td> 0.018</td> <td>    0.065</td> <td>    0.663</td>\n",
       "</tr>\n",
       "<tr>\n",
       "  <th>Unemployment</th>          <td>    0.0112</td> <td>    0.006</td> <td>    1.997</td> <td> 0.049</td> <td> 7.41e-05</td> <td>    0.022</td>\n",
       "</tr>\n",
       "<tr>\n",
       "  <th>EDU</th>                   <td>   -2.5838</td> <td>    0.745</td> <td>   -3.470</td> <td> 0.001</td> <td>   -4.061</td> <td>   -1.107</td>\n",
       "</tr>\n",
       "<tr>\n",
       "  <th>EDUU</th>                  <td>   -0.6113</td> <td>    0.249</td> <td>   -2.451</td> <td> 0.016</td> <td>   -1.106</td> <td>   -0.117</td>\n",
       "</tr>\n",
       "<tr>\n",
       "  <th>np.log(pop)</th>           <td>    0.0302</td> <td>    0.017</td> <td>    1.734</td> <td> 0.086</td> <td>   -0.004</td> <td>    0.065</td>\n",
       "</tr>\n",
       "</table>\n",
       "<table class=\"simpletable\">\n",
       "<tr>\n",
       "  <th>Omnibus:</th>       <td>15.750</td> <th>  Durbin-Watson:     </th> <td>   0.753</td>\n",
       "</tr>\n",
       "<tr>\n",
       "  <th>Prob(Omnibus):</th> <td> 0.000</td> <th>  Jarque-Bera (JB):  </th> <td>  22.516</td>\n",
       "</tr>\n",
       "<tr>\n",
       "  <th>Skew:</th>          <td>-0.686</td> <th>  Prob(JB):          </th> <td>1.29e-05</td>\n",
       "</tr>\n",
       "<tr>\n",
       "  <th>Kurtosis:</th>      <td> 4.691</td> <th>  Cond. No.          </th> <td>    851.</td>\n",
       "</tr>\n",
       "</table><br/><br/>Notes:<br/>[1] Standard Errors assume that the covariance matrix of the errors is correctly specified."
      ],
      "text/plain": [
       "<class 'statsmodels.iolib.summary.Summary'>\n",
       "\"\"\"\n",
       "                            OLS Regression Results                            \n",
       "==============================================================================\n",
       "Dep. Variable:          np.log(Crime)   R-squared:                       0.453\n",
       "Model:                            OLS   Adj. R-squared:                  0.395\n",
       "Method:                 Least Squares   F-statistic:                     7.694\n",
       "Date:                Thu, 18 Nov 2021   Prob (F-statistic):           1.53e-09\n",
       "Time:                        18:27:09   Log-Likelihood:                -8.7414\n",
       "No. Observations:                 114   AIC:                             41.48\n",
       "Df Residuals:                     102   BIC:                             74.32\n",
       "Df Model:                          11                                         \n",
       "Covariance Type:            nonrobust                                         \n",
       "=========================================================================================\n",
       "                            coef    std err          t      P>|t|      [0.025      0.975]\n",
       "-----------------------------------------------------------------------------------------\n",
       "Intercept                 5.8546      0.929      6.300      0.000       4.011       7.698\n",
       "C(Death)[T.1]             0.0326      0.065      0.498      0.620      -0.097       0.162\n",
       "C(gun)[T.1]              -0.0442      0.134     -0.330      0.742      -0.310       0.222\n",
       "C(Asia)[T.1]             -0.0432      0.106     -0.407      0.685      -0.253       0.167\n",
       "C(South_America)[T.1]     0.3106      0.119      2.600      0.011       0.074       0.548\n",
       "C(North_America)[T.1]     0.3014      0.115      2.612      0.010       0.073       0.530\n",
       "C(Africa)[T.1]            0.0492      0.114      0.431      0.667      -0.177       0.276\n",
       "C(Oceania)[T.1]           0.3635      0.151      2.411      0.018       0.065       0.663\n",
       "Unemployment              0.0112      0.006      1.997      0.049    7.41e-05       0.022\n",
       "EDU                      -2.5838      0.745     -3.470      0.001      -4.061      -1.107\n",
       "EDUU                     -0.6113      0.249     -2.451      0.016      -1.106      -0.117\n",
       "np.log(pop)               0.0302      0.017      1.734      0.086      -0.004       0.065\n",
       "==============================================================================\n",
       "Omnibus:                       15.750   Durbin-Watson:                   0.753\n",
       "Prob(Omnibus):                  0.000   Jarque-Bera (JB):               22.516\n",
       "Skew:                          -0.686   Prob(JB):                     1.29e-05\n",
       "Kurtosis:                       4.691   Cond. No.                         851.\n",
       "==============================================================================\n",
       "\n",
       "Notes:\n",
       "[1] Standard Errors assume that the covariance matrix of the errors is correctly specified.\n",
       "\"\"\""
      ]
     },
     "execution_count": 17,
     "metadata": {},
     "output_type": "execute_result"
    }
   ],
   "source": [
    "m2 = 'np.log(Crime) ~ Unemployment + EDU + EDUU + np.log(pop) + C(Death) + C(gun) + C(Asia)+C(South_America) + C(North_America) + C(Africa) + C(Oceania)'\n",
    "m2 = smf.ols(m2, data).fit()\n",
    "m2.summary()"
   ]
  },
  {
   "cell_type": "code",
   "execution_count": 19,
   "metadata": {},
   "outputs": [
    {
     "data": {
      "text/plain": [
       "<class 'statsmodels.stats.contrast.ContrastResults'>\n",
       "<F test: F=array([[0.05746945]]), p=0.9441815804287691, df_denom=101, df_num=2>"
      ]
     },
     "execution_count": 19,
     "metadata": {},
     "output_type": "execute_result"
    }
   ],
   "source": [
    "hip2 = '(Alco = 0), (C(gun)[T.1] = 0)'\n",
    "\n",
    "f_test2 = m1.f_test(hip2)\n",
    "f_test2"
   ]
  },
  {
   "cell_type": "markdown",
   "metadata": {},
   "source": [
    "Kolejnym kandydatem do usunięcia jest zmienna gun - obrazująca czy w danym państwie broń jest ogólnodostępna - ponieważ jej p-value jest największe ze wszystkich pozostałych zmiennych. Liczymy statystykę testową w celu przetestowania hipotezy zerowej o łącznej nieistotności zmiennych. P-value statystyki testowej jest większe od 0.05, więc nie mamy podstaw do odrzucenia hipotezy zerowej - zmienne są łącznie nieistotne."
   ]
  },
  {
   "cell_type": "markdown",
   "metadata": {},
   "source": [
    "### 3 wersja modelu - Usuwam zmienną Alco"
   ]
  },
  {
   "cell_type": "code",
   "execution_count": 22,
   "metadata": {},
   "outputs": [
    {
     "data": {
      "text/html": [
       "<table class=\"simpletable\">\n",
       "<caption>OLS Regression Results</caption>\n",
       "<tr>\n",
       "  <th>Dep. Variable:</th>      <td>np.log(Crime)</td>  <th>  R-squared:         </th> <td>   0.453</td>\n",
       "</tr>\n",
       "<tr>\n",
       "  <th>Model:</th>                   <td>OLS</td>       <th>  Adj. R-squared:    </th> <td>   0.400</td>\n",
       "</tr>\n",
       "<tr>\n",
       "  <th>Method:</th>             <td>Least Squares</td>  <th>  F-statistic:       </th> <td>   8.527</td>\n",
       "</tr>\n",
       "<tr>\n",
       "  <th>Date:</th>             <td>Thu, 18 Nov 2021</td> <th>  Prob (F-statistic):</th> <td>5.30e-10</td>\n",
       "</tr>\n",
       "<tr>\n",
       "  <th>Time:</th>                 <td>18:28:09</td>     <th>  Log-Likelihood:    </th> <td> -8.8022</td>\n",
       "</tr>\n",
       "<tr>\n",
       "  <th>No. Observations:</th>      <td>   114</td>      <th>  AIC:               </th> <td>   39.60</td>\n",
       "</tr>\n",
       "<tr>\n",
       "  <th>Df Residuals:</th>          <td>   103</td>      <th>  BIC:               </th> <td>   69.70</td>\n",
       "</tr>\n",
       "<tr>\n",
       "  <th>Df Model:</th>              <td>    10</td>      <th>                     </th>     <td> </td>   \n",
       "</tr>\n",
       "<tr>\n",
       "  <th>Covariance Type:</th>      <td>nonrobust</td>    <th>                     </th>     <td> </td>   \n",
       "</tr>\n",
       "</table>\n",
       "<table class=\"simpletable\">\n",
       "<tr>\n",
       "            <td></td>               <th>coef</th>     <th>std err</th>      <th>t</th>      <th>P>|t|</th>  <th>[0.025</th>    <th>0.975]</th>  \n",
       "</tr>\n",
       "<tr>\n",
       "  <th>Intercept</th>             <td>    5.8332</td> <td>    0.923</td> <td>    6.320</td> <td> 0.000</td> <td>    4.003</td> <td>    7.664</td>\n",
       "</tr>\n",
       "<tr>\n",
       "  <th>C(Death)[T.1]</th>         <td>    0.0349</td> <td>    0.065</td> <td>    0.538</td> <td> 0.592</td> <td>   -0.094</td> <td>    0.163</td>\n",
       "</tr>\n",
       "<tr>\n",
       "  <th>C(Asia)[T.1]</th>          <td>   -0.0364</td> <td>    0.104</td> <td>   -0.351</td> <td> 0.726</td> <td>   -0.242</td> <td>    0.169</td>\n",
       "</tr>\n",
       "<tr>\n",
       "  <th>C(South_America)[T.1]</th> <td>    0.3165</td> <td>    0.118</td> <td>    2.691</td> <td> 0.008</td> <td>    0.083</td> <td>    0.550</td>\n",
       "</tr>\n",
       "<tr>\n",
       "  <th>C(North_America)[T.1]</th> <td>    0.2937</td> <td>    0.113</td> <td>    2.610</td> <td> 0.010</td> <td>    0.071</td> <td>    0.517</td>\n",
       "</tr>\n",
       "<tr>\n",
       "  <th>C(Africa)[T.1]</th>        <td>    0.0572</td> <td>    0.111</td> <td>    0.515</td> <td> 0.608</td> <td>   -0.163</td> <td>    0.278</td>\n",
       "</tr>\n",
       "<tr>\n",
       "  <th>C(Oceania)[T.1]</th>       <td>    0.3682</td> <td>    0.149</td> <td>    2.464</td> <td> 0.015</td> <td>    0.072</td> <td>    0.665</td>\n",
       "</tr>\n",
       "<tr>\n",
       "  <th>Unemployment</th>          <td>    0.0113</td> <td>    0.006</td> <td>    2.051</td> <td> 0.043</td> <td>    0.000</td> <td>    0.022</td>\n",
       "</tr>\n",
       "<tr>\n",
       "  <th>EDU</th>                   <td>   -2.5552</td> <td>    0.736</td> <td>   -3.470</td> <td> 0.001</td> <td>   -4.015</td> <td>   -1.095</td>\n",
       "</tr>\n",
       "<tr>\n",
       "  <th>EDUU</th>                  <td>   -0.6070</td> <td>    0.248</td> <td>   -2.448</td> <td> 0.016</td> <td>   -1.099</td> <td>   -0.115</td>\n",
       "</tr>\n",
       "<tr>\n",
       "  <th>np.log(pop)</th>           <td>    0.0294</td> <td>    0.017</td> <td>    1.712</td> <td> 0.090</td> <td>   -0.005</td> <td>    0.063</td>\n",
       "</tr>\n",
       "</table>\n",
       "<table class=\"simpletable\">\n",
       "<tr>\n",
       "  <th>Omnibus:</th>       <td>15.488</td> <th>  Durbin-Watson:     </th> <td>   0.748</td>\n",
       "</tr>\n",
       "<tr>\n",
       "  <th>Prob(Omnibus):</th> <td> 0.000</td> <th>  Jarque-Bera (JB):  </th> <td>  21.861</td>\n",
       "</tr>\n",
       "<tr>\n",
       "  <th>Skew:</th>          <td>-0.681</td> <th>  Prob(JB):          </th> <td>1.79e-05</td>\n",
       "</tr>\n",
       "<tr>\n",
       "  <th>Kurtosis:</th>      <td> 4.657</td> <th>  Cond. No.          </th> <td>    848.</td>\n",
       "</tr>\n",
       "</table><br/><br/>Notes:<br/>[1] Standard Errors assume that the covariance matrix of the errors is correctly specified."
      ],
      "text/plain": [
       "<class 'statsmodels.iolib.summary.Summary'>\n",
       "\"\"\"\n",
       "                            OLS Regression Results                            \n",
       "==============================================================================\n",
       "Dep. Variable:          np.log(Crime)   R-squared:                       0.453\n",
       "Model:                            OLS   Adj. R-squared:                  0.400\n",
       "Method:                 Least Squares   F-statistic:                     8.527\n",
       "Date:                Thu, 18 Nov 2021   Prob (F-statistic):           5.30e-10\n",
       "Time:                        18:28:09   Log-Likelihood:                -8.8022\n",
       "No. Observations:                 114   AIC:                             39.60\n",
       "Df Residuals:                     103   BIC:                             69.70\n",
       "Df Model:                          10                                         \n",
       "Covariance Type:            nonrobust                                         \n",
       "=========================================================================================\n",
       "                            coef    std err          t      P>|t|      [0.025      0.975]\n",
       "-----------------------------------------------------------------------------------------\n",
       "Intercept                 5.8332      0.923      6.320      0.000       4.003       7.664\n",
       "C(Death)[T.1]             0.0349      0.065      0.538      0.592      -0.094       0.163\n",
       "C(Asia)[T.1]             -0.0364      0.104     -0.351      0.726      -0.242       0.169\n",
       "C(South_America)[T.1]     0.3165      0.118      2.691      0.008       0.083       0.550\n",
       "C(North_America)[T.1]     0.2937      0.113      2.610      0.010       0.071       0.517\n",
       "C(Africa)[T.1]            0.0572      0.111      0.515      0.608      -0.163       0.278\n",
       "C(Oceania)[T.1]           0.3682      0.149      2.464      0.015       0.072       0.665\n",
       "Unemployment              0.0113      0.006      2.051      0.043       0.000       0.022\n",
       "EDU                      -2.5552      0.736     -3.470      0.001      -4.015      -1.095\n",
       "EDUU                     -0.6070      0.248     -2.448      0.016      -1.099      -0.115\n",
       "np.log(pop)               0.0294      0.017      1.712      0.090      -0.005       0.063\n",
       "==============================================================================\n",
       "Omnibus:                       15.488   Durbin-Watson:                   0.748\n",
       "Prob(Omnibus):                  0.000   Jarque-Bera (JB):               21.861\n",
       "Skew:                          -0.681   Prob(JB):                     1.79e-05\n",
       "Kurtosis:                       4.657   Cond. No.                         848.\n",
       "==============================================================================\n",
       "\n",
       "Notes:\n",
       "[1] Standard Errors assume that the covariance matrix of the errors is correctly specified.\n",
       "\"\"\""
      ]
     },
     "execution_count": 22,
     "metadata": {},
     "output_type": "execute_result"
    }
   ],
   "source": [
    "m3 = 'np.log(Crime) ~ Unemployment + EDU + EDUU + np.log(pop) + C(Death) + C(Asia)+C(South_America) + C(North_America) + C(Africa) + C(Oceania)'\n",
    "m3 = smf.ols(m3, data).fit()\n",
    "m3.summary()"
   ]
  },
  {
   "cell_type": "code",
   "execution_count": 23,
   "metadata": {},
   "outputs": [
    {
     "data": {
      "text/plain": [
       "<class 'statsmodels.stats.contrast.ContrastResults'>\n",
       "<F test: F=array([[0.07865386]]), p=0.9714323380122161, df_denom=101, df_num=3>"
      ]
     },
     "execution_count": 23,
     "metadata": {},
     "output_type": "execute_result"
    }
   ],
   "source": [
    "hip3 = '(Alco = 0), (C(gun)[T.1] = 0), (C(Asia)[T.1] =0)'\n",
    "\n",
    "f_test3 = m1.f_test(hip3)\n",
    "f_test3"
   ]
  },
  {
   "cell_type": "markdown",
   "metadata": {},
   "source": [
    "Kolejnym kandydatem do usunięcia jest zmienna Asia - 1 jeśli państwo należy do Azji, 0 w przeciwnym wypadku - ponieważ jej p-value jest największe ze wszystkich pozostałych zmiennych. Liczymy statystykę testową w celu przetestowania hipotezy zerowej o łącznej nieistotności zmiennych. P-value statystyki testowej jest większe od 0.05, więc nie mamy podstaw do odrzucenia hipotezy zerowej - zmienne są łącznie nieistotne."
   ]
  },
  {
   "cell_type": "markdown",
   "metadata": {},
   "source": [
    "### 4 wersja modelu - Usuwam zmienną \"C(Asia)"
   ]
  },
  {
   "cell_type": "code",
   "execution_count": 24,
   "metadata": {},
   "outputs": [
    {
     "data": {
      "text/html": [
       "<table class=\"simpletable\">\n",
       "<caption>OLS Regression Results</caption>\n",
       "<tr>\n",
       "  <th>Dep. Variable:</th>      <td>np.log(Crime)</td>  <th>  R-squared:         </th> <td>   0.452</td>\n",
       "</tr>\n",
       "<tr>\n",
       "  <th>Model:</th>                   <td>OLS</td>       <th>  Adj. R-squared:    </th> <td>   0.405</td>\n",
       "</tr>\n",
       "<tr>\n",
       "  <th>Method:</th>             <td>Least Squares</td>  <th>  F-statistic:       </th> <td>   9.541</td>\n",
       "</tr>\n",
       "<tr>\n",
       "  <th>Date:</th>             <td>Thu, 18 Nov 2021</td> <th>  Prob (F-statistic):</th> <td>1.74e-10</td>\n",
       "</tr>\n",
       "<tr>\n",
       "  <th>Time:</th>                 <td>18:28:51</td>     <th>  Log-Likelihood:    </th> <td> -8.8704</td>\n",
       "</tr>\n",
       "<tr>\n",
       "  <th>No. Observations:</th>      <td>   114</td>      <th>  AIC:               </th> <td>   37.74</td>\n",
       "</tr>\n",
       "<tr>\n",
       "  <th>Df Residuals:</th>          <td>   104</td>      <th>  BIC:               </th> <td>   65.10</td>\n",
       "</tr>\n",
       "<tr>\n",
       "  <th>Df Model:</th>              <td>     9</td>      <th>                     </th>     <td> </td>   \n",
       "</tr>\n",
       "<tr>\n",
       "  <th>Covariance Type:</th>      <td>nonrobust</td>    <th>                     </th>     <td> </td>   \n",
       "</tr>\n",
       "</table>\n",
       "<table class=\"simpletable\">\n",
       "<tr>\n",
       "            <td></td>               <th>coef</th>     <th>std err</th>      <th>t</th>      <th>P>|t|</th>  <th>[0.025</th>    <th>0.975]</th>  \n",
       "</tr>\n",
       "<tr>\n",
       "  <th>Intercept</th>             <td>    5.6867</td> <td>    0.820</td> <td>    6.937</td> <td> 0.000</td> <td>    4.061</td> <td>    7.312</td>\n",
       "</tr>\n",
       "<tr>\n",
       "  <th>C(Death)[T.1]</th>         <td>    0.0253</td> <td>    0.059</td> <td>    0.432</td> <td> 0.667</td> <td>   -0.091</td> <td>    0.142</td>\n",
       "</tr>\n",
       "<tr>\n",
       "  <th>C(South_America)[T.1]</th> <td>    0.3385</td> <td>    0.099</td> <td>    3.413</td> <td> 0.001</td> <td>    0.142</td> <td>    0.535</td>\n",
       "</tr>\n",
       "<tr>\n",
       "  <th>C(North_America)[T.1]</th> <td>    0.3182</td> <td>    0.088</td> <td>    3.615</td> <td> 0.000</td> <td>    0.144</td> <td>    0.493</td>\n",
       "</tr>\n",
       "<tr>\n",
       "  <th>C(Africa)[T.1]</th>        <td>    0.0827</td> <td>    0.084</td> <td>    0.985</td> <td> 0.327</td> <td>   -0.084</td> <td>    0.249</td>\n",
       "</tr>\n",
       "<tr>\n",
       "  <th>C(Oceania)[T.1]</th>       <td>    0.3803</td> <td>    0.145</td> <td>    2.626</td> <td> 0.010</td> <td>    0.093</td> <td>    0.667</td>\n",
       "</tr>\n",
       "<tr>\n",
       "  <th>Unemployment</th>          <td>    0.0120</td> <td>    0.005</td> <td>    2.288</td> <td> 0.024</td> <td>    0.002</td> <td>    0.022</td>\n",
       "</tr>\n",
       "<tr>\n",
       "  <th>EDU</th>                   <td>   -2.4270</td> <td>    0.637</td> <td>   -3.812</td> <td> 0.000</td> <td>   -3.690</td> <td>   -1.164</td>\n",
       "</tr>\n",
       "<tr>\n",
       "  <th>EDUU</th>                  <td>   -0.5739</td> <td>    0.228</td> <td>   -2.514</td> <td> 0.013</td> <td>   -1.027</td> <td>   -0.121</td>\n",
       "</tr>\n",
       "<tr>\n",
       "  <th>np.log(pop)</th>           <td>    0.0285</td> <td>    0.017</td> <td>    1.686</td> <td> 0.095</td> <td>   -0.005</td> <td>    0.062</td>\n",
       "</tr>\n",
       "</table>\n",
       "<table class=\"simpletable\">\n",
       "<tr>\n",
       "  <th>Omnibus:</th>       <td>16.399</td> <th>  Durbin-Watson:     </th> <td>   0.732</td>\n",
       "</tr>\n",
       "<tr>\n",
       "  <th>Prob(Omnibus):</th> <td> 0.000</td> <th>  Jarque-Bera (JB):  </th> <td>  22.991</td>\n",
       "</tr>\n",
       "<tr>\n",
       "  <th>Skew:</th>          <td>-0.723</td> <th>  Prob(JB):          </th> <td>1.02e-05</td>\n",
       "</tr>\n",
       "<tr>\n",
       "  <th>Kurtosis:</th>      <td> 4.658</td> <th>  Cond. No.          </th> <td>    745.</td>\n",
       "</tr>\n",
       "</table><br/><br/>Notes:<br/>[1] Standard Errors assume that the covariance matrix of the errors is correctly specified."
      ],
      "text/plain": [
       "<class 'statsmodels.iolib.summary.Summary'>\n",
       "\"\"\"\n",
       "                            OLS Regression Results                            \n",
       "==============================================================================\n",
       "Dep. Variable:          np.log(Crime)   R-squared:                       0.452\n",
       "Model:                            OLS   Adj. R-squared:                  0.405\n",
       "Method:                 Least Squares   F-statistic:                     9.541\n",
       "Date:                Thu, 18 Nov 2021   Prob (F-statistic):           1.74e-10\n",
       "Time:                        18:28:51   Log-Likelihood:                -8.8704\n",
       "No. Observations:                 114   AIC:                             37.74\n",
       "Df Residuals:                     104   BIC:                             65.10\n",
       "Df Model:                           9                                         \n",
       "Covariance Type:            nonrobust                                         \n",
       "=========================================================================================\n",
       "                            coef    std err          t      P>|t|      [0.025      0.975]\n",
       "-----------------------------------------------------------------------------------------\n",
       "Intercept                 5.6867      0.820      6.937      0.000       4.061       7.312\n",
       "C(Death)[T.1]             0.0253      0.059      0.432      0.667      -0.091       0.142\n",
       "C(South_America)[T.1]     0.3385      0.099      3.413      0.001       0.142       0.535\n",
       "C(North_America)[T.1]     0.3182      0.088      3.615      0.000       0.144       0.493\n",
       "C(Africa)[T.1]            0.0827      0.084      0.985      0.327      -0.084       0.249\n",
       "C(Oceania)[T.1]           0.3803      0.145      2.626      0.010       0.093       0.667\n",
       "Unemployment              0.0120      0.005      2.288      0.024       0.002       0.022\n",
       "EDU                      -2.4270      0.637     -3.812      0.000      -3.690      -1.164\n",
       "EDUU                     -0.5739      0.228     -2.514      0.013      -1.027      -0.121\n",
       "np.log(pop)               0.0285      0.017      1.686      0.095      -0.005       0.062\n",
       "==============================================================================\n",
       "Omnibus:                       16.399   Durbin-Watson:                   0.732\n",
       "Prob(Omnibus):                  0.000   Jarque-Bera (JB):               22.991\n",
       "Skew:                          -0.723   Prob(JB):                     1.02e-05\n",
       "Kurtosis:                       4.658   Cond. No.                         745.\n",
       "==============================================================================\n",
       "\n",
       "Notes:\n",
       "[1] Standard Errors assume that the covariance matrix of the errors is correctly specified.\n",
       "\"\"\""
      ]
     },
     "execution_count": 24,
     "metadata": {},
     "output_type": "execute_result"
    }
   ],
   "source": [
    "m4 = 'np.log(Crime) ~ Unemployment + EDU + EDUU + np.log(pop) + C(Death)+C(South_America) + C(North_America) + C(Africa) + C(Oceania)'\n",
    "m4 = smf.ols(m4, data).fit()\n",
    "m4.summary()"
   ]
  },
  {
   "cell_type": "code",
   "execution_count": 26,
   "metadata": {},
   "outputs": [
    {
     "data": {
      "text/plain": [
       "<class 'statsmodels.stats.contrast.ContrastResults'>\n",
       "<F test: F=array([[0.10444427]]), p=0.9807199016306589, df_denom=101, df_num=4>"
      ]
     },
     "execution_count": 26,
     "metadata": {},
     "output_type": "execute_result"
    }
   ],
   "source": [
    "hip4 = '(Alco = 0), (C(gun)[T.1] = 0), (C(Death)[T.1] = 0), (C(Asia)[T.1] = 0)'\n",
    "\n",
    "f_test4 = m1.f_test(hip4)\n",
    "f_test4"
   ]
  },
  {
   "cell_type": "markdown",
   "metadata": {},
   "source": [
    "### 5 wersja modelu - Usuwam zmienną \"C(Death)\""
   ]
  },
  {
   "cell_type": "code",
   "execution_count": 28,
   "metadata": {},
   "outputs": [
    {
     "data": {
      "text/html": [
       "<table class=\"simpletable\">\n",
       "<caption>OLS Regression Results</caption>\n",
       "<tr>\n",
       "  <th>Dep. Variable:</th>      <td>np.log(Crime)</td>  <th>  R-squared:         </th> <td>   0.451</td>\n",
       "</tr>\n",
       "<tr>\n",
       "  <th>Model:</th>                   <td>OLS</td>       <th>  Adj. R-squared:    </th> <td>   0.409</td>\n",
       "</tr>\n",
       "<tr>\n",
       "  <th>Method:</th>             <td>Least Squares</td>  <th>  F-statistic:       </th> <td>   10.79</td>\n",
       "</tr>\n",
       "<tr>\n",
       "  <th>Date:</th>             <td>Thu, 18 Nov 2021</td> <th>  Prob (F-statistic):</th> <td>5.50e-11</td>\n",
       "</tr>\n",
       "<tr>\n",
       "  <th>Time:</th>                 <td>18:30:39</td>     <th>  Log-Likelihood:    </th> <td> -8.9727</td>\n",
       "</tr>\n",
       "<tr>\n",
       "  <th>No. Observations:</th>      <td>   114</td>      <th>  AIC:               </th> <td>   35.95</td>\n",
       "</tr>\n",
       "<tr>\n",
       "  <th>Df Residuals:</th>          <td>   105</td>      <th>  BIC:               </th> <td>   60.57</td>\n",
       "</tr>\n",
       "<tr>\n",
       "  <th>Df Model:</th>              <td>     8</td>      <th>                     </th>     <td> </td>   \n",
       "</tr>\n",
       "<tr>\n",
       "  <th>Covariance Type:</th>      <td>nonrobust</td>    <th>                     </th>     <td> </td>   \n",
       "</tr>\n",
       "</table>\n",
       "<table class=\"simpletable\">\n",
       "<tr>\n",
       "            <td></td>               <th>coef</th>     <th>std err</th>      <th>t</th>      <th>P>|t|</th>  <th>[0.025</th>    <th>0.975]</th>  \n",
       "</tr>\n",
       "<tr>\n",
       "  <th>Intercept</th>             <td>    5.7245</td> <td>    0.812</td> <td>    7.050</td> <td> 0.000</td> <td>    4.115</td> <td>    7.334</td>\n",
       "</tr>\n",
       "<tr>\n",
       "  <th>C(South_America)[T.1]</th> <td>    0.3369</td> <td>    0.099</td> <td>    3.413</td> <td> 0.001</td> <td>    0.141</td> <td>    0.533</td>\n",
       "</tr>\n",
       "<tr>\n",
       "  <th>C(North_America)[T.1]</th> <td>    0.3194</td> <td>    0.088</td> <td>    3.645</td> <td> 0.000</td> <td>    0.146</td> <td>    0.493</td>\n",
       "</tr>\n",
       "<tr>\n",
       "  <th>C(Africa)[T.1]</th>        <td>    0.0805</td> <td>    0.083</td> <td>    0.965</td> <td> 0.337</td> <td>   -0.085</td> <td>    0.246</td>\n",
       "</tr>\n",
       "<tr>\n",
       "  <th>C(Oceania)[T.1]</th>       <td>    0.3727</td> <td>    0.143</td> <td>    2.603</td> <td> 0.011</td> <td>    0.089</td> <td>    0.657</td>\n",
       "</tr>\n",
       "<tr>\n",
       "  <th>Unemployment</th>          <td>    0.0117</td> <td>    0.005</td> <td>    2.259</td> <td> 0.026</td> <td>    0.001</td> <td>    0.022</td>\n",
       "</tr>\n",
       "<tr>\n",
       "  <th>EDU</th>                   <td>   -2.4678</td> <td>    0.627</td> <td>   -3.934</td> <td> 0.000</td> <td>   -3.711</td> <td>   -1.224</td>\n",
       "</tr>\n",
       "<tr>\n",
       "  <th>EDUU</th>                  <td>   -0.5815</td> <td>    0.227</td> <td>   -2.564</td> <td> 0.012</td> <td>   -1.031</td> <td>   -0.132</td>\n",
       "</tr>\n",
       "<tr>\n",
       "  <th>np.log(pop)</th>           <td>    0.0294</td> <td>    0.017</td> <td>    1.754</td> <td> 0.082</td> <td>   -0.004</td> <td>    0.063</td>\n",
       "</tr>\n",
       "</table>\n",
       "<table class=\"simpletable\">\n",
       "<tr>\n",
       "  <th>Omnibus:</th>       <td>16.641</td> <th>  Durbin-Watson:     </th> <td>   0.737</td>\n",
       "</tr>\n",
       "<tr>\n",
       "  <th>Prob(Omnibus):</th> <td> 0.000</td> <th>  Jarque-Bera (JB):  </th> <td>  23.632</td>\n",
       "</tr>\n",
       "<tr>\n",
       "  <th>Skew:</th>          <td>-0.727</td> <th>  Prob(JB):          </th> <td>7.39e-06</td>\n",
       "</tr>\n",
       "<tr>\n",
       "  <th>Kurtosis:</th>      <td> 4.692</td> <th>  Cond. No.          </th> <td>    740.</td>\n",
       "</tr>\n",
       "</table><br/><br/>Notes:<br/>[1] Standard Errors assume that the covariance matrix of the errors is correctly specified."
      ],
      "text/plain": [
       "<class 'statsmodels.iolib.summary.Summary'>\n",
       "\"\"\"\n",
       "                            OLS Regression Results                            \n",
       "==============================================================================\n",
       "Dep. Variable:          np.log(Crime)   R-squared:                       0.451\n",
       "Model:                            OLS   Adj. R-squared:                  0.409\n",
       "Method:                 Least Squares   F-statistic:                     10.79\n",
       "Date:                Thu, 18 Nov 2021   Prob (F-statistic):           5.50e-11\n",
       "Time:                        18:30:39   Log-Likelihood:                -8.9727\n",
       "No. Observations:                 114   AIC:                             35.95\n",
       "Df Residuals:                     105   BIC:                             60.57\n",
       "Df Model:                           8                                         \n",
       "Covariance Type:            nonrobust                                         \n",
       "=========================================================================================\n",
       "                            coef    std err          t      P>|t|      [0.025      0.975]\n",
       "-----------------------------------------------------------------------------------------\n",
       "Intercept                 5.7245      0.812      7.050      0.000       4.115       7.334\n",
       "C(South_America)[T.1]     0.3369      0.099      3.413      0.001       0.141       0.533\n",
       "C(North_America)[T.1]     0.3194      0.088      3.645      0.000       0.146       0.493\n",
       "C(Africa)[T.1]            0.0805      0.083      0.965      0.337      -0.085       0.246\n",
       "C(Oceania)[T.1]           0.3727      0.143      2.603      0.011       0.089       0.657\n",
       "Unemployment              0.0117      0.005      2.259      0.026       0.001       0.022\n",
       "EDU                      -2.4678      0.627     -3.934      0.000      -3.711      -1.224\n",
       "EDUU                     -0.5815      0.227     -2.564      0.012      -1.031      -0.132\n",
       "np.log(pop)               0.0294      0.017      1.754      0.082      -0.004       0.063\n",
       "==============================================================================\n",
       "Omnibus:                       16.641   Durbin-Watson:                   0.737\n",
       "Prob(Omnibus):                  0.000   Jarque-Bera (JB):               23.632\n",
       "Skew:                          -0.727   Prob(JB):                     7.39e-06\n",
       "Kurtosis:                       4.692   Cond. No.                         740.\n",
       "==============================================================================\n",
       "\n",
       "Notes:\n",
       "[1] Standard Errors assume that the covariance matrix of the errors is correctly specified.\n",
       "\"\"\""
      ]
     },
     "execution_count": 28,
     "metadata": {},
     "output_type": "execute_result"
    }
   ],
   "source": [
    "m5 = 'np.log(Crime) ~ Unemployment + EDU + EDUU + np.log(pop) + C(South_America) + C(North_America) + C(Africa) + C(Oceania)'\n",
    "m5 = smf.ols(m5, data).fit()\n",
    "m5.summary()"
   ]
  },
  {
   "cell_type": "code",
   "execution_count": 29,
   "metadata": {},
   "outputs": [
    {
     "data": {
      "text/plain": [
       "<class 'statsmodels.stats.contrast.ContrastResults'>\n",
       "<F test: F=array([[0.26338373]]), p=0.9320549655224923, df_denom=101, df_num=5>"
      ]
     },
     "execution_count": 29,
     "metadata": {},
     "output_type": "execute_result"
    }
   ],
   "source": [
    "hip5 = '(Alco = 0), (C(gun)[T.1] = 0), (C(Death)[T.1] =0), (C(Asia)[T.1] = 0), (C(Africa)[T.1] = 0)'\n",
    "\n",
    "f_test5 = m1.f_test(hip5)\n",
    "f_test5"
   ]
  },
  {
   "cell_type": "markdown",
   "metadata": {},
   "source": [
    "Kolejnym kandydatem do usunięcia jest zmienna Africa - 1 jeśli dane państwo jest w Afryce, 0 jeśli na innym kontynencie - ponieważ jej p-value jest największe ze wszystkich pozostałych zmiennych. Liczymy statystykę testową w celu przetestowania hipotezy zerowej o łącznej nieistotności zmiennych. P-value statystyki testowej jest większe od 0.05, więc nie mamy podstaw do odrzucenia hipotezy zerowej - zmienne są łącznie nieistotne"
   ]
  },
  {
   "cell_type": "markdown",
   "metadata": {},
   "source": [
    "### 6 wersja modelu - Usuwam zmienną \"C(Africa)\""
   ]
  },
  {
   "cell_type": "code",
   "execution_count": 30,
   "metadata": {},
   "outputs": [
    {
     "data": {
      "text/html": [
       "<table class=\"simpletable\">\n",
       "<caption>OLS Regression Results</caption>\n",
       "<tr>\n",
       "  <th>Dep. Variable:</th>      <td>np.log(Crime)</td>  <th>  R-squared:         </th> <td>   0.446</td>\n",
       "</tr>\n",
       "<tr>\n",
       "  <th>Model:</th>                   <td>OLS</td>       <th>  Adj. R-squared:    </th> <td>   0.410</td>\n",
       "</tr>\n",
       "<tr>\n",
       "  <th>Method:</th>             <td>Least Squares</td>  <th>  F-statistic:       </th> <td>   12.21</td>\n",
       "</tr>\n",
       "<tr>\n",
       "  <th>Date:</th>             <td>Thu, 18 Nov 2021</td> <th>  Prob (F-statistic):</th> <td>2.31e-11</td>\n",
       "</tr>\n",
       "<tr>\n",
       "  <th>Time:</th>                 <td>18:31:26</td>     <th>  Log-Likelihood:    </th> <td> -9.4758</td>\n",
       "</tr>\n",
       "<tr>\n",
       "  <th>No. Observations:</th>      <td>   114</td>      <th>  AIC:               </th> <td>   34.95</td>\n",
       "</tr>\n",
       "<tr>\n",
       "  <th>Df Residuals:</th>          <td>   106</td>      <th>  BIC:               </th> <td>   56.84</td>\n",
       "</tr>\n",
       "<tr>\n",
       "  <th>Df Model:</th>              <td>     7</td>      <th>                     </th>     <td> </td>   \n",
       "</tr>\n",
       "<tr>\n",
       "  <th>Covariance Type:</th>      <td>nonrobust</td>    <th>                     </th>     <td> </td>   \n",
       "</tr>\n",
       "</table>\n",
       "<table class=\"simpletable\">\n",
       "<tr>\n",
       "            <td></td>               <th>coef</th>     <th>std err</th>      <th>t</th>      <th>P>|t|</th>  <th>[0.025</th>    <th>0.975]</th>  \n",
       "</tr>\n",
       "<tr>\n",
       "  <th>Intercept</th>             <td>    5.7975</td> <td>    0.808</td> <td>    7.174</td> <td> 0.000</td> <td>    4.195</td> <td>    7.400</td>\n",
       "</tr>\n",
       "<tr>\n",
       "  <th>C(South_America)[T.1]</th> <td>    0.3215</td> <td>    0.097</td> <td>    3.301</td> <td> 0.001</td> <td>    0.128</td> <td>    0.515</td>\n",
       "</tr>\n",
       "<tr>\n",
       "  <th>C(North_America)[T.1]</th> <td>    0.2958</td> <td>    0.084</td> <td>    3.517</td> <td> 0.001</td> <td>    0.129</td> <td>    0.463</td>\n",
       "</tr>\n",
       "<tr>\n",
       "  <th>C(Oceania)[T.1]</th>       <td>    0.3650</td> <td>    0.143</td> <td>    2.554</td> <td> 0.012</td> <td>    0.082</td> <td>    0.648</td>\n",
       "</tr>\n",
       "<tr>\n",
       "  <th>Unemployment</th>          <td>    0.0130</td> <td>    0.005</td> <td>    2.617</td> <td> 0.010</td> <td>    0.003</td> <td>    0.023</td>\n",
       "</tr>\n",
       "<tr>\n",
       "  <th>EDU</th>                   <td>   -2.5667</td> <td>    0.619</td> <td>   -4.149</td> <td> 0.000</td> <td>   -3.793</td> <td>   -1.340</td>\n",
       "</tr>\n",
       "<tr>\n",
       "  <th>EDUU</th>                  <td>   -0.5788</td> <td>    0.227</td> <td>   -2.553</td> <td> 0.012</td> <td>   -1.028</td> <td>   -0.129</td>\n",
       "</tr>\n",
       "<tr>\n",
       "  <th>np.log(pop)</th>           <td>    0.0293</td> <td>    0.017</td> <td>    1.753</td> <td> 0.083</td> <td>   -0.004</td> <td>    0.062</td>\n",
       "</tr>\n",
       "</table>\n",
       "<table class=\"simpletable\">\n",
       "<tr>\n",
       "  <th>Omnibus:</th>       <td>15.050</td> <th>  Durbin-Watson:     </th> <td>   0.747</td>\n",
       "</tr>\n",
       "<tr>\n",
       "  <th>Prob(Omnibus):</th> <td> 0.001</td> <th>  Jarque-Bera (JB):  </th> <td>  19.804</td>\n",
       "</tr>\n",
       "<tr>\n",
       "  <th>Skew:</th>          <td>-0.699</td> <th>  Prob(JB):          </th> <td>5.01e-05</td>\n",
       "</tr>\n",
       "<tr>\n",
       "  <th>Kurtosis:</th>      <td> 4.489</td> <th>  Cond. No.          </th> <td>    735.</td>\n",
       "</tr>\n",
       "</table><br/><br/>Notes:<br/>[1] Standard Errors assume that the covariance matrix of the errors is correctly specified."
      ],
      "text/plain": [
       "<class 'statsmodels.iolib.summary.Summary'>\n",
       "\"\"\"\n",
       "                            OLS Regression Results                            \n",
       "==============================================================================\n",
       "Dep. Variable:          np.log(Crime)   R-squared:                       0.446\n",
       "Model:                            OLS   Adj. R-squared:                  0.410\n",
       "Method:                 Least Squares   F-statistic:                     12.21\n",
       "Date:                Thu, 18 Nov 2021   Prob (F-statistic):           2.31e-11\n",
       "Time:                        18:31:26   Log-Likelihood:                -9.4758\n",
       "No. Observations:                 114   AIC:                             34.95\n",
       "Df Residuals:                     106   BIC:                             56.84\n",
       "Df Model:                           7                                         \n",
       "Covariance Type:            nonrobust                                         \n",
       "=========================================================================================\n",
       "                            coef    std err          t      P>|t|      [0.025      0.975]\n",
       "-----------------------------------------------------------------------------------------\n",
       "Intercept                 5.7975      0.808      7.174      0.000       4.195       7.400\n",
       "C(South_America)[T.1]     0.3215      0.097      3.301      0.001       0.128       0.515\n",
       "C(North_America)[T.1]     0.2958      0.084      3.517      0.001       0.129       0.463\n",
       "C(Oceania)[T.1]           0.3650      0.143      2.554      0.012       0.082       0.648\n",
       "Unemployment              0.0130      0.005      2.617      0.010       0.003       0.023\n",
       "EDU                      -2.5667      0.619     -4.149      0.000      -3.793      -1.340\n",
       "EDUU                     -0.5788      0.227     -2.553      0.012      -1.028      -0.129\n",
       "np.log(pop)               0.0293      0.017      1.753      0.083      -0.004       0.062\n",
       "==============================================================================\n",
       "Omnibus:                       15.050   Durbin-Watson:                   0.747\n",
       "Prob(Omnibus):                  0.001   Jarque-Bera (JB):               19.804\n",
       "Skew:                          -0.699   Prob(JB):                     5.01e-05\n",
       "Kurtosis:                       4.489   Cond. No.                         735.\n",
       "==============================================================================\n",
       "\n",
       "Notes:\n",
       "[1] Standard Errors assume that the covariance matrix of the errors is correctly specified.\n",
       "\"\"\""
      ]
     },
     "execution_count": 30,
     "metadata": {},
     "output_type": "execute_result"
    }
   ],
   "source": [
    "m6 = 'np.log(Crime) ~ Unemployment + EDU + EDUU + np.log(pop) + C(South_America) + C(North_America) + C(Oceania)'\n",
    "m6 = smf.ols(m6, data).fit()\n",
    "m6.summary()"
   ]
  },
  {
   "cell_type": "code",
   "execution_count": 32,
   "metadata": {},
   "outputs": [
    {
     "data": {
      "text/plain": [
       "<class 'statsmodels.stats.contrast.ContrastResults'>\n",
       "<F test: F=array([[0.7135775]]), p=0.6394602725613692, df_denom=101, df_num=6>"
      ]
     },
     "execution_count": 32,
     "metadata": {},
     "output_type": "execute_result"
    }
   ],
   "source": [
    "hip6 = '(Alco = 0), (C(gun)[T.1] = 0), (C(Death)[T.1] =0), (C(Asia)[T.1] = 0), (C(Africa)[T.1] = 0), (np.log(pop) = 0)'\n",
    "\n",
    "f_test6 = m1.f_test(hip6)\n",
    "f_test6"
   ]
  },
  {
   "cell_type": "markdown",
   "metadata": {},
   "source": [
    "Kolejnym kandydatem do usunięcia jest zmienna log(pop) - logarytm z populacji kraju - ponieważ jej p-value jest największe ze wszystkich pozostałych zmiennych. Liczymy statystykę testową w celu przetestowania hipotezy zerowej o łącznej nieistotności zmiennych. P-value statystyki testowej jest większe od 0.05, więc nie mamy podstaw do odrzucenia hipotezy zerowej - zmienne są łącznie nieistotne"
   ]
  },
  {
   "cell_type": "markdown",
   "metadata": {},
   "source": [
    "### 7 wersja modelu - Usuwam zmienną \"np.log(pop)\""
   ]
  },
  {
   "cell_type": "code",
   "execution_count": 34,
   "metadata": {},
   "outputs": [
    {
     "data": {
      "text/html": [
       "<table class=\"simpletable\">\n",
       "<caption>OLS Regression Results</caption>\n",
       "<tr>\n",
       "  <th>Dep. Variable:</th>      <td>np.log(Crime)</td>  <th>  R-squared:         </th> <td>   0.430</td>\n",
       "</tr>\n",
       "<tr>\n",
       "  <th>Model:</th>                   <td>OLS</td>       <th>  Adj. R-squared:    </th> <td>   0.398</td>\n",
       "</tr>\n",
       "<tr>\n",
       "  <th>Method:</th>             <td>Least Squares</td>  <th>  F-statistic:       </th> <td>   13.47</td>\n",
       "</tr>\n",
       "<tr>\n",
       "  <th>Date:</th>             <td>Thu, 18 Nov 2021</td> <th>  Prob (F-statistic):</th> <td>2.47e-11</td>\n",
       "</tr>\n",
       "<tr>\n",
       "  <th>Time:</th>                 <td>18:32:21</td>     <th>  Log-Likelihood:    </th> <td> -11.104</td>\n",
       "</tr>\n",
       "<tr>\n",
       "  <th>No. Observations:</th>      <td>   114</td>      <th>  AIC:               </th> <td>   36.21</td>\n",
       "</tr>\n",
       "<tr>\n",
       "  <th>Df Residuals:</th>          <td>   107</td>      <th>  BIC:               </th> <td>   55.36</td>\n",
       "</tr>\n",
       "<tr>\n",
       "  <th>Df Model:</th>              <td>     6</td>      <th>                     </th>     <td> </td>   \n",
       "</tr>\n",
       "<tr>\n",
       "  <th>Covariance Type:</th>      <td>nonrobust</td>    <th>                     </th>     <td> </td>   \n",
       "</tr>\n",
       "</table>\n",
       "<table class=\"simpletable\">\n",
       "<tr>\n",
       "            <td></td>               <th>coef</th>     <th>std err</th>      <th>t</th>      <th>P>|t|</th>  <th>[0.025</th>    <th>0.975]</th>  \n",
       "</tr>\n",
       "<tr>\n",
       "  <th>Intercept</th>             <td>    6.2238</td> <td>    0.778</td> <td>    7.999</td> <td> 0.000</td> <td>    4.681</td> <td>    7.766</td>\n",
       "</tr>\n",
       "<tr>\n",
       "  <th>C(South_America)[T.1]</th> <td>    0.3307</td> <td>    0.098</td> <td>    3.369</td> <td> 0.001</td> <td>    0.136</td> <td>    0.525</td>\n",
       "</tr>\n",
       "<tr>\n",
       "  <th>C(North_America)[T.1]</th> <td>    0.2703</td> <td>    0.084</td> <td>    3.232</td> <td> 0.002</td> <td>    0.104</td> <td>    0.436</td>\n",
       "</tr>\n",
       "<tr>\n",
       "  <th>C(Oceania)[T.1]</th>       <td>    0.3378</td> <td>    0.143</td> <td>    2.355</td> <td> 0.020</td> <td>    0.053</td> <td>    0.622</td>\n",
       "</tr>\n",
       "<tr>\n",
       "  <th>Unemployment</th>          <td>    0.0118</td> <td>    0.005</td> <td>    2.383</td> <td> 0.019</td> <td>    0.002</td> <td>    0.022</td>\n",
       "</tr>\n",
       "<tr>\n",
       "  <th>EDU</th>                   <td>   -2.5591</td> <td>    0.625</td> <td>   -4.098</td> <td> 0.000</td> <td>   -3.797</td> <td>   -1.321</td>\n",
       "</tr>\n",
       "<tr>\n",
       "  <th>EDUU</th>                  <td>   -0.5416</td> <td>    0.228</td> <td>   -2.377</td> <td> 0.019</td> <td>   -0.993</td> <td>   -0.090</td>\n",
       "</tr>\n",
       "</table>\n",
       "<table class=\"simpletable\">\n",
       "<tr>\n",
       "  <th>Omnibus:</th>       <td>17.688</td> <th>  Durbin-Watson:     </th> <td>   0.707</td>\n",
       "</tr>\n",
       "<tr>\n",
       "  <th>Prob(Omnibus):</th> <td> 0.000</td> <th>  Jarque-Bera (JB):  </th> <td>  25.027</td>\n",
       "</tr>\n",
       "<tr>\n",
       "  <th>Skew:</th>          <td>-0.773</td> <th>  Prob(JB):          </th> <td>3.68e-06</td>\n",
       "</tr>\n",
       "<tr>\n",
       "  <th>Kurtosis:</th>      <td> 4.697</td> <th>  Cond. No.          </th> <td>    376.</td>\n",
       "</tr>\n",
       "</table><br/><br/>Notes:<br/>[1] Standard Errors assume that the covariance matrix of the errors is correctly specified."
      ],
      "text/plain": [
       "<class 'statsmodels.iolib.summary.Summary'>\n",
       "\"\"\"\n",
       "                            OLS Regression Results                            \n",
       "==============================================================================\n",
       "Dep. Variable:          np.log(Crime)   R-squared:                       0.430\n",
       "Model:                            OLS   Adj. R-squared:                  0.398\n",
       "Method:                 Least Squares   F-statistic:                     13.47\n",
       "Date:                Thu, 18 Nov 2021   Prob (F-statistic):           2.47e-11\n",
       "Time:                        18:32:21   Log-Likelihood:                -11.104\n",
       "No. Observations:                 114   AIC:                             36.21\n",
       "Df Residuals:                     107   BIC:                             55.36\n",
       "Df Model:                           6                                         \n",
       "Covariance Type:            nonrobust                                         \n",
       "=========================================================================================\n",
       "                            coef    std err          t      P>|t|      [0.025      0.975]\n",
       "-----------------------------------------------------------------------------------------\n",
       "Intercept                 6.2238      0.778      7.999      0.000       4.681       7.766\n",
       "C(South_America)[T.1]     0.3307      0.098      3.369      0.001       0.136       0.525\n",
       "C(North_America)[T.1]     0.2703      0.084      3.232      0.002       0.104       0.436\n",
       "C(Oceania)[T.1]           0.3378      0.143      2.355      0.020       0.053       0.622\n",
       "Unemployment              0.0118      0.005      2.383      0.019       0.002       0.022\n",
       "EDU                      -2.5591      0.625     -4.098      0.000      -3.797      -1.321\n",
       "EDUU                     -0.5416      0.228     -2.377      0.019      -0.993      -0.090\n",
       "==============================================================================\n",
       "Omnibus:                       17.688   Durbin-Watson:                   0.707\n",
       "Prob(Omnibus):                  0.000   Jarque-Bera (JB):               25.027\n",
       "Skew:                          -0.773   Prob(JB):                     3.68e-06\n",
       "Kurtosis:                       4.697   Cond. No.                         376.\n",
       "==============================================================================\n",
       "\n",
       "Notes:\n",
       "[1] Standard Errors assume that the covariance matrix of the errors is correctly specified.\n",
       "\"\"\""
      ]
     },
     "execution_count": 34,
     "metadata": {},
     "output_type": "execute_result"
    }
   ],
   "source": [
    "m7 = 'np.log(Crime) ~ Unemployment + EDU + EDUU + C(South_America) + C(North_America) + C(Oceania)'\n",
    "m7 = smf.ols(m7, data).fit()\n",
    "m7.summary()"
   ]
  },
  {
   "cell_type": "markdown",
   "metadata": {},
   "source": [
    "W modelu 7, na poziomie istotności 0.05 wszystkie zmienne są statystycznie istotne. Dlatego też zaprzestajemy dalszego usuwania zmiennych i poddajemy model 7 dalszej analizie."
   ]
  },
  {
   "cell_type": "markdown",
   "metadata": {},
   "source": [
    "#### Model 7 jest ostateczną wersją modelu."
   ]
  },
  {
   "cell_type": "markdown",
   "metadata": {},
   "source": [
    "### Proces selekcji modeli przedstawiony za pomocą biblioteki Stargazer"
   ]
  },
  {
   "cell_type": "code",
   "execution_count": 35,
   "metadata": {},
   "outputs": [
    {
     "data": {
      "text/html": [
       "<table style=\"text-align:center\"><tr><td colspan=\"8\" style=\"border-bottom: 1px solid black\"></td></tr><tr><td style=\"text-align:left\"></td><td colspan=\"7\"><em>Dependent variable:np.log(Crime)</em></td></tr><tr><td style=\"text-align:left\"></td><tr><td style=\"text-align:left\"></td><td>(1)</td><td>(2)</td><td>(3)</td><td>(4)</td><td>(5)</td><td>(6)</td><td>(7)</td></tr><tr><td colspan=\"8\" style=\"border-bottom: 1px solid black\"></td></tr><tr><td style=\"text-align:left\">Alco</td><td>-0.001<sup></sup></td><td></td><td></td><td></td><td></td><td></td><td></td></tr><tr><td style=\"text-align:left\"></td><td>(0.012)</td><td></td><td></td><td></td><td></td><td></td><td></td></tr><tr><td style=\"text-align:left\">C(Africa)[T.1]</td><td>0.046<sup></sup></td><td>0.049<sup></sup></td><td>0.057<sup></sup></td><td>0.083<sup></sup></td><td>0.080<sup></sup></td><td></td><td></td></tr><tr><td style=\"text-align:left\"></td><td>(0.120)</td><td>(0.114)</td><td>(0.111)</td><td>(0.084)</td><td>(0.083)</td><td></td><td></td></tr><tr><td style=\"text-align:left\">C(Asia)[T.1]</td><td>-0.049<sup></sup></td><td>-0.043<sup></sup></td><td>-0.036<sup></sup></td><td></td><td></td><td></td><td></td></tr><tr><td style=\"text-align:left\"></td><td>(0.127)</td><td>(0.106)</td><td>(0.104)</td><td></td><td></td><td></td><td></td></tr><tr><td style=\"text-align:left\">C(Death)[T.1]</td><td>0.032<sup></sup></td><td>0.033<sup></sup></td><td>0.035<sup></sup></td><td>0.025<sup></sup></td><td></td><td></td><td></td></tr><tr><td style=\"text-align:left\"></td><td>(0.066)</td><td>(0.065)</td><td>(0.065)</td><td>(0.059)</td><td></td><td></td><td></td></tr><tr><td style=\"text-align:left\">C(North_America)[T.1]</td><td>0.299<sup>**</sup></td><td>0.301<sup>**</sup></td><td>0.294<sup>**</sup></td><td>0.318<sup>***</sup></td><td>0.319<sup>***</sup></td><td>0.296<sup>***</sup></td><td>0.270<sup>***</sup></td></tr><tr><td style=\"text-align:left\"></td><td>(0.119)</td><td>(0.115)</td><td>(0.113)</td><td>(0.088)</td><td>(0.088)</td><td>(0.084)</td><td>(0.084)</td></tr><tr><td style=\"text-align:left\">C(Oceania)[T.1]</td><td>0.360<sup>**</sup></td><td>0.364<sup>**</sup></td><td>0.368<sup>**</sup></td><td>0.380<sup>***</sup></td><td>0.373<sup>**</sup></td><td>0.365<sup>**</sup></td><td>0.338<sup>**</sup></td></tr><tr><td style=\"text-align:left\"></td><td>(0.158)</td><td>(0.151)</td><td>(0.149)</td><td>(0.145)</td><td>(0.143)</td><td>(0.143)</td><td>(0.143)</td></tr><tr><td style=\"text-align:left\">C(South_America)[T.1]</td><td>0.308<sup>**</sup></td><td>0.311<sup>**</sup></td><td>0.317<sup>***</sup></td><td>0.338<sup>***</sup></td><td>0.337<sup>***</sup></td><td>0.321<sup>***</sup></td><td>0.331<sup>***</sup></td></tr><tr><td style=\"text-align:left\"></td><td>(0.124)</td><td>(0.119)</td><td>(0.118)</td><td>(0.099)</td><td>(0.099)</td><td>(0.097)</td><td>(0.098)</td></tr><tr><td style=\"text-align:left\">C(gun)[T.1]</td><td>-0.046<sup></sup></td><td>-0.044<sup></sup></td><td></td><td></td><td></td><td></td><td></td></tr><tr><td style=\"text-align:left\"></td><td>(0.137)</td><td>(0.134)</td><td></td><td></td><td></td><td></td><td></td></tr><tr><td style=\"text-align:left\">EDU</td><td>-2.574<sup>***</sup></td><td>-2.584<sup>***</sup></td><td>-2.555<sup>***</sup></td><td>-2.427<sup>***</sup></td><td>-2.468<sup>***</sup></td><td>-2.567<sup>***</sup></td><td>-2.559<sup>***</sup></td></tr><tr><td style=\"text-align:left\"></td><td>(0.757)</td><td>(0.745)</td><td>(0.736)</td><td>(0.637)</td><td>(0.627)</td><td>(0.619)</td><td>(0.625)</td></tr><tr><td style=\"text-align:left\">EDUU</td><td>-0.611<sup>**</sup></td><td>-0.611<sup>**</sup></td><td>-0.607<sup>**</sup></td><td>-0.574<sup>**</sup></td><td>-0.582<sup>**</sup></td><td>-0.579<sup>**</sup></td><td>-0.542<sup>**</sup></td></tr><tr><td style=\"text-align:left\"></td><td>(0.251)</td><td>(0.249)</td><td>(0.248)</td><td>(0.228)</td><td>(0.227)</td><td>(0.227)</td><td>(0.228)</td></tr><tr><td style=\"text-align:left\">Intercept</td><td>5.853<sup>***</sup></td><td>5.855<sup>***</sup></td><td>5.833<sup>***</sup></td><td>5.687<sup>***</sup></td><td>5.724<sup>***</sup></td><td>5.797<sup>***</sup></td><td>6.224<sup>***</sup></td></tr><tr><td style=\"text-align:left\"></td><td>(0.934)</td><td>(0.929)</td><td>(0.923)</td><td>(0.820)</td><td>(0.812)</td><td>(0.808)</td><td>(0.778)</td></tr><tr><td style=\"text-align:left\">Unemployment</td><td>0.011<sup>*</sup></td><td>0.011<sup>**</sup></td><td>0.011<sup>**</sup></td><td>0.012<sup>**</sup></td><td>0.012<sup>**</sup></td><td>0.013<sup>**</sup></td><td>0.012<sup>**</sup></td></tr><tr><td style=\"text-align:left\"></td><td>(0.006)</td><td>(0.006)</td><td>(0.006)</td><td>(0.005)</td><td>(0.005)</td><td>(0.005)</td><td>(0.005)</td></tr><tr><td style=\"text-align:left\">np.log(pop)</td><td>0.030<sup>*</sup></td><td>0.030<sup>*</sup></td><td>0.029<sup>*</sup></td><td>0.029<sup>*</sup></td><td>0.029<sup>*</sup></td><td>0.029<sup>*</sup></td><td></td></tr><tr><td style=\"text-align:left\"></td><td>(0.018)</td><td>(0.017)</td><td>(0.017)</td><td>(0.017)</td><td>(0.017)</td><td>(0.017)</td><td></td></tr><td colspan=\"8\" style=\"border-bottom: 1px solid black\"></td></tr><tr><td style=\"text-align: left\">Observations</td><td>114</td><td>114</td><td>114</td><td>114</td><td>114</td><td>114</td><td>114</td></tr><tr><td style=\"text-align: left\">R<sup>2</sup></td><td>0.454</td><td>0.453</td><td>0.453</td><td>0.452</td><td>0.451</td><td>0.446</td><td>0.430</td></tr><tr><td style=\"text-align: left\">Adjusted R<sup>2</sup></td><td>0.389</td><td>0.395</td><td>0.400</td><td>0.405</td><td>0.409</td><td>0.410</td><td>0.398</td></tr><tr><td style=\"text-align: left\">Residual Std. Error</td><td>0.278 (df=101)</td><td>0.276 (df=102)</td><td>0.275 (df=103)</td><td>0.274 (df=104)</td><td>0.273 (df=105)</td><td>0.273 (df=106)</td><td>0.275 (df=107)</td></tr><tr><td style=\"text-align: left\">F Statistic</td><td>6.985<sup>***</sup> (df=12; 101)</td><td>7.694<sup>***</sup> (df=11; 102)</td><td>8.527<sup>***</sup> (df=10; 103)</td><td>9.541<sup>***</sup> (df=9; 104)</td><td>10.794<sup>***</sup> (df=8; 105)</td><td>12.211<sup>***</sup> (df=7; 106)</td><td>13.473<sup>***</sup> (df=6; 107)</td></tr><tr><td colspan=\"8\" style=\"border-bottom: 1px solid black\"></td></tr><tr><td style=\"text-align: left\">Note:</td>\n",
       " <td colspan=\"7\" style=\"text-align: right\">\n",
       "  <sup>*</sup>p&lt;0.1;\n",
       "  <sup>**</sup>p&lt;0.05;\n",
       "  <sup>***</sup>p&lt;0.01\n",
       " </td></tr></table>"
      ],
      "text/plain": [
       "<stargazer.stargazer.Stargazer at 0x22dc7992460>"
      ]
     },
     "execution_count": 35,
     "metadata": {},
     "output_type": "execute_result"
    }
   ],
   "source": [
    "Stargazer([m1, m2, m3, m4, m5, m6, m7])"
   ]
  },
  {
   "cell_type": "markdown",
   "metadata": {},
   "source": [
    "## 3.1 Policz współczynik korelacji rang Spearmana pomiędzy wartościami dopasowanymi oraz resztami w modelu. W weryfykacji, któego założenia KMRL wyliczony współczynnik będzie pomocny? Jakiej warotści tego współcznnika należy oczekiwać w przypadku spełnienia hipotezy zerowej tego założenia?"
   ]
  },
  {
   "cell_type": "code",
   "execution_count": 36,
   "metadata": {},
   "outputs": [
    {
     "name": "stdout",
     "output_type": "stream",
     "text": [
      "\u001b[1mFitted values: \u001b[0m Country\n",
      "Guatemala       4.155741\n",
      "South Africa    3.927101\n",
      "Afghanistan     3.985053\n",
      "Guyana          4.260775\n",
      "Nigeria         3.919297\n",
      "                  ...   \n",
      "Qatar           3.739292\n",
      "Japan           3.471489\n",
      "Rwanda          3.882452\n",
      "Turkmenistan    3.801147\n",
      "Singapore       3.483254\n",
      "Length: 114, dtype: float64\n",
      "\u001b[1m\n",
      "Residuals:     \u001b[0m Country\n",
      "Guatemala       0.218002\n",
      "South Africa    0.435233\n",
      "Afghanistan     0.363158\n",
      "Guyana          0.081471\n",
      "Nigeria         0.419300\n",
      "                  ...   \n",
      "Qatar          -0.692867\n",
      "Japan          -0.463828\n",
      "Rwanda         -0.929627\n",
      "Turkmenistan   -0.918583\n",
      "Singapore      -0.615923\n",
      "Length: 114, dtype: float64\n"
     ]
    }
   ],
   "source": [
    "print (\"\\033[1m\" + 'Fitted values: ' + \"\\033[0m\", m7.fittedvalues)\n",
    "\n",
    "print (\"\\033[1m\" + '\\nResiduals:     ' + \"\\033[0m\" , m7.resid)"
   ]
  },
  {
   "cell_type": "markdown",
   "metadata": {},
   "source": [
    "## 3.1 Korelacja Spearmana"
   ]
  },
  {
   "cell_type": "code",
   "execution_count": 37,
   "metadata": {},
   "outputs": [],
   "source": [
    "from scipy.stats import spearmanr"
   ]
  },
  {
   "cell_type": "code",
   "execution_count": 38,
   "metadata": {},
   "outputs": [
    {
     "name": "stdout",
     "output_type": "stream",
     "text": [
      "Współczynnik korelacji Spearmana wynosi: -0.001\n",
      "Zmienne są nieskorelowane (brak podstaw do odrzucenia H0) - p_value = 0.991\n"
     ]
    }
   ],
   "source": [
    "coef, p_value = spearmanr(m7.fittedvalues, m7.resid)\n",
    "print('Współczynnik korelacji Spearmana wynosi: %.3f' % coef)\n",
    "alpha = 0.05\n",
    "if p_value > alpha:\n",
    "    print('Zmienne są nieskorelowane (brak podstaw do odrzucenia H0) - p_value = %.3f' % p_value)\n",
    "else:\n",
    "    print('Samples are correlated (reject H0) p_value = %.3f' % p_value)"
   ]
  },
  {
   "cell_type": "markdown",
   "metadata": {},
   "source": [
    "Współczynnik ten przyda się w weryfikacji założenia o braku autokorelacji składnika losowego. W takim przypadku należy spodziewać się wartości współczynnika równego 0."
   ]
  },
  {
   "cell_type": "markdown",
   "metadata": {},
   "source": [
    "## 3.2 Normalność rozkładu reszt"
   ]
  },
  {
   "cell_type": "code",
   "execution_count": 39,
   "metadata": {},
   "outputs": [
    {
     "data": {
      "image/png": "[encoded data removed]",
      "text/plain": [
       "<Figure size 576x360 with 1 Axes>"
      ]
     },
     "metadata": {},
     "output_type": "display_data"
    }
   ],
   "source": [
    "plt.rc('figure', figsize=(8,5))\n",
    "x = sns.histplot(m7.resid, log_scale=False, kde=True, edgecolor='black')\n",
    "x.set_title('Wykres rozkładu reszt', fontdict={'fontsize':20})\n",
    "plt.show()"
   ]
  },
  {
   "cell_type": "markdown",
   "metadata": {},
   "source": [
    "Na powyższym wykresie widzimy histogram oraz przybliżony wykres gęstości reszt modelu 7. Rozkład przypomina rozkład normalny, jednak widoczna na nim jest lekka lewostronna asymetria."
   ]
  },
  {
   "cell_type": "code",
   "execution_count": 40,
   "metadata": {},
   "outputs": [
    {
     "data": {
      "image/png": "[encoded data removed]",
      "text/plain": [
       "<Figure size 576x360 with 1 Axes>"
      ]
     },
     "metadata": {},
     "output_type": "display_data"
    }
   ],
   "source": [
    "sm.qqplot(m7.resid, line = 'r')\n",
    "plt.show()"
   ]
  },
  {
   "cell_type": "markdown",
   "metadata": {},
   "source": [
    "Na powyższym wykresie widzimy wykres porównujący kwantyle rozkładu normalnego (oś X) z kwantylami reszt modelu 7 (oś Y) - kwantyle szczególnie w ogonach rozkładu się nie pokrywają. Jednak do podjęcia ostatecznej decyzji potrzebny jest odpowiedni test statystyczny - Jarque-Bera."
   ]
  },
  {
   "cell_type": "markdown",
   "metadata": {},
   "source": [
    "## 3.3 Współczynnik skośności, kurtozy i statystyki J-B dla reszt"
   ]
  },
  {
   "cell_type": "code",
   "execution_count": 42,
   "metadata": {},
   "outputs": [],
   "source": [
    "import statsmodels.stats.api as sms"
   ]
  },
  {
   "cell_type": "code",
   "execution_count": 43,
   "metadata": {},
   "outputs": [
    {
     "name": "stdout",
     "output_type": "stream",
     "text": [
      "Współczynnik skośności = -0.7728914477004682\n",
      "Współczynnik kurtuozy = 4.6968662207759495\n",
      "Statystyka Jarque-Bera = 25.02679872189164\n",
      "p-value statystyki Jarque-Bera = 3.677051458869468e-06\n"
     ]
    }
   ],
   "source": [
    "test7_1 = sms.jarque_bera(m7.resid)\n",
    "test7_1\n",
    "print(f'Współczynnik skośności = {test7_1[2]}')\n",
    "print(f'Współczynnik kurtuozy = {test7_1[3]}')\n",
    "print(f'Statystyka Jarque-Bera = {test7_1[0]}')\n",
    "print(f'p-value statystyki Jarque-Bera = {test7_1[1]}')"
   ]
  },
  {
   "cell_type": "markdown",
   "metadata": {},
   "source": [
    "Na podstawie powyższych obliczeń możemy odrzucić H0 mówiącą o normalności rozkładu reszt (p-value < 0.05)"
   ]
  },
  {
   "cell_type": "markdown",
   "metadata": {},
   "source": [
    "## 3.4 Poprawność formy funkcyjnej"
   ]
  },
  {
   "cell_type": "code",
   "execution_count": 46,
   "metadata": {},
   "outputs": [],
   "source": [
    "import statsmodels.api as sm\n",
    "import warnings\n",
    "warnings.filterwarnings(\"ignore\")"
   ]
  },
  {
   "cell_type": "code",
   "execution_count": 47,
   "metadata": {},
   "outputs": [
    {
     "data": {
      "text/plain": [
       "<class 'statsmodels.stats.contrast.ContrastResults'>\n",
       "<F test: F=array([[0.96850749]]), p=0.3830144867710569, df_denom=105, df_num=2>"
      ]
     },
     "execution_count": 47,
     "metadata": {},
     "output_type": "execute_result"
    }
   ],
   "source": [
    "sms.linear_reset(m7, power=3, use_f=True)"
   ]
  },
  {
   "cell_type": "markdown",
   "metadata": {},
   "source": [
    "H0 -- poprawna postać funkcyjna modelu\n",
    "\n",
    "H1 -- brak liniowej postaci funkcyjnej modelu"
   ]
  },
  {
   "cell_type": "markdown",
   "metadata": {},
   "source": [
    "p-value = 0.3830, brak podstaw do odrzucenia H0 mówiącej o poprawnej postaci fukncyjnej modelu"
   ]
  },
  {
   "cell_type": "markdown",
   "metadata": {},
   "source": [
    "### Test Chowa"
   ]
  },
  {
   "cell_type": "code",
   "execution_count": 50,
   "metadata": {},
   "outputs": [],
   "source": [
    "m7ca = 'np.log(Crime) ~ Unemployment + EDU + EDUU + C(South_America) + C(North_America) + C(Oceania)'\n",
    "m7ca = smf.ols(m7ca, data[data.Death==1]).fit()"
   ]
  },
  {
   "cell_type": "code",
   "execution_count": 51,
   "metadata": {},
   "outputs": [],
   "source": [
    "m7cb = 'np.log(Crime) ~ Unemployment + EDU + EDUU + C(South_America) + C(North_America) + C(Oceania)'\n",
    "m7cb = smf.ols(m7cb, data[data.Death==0]).fit()"
   ]
  },
  {
   "cell_type": "code",
   "execution_count": 52,
   "metadata": {},
   "outputs": [],
   "source": [
    "def f_chow(model, model_a, model_b, alfa=0.05):\n",
    "    '''Test Chowa dla dwóch populacji, gdzie:\n",
    "    \n",
    "    model - model pierwotny\n",
    "    model_a - pierwsza z populacji\n",
    "    model_b - druga z populacji\n",
    "    alfa - poziom istotności\n",
    "    \n",
    "    Funkcja zwraca obiekt tuple zawierający:\n",
    "     - wartość statystyki F\n",
    "     - wartość krytyczna F\n",
    "     - p-value testu'''\n",
    "    \n",
    "    K = len(m7.params)\n",
    "    licznik = (model.ssr - model_a.ssr - model_b.ssr) / K\n",
    "    mianownik = (model_a.ssr + model_b.ssr)/(model.nobs - 2*K)\n",
    "    \n",
    "    F = licznik / mianownik\n",
    "    \n",
    "    krytyczna = scipy.stats.f.ppf(q=1-alfa, dfn=K, dfd=(model.nobs - 2*K))\n",
    "    \n",
    "    p_value = 1 - scipy.stats.f.cdf(F, dfn=K, dfd=(model.nobs - 2*K))\n",
    "    return F, krytyczna, p_value"
   ]
  },
  {
   "cell_type": "code",
   "execution_count": 53,
   "metadata": {},
   "outputs": [
    {
     "name": "stdout",
     "output_type": "stream",
     "text": [
      "\u001b[1mTest Chowa:\u001b[0m\n",
      "\n",
      "Wartość statysyki F: 1.6234449567692677\n",
      "Wartość krytyczna F: 2.102513294552775\n",
      "p-value: 0.13739363307532393\n"
     ]
    }
   ],
   "source": [
    "x = f_chow(m7, m7ca, m7cb)\n",
    "print(\"\\033[1m\" + 'Test Chowa:' + \"\\033[0m\" +\n",
    "f'''\\n\\nWartość statysyki F: {x[0]}\n",
    "Wartość krytyczna F: {x[1]}\n",
    "p-value: {x[2]}''')"
   ]
  },
  {
   "cell_type": "markdown",
   "metadata": {},
   "source": [
    "H0 - parametry są takie same w podpróbkach\n",
    "\n",
    "H1 - parametry różnią się w podpróbkac"
   ]
  },
  {
   "cell_type": "markdown",
   "metadata": {},
   "source": [
    "p-value testu Chowa wynosi 0.1374, więc nie mamy podstaw do odrzucenia H0 - nie występują istotne różnice oszacowań parametrów w podgrupach."
   ]
  },
  {
   "cell_type": "markdown",
   "metadata": {},
   "source": [
    "## 3.5 Wykres zależności pomiędzy wartościami dopasowanymi i resztami"
   ]
  },
  {
   "cell_type": "code",
   "execution_count": 54,
   "metadata": {},
   "outputs": [],
   "source": [
    "from pylab import *"
   ]
  },
  {
   "cell_type": "code",
   "execution_count": 55,
   "metadata": {},
   "outputs": [
    {
     "data": {
      "image/png": "[encoded data removed]",
      "text/plain": [
       "<Figure size 576x360 with 1 Axes>"
      ]
     },
     "metadata": {},
     "output_type": "display_data"
    }
   ],
   "source": [
    "plt.rc('figure', figsize=(8,5))\n",
    "plot_lm_1 = plt.figure()\n",
    "plot_lm_1.axes[0] = sns.residplot(x=m7.fittedvalues, y=m7.resid, data=dane,\n",
    "                          lowess=True,\n",
    "                          scatter_kws={'alpha': 0.9},\n",
    "                          line_kws={'color': 'red', 'lw': 1.2, 'alpha': 1})\n",
    "\n",
    "plot_lm_1.axes[0].set_title('Wartości dopasowane a reszty')\n",
    "plot_lm_1.axes[0].set_xlabel('Wartości dopasowane')\n",
    "plot_lm_1.axes[0].set_ylabel('Reszty');"
   ]
  },
  {
   "cell_type": "markdown",
   "metadata": {},
   "source": [
    "Powyższy wykres przedstawia zależność między resztami a wartościamy dopasowanymi modelu. Na podstawie tego wykresu możemy podejrzewać, że w modelu występuje Homoskedastyczność (wariancja błędu losowego jest stała).\n",
    "\n"
   ]
  },
  {
   "cell_type": "markdown",
   "metadata": {},
   "source": [
    "### 3.9 Wartości dzwigni, standaryzowanych reszta oraz odległości Cook'a."
   ]
  },
  {
   "cell_type": "code",
   "execution_count": 58,
   "metadata": {},
   "outputs": [
    {
     "data": {
      "image/png": "[encoded data removed]",
      "text/plain": [
       "<Figure size 1080x864 with 1 Axes>"
      ]
     },
     "metadata": {},
     "output_type": "display_data"
    }
   ],
   "source": [
    "plt.rc('figure', figsize = (15,12))\n",
    "sm.graphics.influence_plot(m7, criterion = 'Cooks')\n",
    "sns.regplot(m7.get_influence().hat_matrix_diag, m7.get_influence().resid_studentized_internal,\n",
    "              scatter=False,\n",
    "              ci=False,\n",
    "              lowess=True,\n",
    "              line_kws={'color': 'red', 'lw': 1.2, 'alpha': 0.8})\n",
    "plt.axvline(x=2*len(m7.params)/m7.nobs, color='red')\n",
    "plt.axhline(y=2, color='purple')\n",
    "plt.axhline(y=-2, color='purple')\n",
    "show()"
   ]
  },
  {
   "cell_type": "markdown",
   "metadata": {},
   "source": [
    "Na powyższym wykresie zostały przedstawione wartosci dzwigni oraz standaryzowanych reszt dla wszystkich obserwacji. Wielkość obserwacji zależy od odległości Cooka danej obserwacji. Powyżej górnej i poniżej dolnej fioletowej linii znajdują się obserwacje, które możemy uznać za nietypowe ze względu na wartość reszt. Na prawo od czerwonej pionowej linii znajdują się obserwacje nietypowe ze względu na wysoką wartość dźwigni. Czerwona linia w środku przedstawia linię trendu"
   ]
  },
  {
   "cell_type": "code",
   "execution_count": 59,
   "metadata": {},
   "outputs": [
    {
     "data": {
      "image/png": "[encoded data removed]",
      "text/plain": [
       "<Figure size 864x720 with 1 Axes>"
      ]
     },
     "metadata": {},
     "output_type": "display_data"
    }
   ],
   "source": [
    "plt.rc('figure', figsize = (12,10))\n",
    "sm.graphics.plot_leverage_resid2(m7)\n",
    "plt.axvline(x=4, color='red')\n",
    "plt.axhline(y=2*len(m7.params)/m7.nobs, color='red')\n",
    "show()"
   ]
  },
  {
   "cell_type": "markdown",
   "metadata": {},
   "source": [
    "Bazując no powyższych wykresach, za obserwacje nietypowe możemy uznać: Fiji, Australia, Nową Zelandia, Etiopia, Papua Nowa Gwinea, Argentyna, Gujana oraz Haiti, ponieważ mają wysokie wartości dźwigni.\n",
    "\n",
    "Dodatkowo spośród tych nietypowych obserwacji możemy wybrać te, które nie pasują do naszej regresji, czyli te które mają wysoką wartość wystandaryzowanych reszt, a są nimi: Sudan, Etiopia i Argentyna.\n",
    "\n",
    "W celu dokładniejszego zbadania obserwacji nietypowych oraz zbadania siły wpływu tych obserwacji przyjrzeliśmy się wartościom liczbowym dźwigni, wystandaryzowanych reszt i odległościom Cooka."
   ]
  },
  {
   "cell_type": "code",
   "execution_count": 61,
   "metadata": {},
   "outputs": [],
   "source": [
    "import statsmodels"
   ]
  },
  {
   "cell_type": "code",
   "execution_count": 63,
   "metadata": {},
   "outputs": [
    {
     "data": {
      "text/html": [
       "<div>\n",
       "<style scoped>\n",
       "    .dataframe tbody tr th:only-of-type {\n",
       "        vertical-align: middle;\n",
       "    }\n",
       "\n",
       "    .dataframe tbody tr th {\n",
       "        vertical-align: top;\n",
       "    }\n",
       "\n",
       "    .dataframe thead th {\n",
       "        text-align: right;\n",
       "    }\n",
       "</style>\n",
       "<table border=\"1\" class=\"dataframe\">\n",
       "  <thead>\n",
       "    <tr style=\"text-align: right;\">\n",
       "      <th></th>\n",
       "      <th>Odległośći Cooka</th>\n",
       "      <th>Dźwignie</th>\n",
       "      <th>Standaryzowane reszty</th>\n",
       "    </tr>\n",
       "    <tr>\n",
       "      <th>Country</th>\n",
       "      <th></th>\n",
       "      <th></th>\n",
       "      <th></th>\n",
       "    </tr>\n",
       "  </thead>\n",
       "  <tbody>\n",
       "    <tr>\n",
       "      <th>Sudan</th>\n",
       "      <td>0.150361</td>\n",
       "      <td>0.287066</td>\n",
       "      <td>-1.629224</td>\n",
       "    </tr>\n",
       "    <tr>\n",
       "      <th>Rwanda</th>\n",
       "      <td>0.078950</td>\n",
       "      <td>0.044274</td>\n",
       "      <td>-3.647106</td>\n",
       "    </tr>\n",
       "    <tr>\n",
       "      <th>South Africa</th>\n",
       "      <td>0.049470</td>\n",
       "      <td>0.109804</td>\n",
       "      <td>1.690008</td>\n",
       "    </tr>\n",
       "    <tr>\n",
       "      <th>Turkmenistan</th>\n",
       "      <td>0.046893</td>\n",
       "      <td>0.027866</td>\n",
       "      <td>-3.564279</td>\n",
       "    </tr>\n",
       "    <tr>\n",
       "      <th>Qatar</th>\n",
       "      <td>0.040510</td>\n",
       "      <td>0.041162</td>\n",
       "      <td>-2.640891</td>\n",
       "    </tr>\n",
       "    <tr>\n",
       "      <th>Ethiopia</th>\n",
       "      <td>0.038899</td>\n",
       "      <td>0.273705</td>\n",
       "      <td>-0.848916</td>\n",
       "    </tr>\n",
       "    <tr>\n",
       "      <th>Nicaragua</th>\n",
       "      <td>0.030505</td>\n",
       "      <td>0.082218</td>\n",
       "      <td>-1.554076</td>\n",
       "    </tr>\n",
       "    <tr>\n",
       "      <th>Georgia</th>\n",
       "      <td>0.023385</td>\n",
       "      <td>0.038021</td>\n",
       "      <td>-2.065937</td>\n",
       "    </tr>\n",
       "    <tr>\n",
       "      <th>Argentina</th>\n",
       "      <td>0.021835</td>\n",
       "      <td>0.124322</td>\n",
       "      <td>1.037959</td>\n",
       "    </tr>\n",
       "    <tr>\n",
       "      <th>Afghanistan</th>\n",
       "      <td>0.020757</td>\n",
       "      <td>0.071925</td>\n",
       "      <td>1.374925</td>\n",
       "    </tr>\n",
       "  </tbody>\n",
       "</table>\n",
       "</div>"
      ],
      "text/plain": [
       "              Odległośći Cooka  Dźwignie  Standaryzowane reszty\n",
       "Country                                                        \n",
       "Sudan                 0.150361  0.287066              -1.629224\n",
       "Rwanda                0.078950  0.044274              -3.647106\n",
       "South Africa          0.049470  0.109804               1.690008\n",
       "Turkmenistan          0.046893  0.027866              -3.564279\n",
       "Qatar                 0.040510  0.041162              -2.640891\n",
       "Ethiopia              0.038899  0.273705              -0.848916\n",
       "Nicaragua             0.030505  0.082218              -1.554076\n",
       "Georgia               0.023385  0.038021              -2.065937\n",
       "Argentina             0.021835  0.124322               1.037959\n",
       "Afghanistan           0.020757  0.071925               1.374925"
      ]
     },
     "execution_count": 63,
     "metadata": {},
     "output_type": "execute_result"
    }
   ],
   "source": [
    "x = statsmodels.stats.outliers_influence.OLSInfluence(m7)\n",
    "a = x.summary_frame()\n",
    "cook = a[['cooks_d', 'hat_diag', 'student_resid']].sort_values(by=['cooks_d'], ascending=False).head(10)\n",
    "cook['Odległośći Cooka'] = cook.cooks_d\n",
    "cook['Dźwignie'] = cook.hat_diag\n",
    "cook['Standaryzowane reszty'] = cook.student_resid\n",
    "cook.iloc[:,[3,4,5]]"
   ]
  },
  {
   "cell_type": "markdown",
   "metadata": {},
   "source": [
    "Zgodnie z wykładem, celu wytypowania obserwacji nietypowych należy znaleźć takie, których dźwignia jest wyższa niż 0,149 dodatkowo moduł wystandaryzowanej reszty jest wyższy niż 2 oraz odległość Cooka wyższa niż 0,035.\n",
    "\n",
    "Jednak żadna z naszych obserwacji nie spełnia tego warunku. Dlatego, w teorii nasz model nie powinien mieć problemów z obserwacjami nietypowymi. Pomimo to naszym zdaniem powinniśmy się przyjrzeć obserwacjom: Sudan i South Africa ze względu na zbliżone wartości do tych granicznych."
   ]
  },
  {
   "cell_type": "code",
   "execution_count": null,
   "metadata": {},
   "outputs": [],
   "source": []
  }
 ],
 "metadata": {
  "hide_input": false,
  "kernelspec": {
   "display_name": "Python 3",
   "language": "python",
   "name": "python3"
  },
  "language_info": {
   "codemirror_mode": {
    "name": "ipython",
    "version": 3
   },
   "file_extension": ".py",
   "mimetype": "text/x-python",
   "name": "python",
   "nbconvert_exporter": "python",
   "pygments_lexer": "ipython3",
   "version": "3.8.5"
  }
 },
 "nbformat": 4,
 "nbformat_minor": 4
}
